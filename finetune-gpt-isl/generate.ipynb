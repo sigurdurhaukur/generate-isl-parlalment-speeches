{
 "cells": [
  {
   "cell_type": "code",
   "execution_count": 2,
   "metadata": {},
   "outputs": [],
   "source": [
    "from transformers import GPT2LMHeadModel, GPT2Tokenizer\n",
    "\n",
    "# Load the trained model\n",
    "model_path = \"./jonas/checkpoint-8000\"\n",
    "model = GPT2LMHeadModel.from_pretrained(model_path)\n",
    "model.eval()\n",
    "\n",
    "# Load the tokenizer\n",
    "tokenizer = GPT2Tokenizer.from_pretrained(\"../ice-tokenizer-large\")\n",
    "tokenizer.pad_token_id = tokenizer.eos_token_id\n",
    "\n",
    "# left padding\n",
    "tokenizer.padding_side = \"left\""
   ]
  },
  {
   "cell_type": "code",
   "execution_count": 30,
   "metadata": {},
   "outputs": [
    {
     "name": "stderr",
     "output_type": "stream",
     "text": [
      "Setting `pad_token_id` to `eos_token_id`:0 for open-end generation.\n"
     ]
    },
    {
     "data": {
      "text/plain": [
       "[{'generated_text': 'rga '}]"
      ]
     },
     "execution_count": 30,
     "metadata": {},
     "output_type": "execute_result"
    }
   ],
   "source": [
    "from transformers import TextGenerationPipeline, pipeline\n",
    "\n",
    "\n",
    "generator = pipeline(\"text-generation\", model=model, tokenizer=tokenizer)\n",
    "outputs = generator(\n",
    "    \"My tart needs some\", num_return_sequences=1, return_full_text=False\n",
    ")\n",
    "outputs\n",
    "\n",
    "\n",
    "# Create a text generation pipeline\n",
    "# pipeline = TextGenerationPipeline(model=model, tokenizer=tokenizer)\n",
    "\n",
    "# Generate text\n",
    "\n",
    "# generated_text = \"\"\n",
    "# while len(generated_text) < 100:\n",
    "#     generated_text += pipeline(\n",
    "#         generated_text,\n",
    "#         max_new_tokens=200,\n",
    "#         num_return_sequences=1,\n",
    "#         repetition_penalty=1.8,\n",
    "#         top_k=10,\n",
    "#         top_p=0.90,\n",
    "#         temperature=1.2,\n",
    "#     )[0][\"generated_text\"] + \"\\n\"\n",
    "\n",
    "# print(generated_text)\n",
    "\n",
    "# generated_text = pipeline(\"\", max_new_tokens= 200, num_return_sequences=2, temperature=1.1)\n",
    "# generated_text = pipeline(\n",
    "#     \"\",\n",
    "#     max_length=512,\n",
    "#     num_return_sequences=1,\n",
    "#     repetition_penalty=1.3,\n",
    "#     top_k=50,\n",
    "#     top_p=0.95,\n",
    "#     temperature=1.1,\n",
    "# )\n",
    "\n",
    "# Print the generated text\n",
    "# print(generated_text[0][\"generated_text\"])"
   ]
  },
  {
   "cell_type": "code",
   "execution_count": 45,
   "metadata": {},
   "outputs": [
    {
     "name": "stdout",
     "output_type": "stream",
     "text": [
      "\n",
      "LOFSÖNGUR     (Claus Frimann)\n",
      "\n",
      "    \n"
     ]
    }
   ],
   "source": [
    "from transformers import AutoTokenizer, AutoModelForCausalLM\n",
    "import transformers\n",
    "import torch\n",
    "\n",
    "model_id = \"./jonas/checkpoint-2000\"\n",
    "tokenizer = AutoTokenizer.from_pretrained(\"../ice-tokenizer-large/\")\n",
    "model = transformers.AutoModelForCausalLM.from_pretrained(\n",
    "    model_id, device_map=\"auto\", torch_dtype=torch.float16\n",
    ")\n",
    "\n",
    "model.eval()\n",
    "# print(model)\n",
    "hg_pipeline = transformers.pipeline(\n",
    "    model=model,\n",
    "    tokenizer=tokenizer,\n",
    "    return_full_text=True,\n",
    "    task=\"text-generation\",\n",
    "    temperature=1.5,\n",
    "    max_new_tokens=512,\n",
    "    repetition_penalty=1.1,\n",
    "    pad_token_id=tokenizer.eos_token_id,\n",
    ")\n",
    "\n",
    "prompt = \"\"\"\n",
    "LOFSÖNGUR     (Claus Frimann)\\n\n",
    "    \"\"\"\n",
    "output = hg_pipeline(prompt)\n",
    "print(output[0][\"generated_text\"])"
   ]
  }
 ],
 "metadata": {
  "kernelspec": {
   "display_name": "base",
   "language": "python",
   "name": "python3"
  },
  "language_info": {
   "codemirror_mode": {
    "name": "ipython",
    "version": 3
   },
   "file_extension": ".py",
   "mimetype": "text/x-python",
   "name": "python",
   "nbconvert_exporter": "python",
   "pygments_lexer": "ipython3",
   "version": "3.9.12"
  }
 },
 "nbformat": 4,
 "nbformat_minor": 2
}
