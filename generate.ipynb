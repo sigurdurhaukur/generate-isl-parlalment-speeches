{
 "cells": [
  {
   "cell_type": "code",
   "execution_count": 1,
   "metadata": {},
   "outputs": [
    {
     "name": "stdout",
     "output_type": "stream",
     "text": [
      "[2023-11-21 13:59:11,886] [INFO] [real_accelerator.py:158:get_accelerator] Setting ds_accelerator to cuda (auto detect)\n"
     ]
    },
    {
     "name": "stderr",
     "output_type": "stream",
     "text": [
      "2023-11-21 13:59:14.814998: I tensorflow/core/util/port.cc:110] oneDNN custom operations are on. You may see slightly different numerical results due to floating-point round-off errors from different computation orders. To turn them off, set the environment variable `TF_ENABLE_ONEDNN_OPTS=0`.\n",
      "2023-11-21 13:59:15.215620: I tensorflow/core/platform/cpu_feature_guard.cc:182] This TensorFlow binary is optimized to use available CPU instructions in performance-critical operations.\n",
      "To enable the following instructions: AVX2 AVX_VNNI FMA, in other operations, rebuild TensorFlow with the appropriate compiler flags.\n",
      "2023-11-21 13:59:15.932279: W tensorflow/compiler/tf2tensorrt/utils/py_utils.cc:38] TF-TRT Warning: Could not find TensorRT\n"
     ]
    }
   ],
   "source": [
    "from transformers import GPT2LMHeadModel, GPT2Tokenizer\n",
    "\n",
    "# Load the trained model\n",
    "model_path = \"icegpt-xl/checkpoint-2000/\"\n",
    "model = GPT2LMHeadModel.from_pretrained(model_path)\n",
    "model.eval()\n",
    "\n",
    "# Load the tokenizer\n",
    "tokenizer = GPT2Tokenizer.from_pretrained(\"./ice-tokenizer-large\")\n",
    "tokenizer.pad_token_id = tokenizer.eos_token_id\n",
    "\n",
    "# left padding\n",
    "tokenizer.padding_side = \"left\""
   ]
  },
  {
   "cell_type": "code",
   "execution_count": 2,
   "metadata": {},
   "outputs": [
    {
     "name": "stdout",
     "output_type": "stream",
     "text": [
      "model size:  451712400\n"
     ]
    }
   ],
   "source": [
    "# model size\n",
    "print(\"model size: \", model.num_parameters())"
   ]
  },
  {
   "cell_type": "code",
   "execution_count": 48,
   "metadata": {},
   "outputs": [
    {
     "name": "stderr",
     "output_type": "stream",
     "text": [
      "Setting `pad_token_id` to `eos_token_id`:0 for open-end generation.\n"
     ]
    },
    {
     "name": "stdout",
     "output_type": "stream",
     "text": [
      "Það kviknaði í laugardalshöllini í gærmorgun. Hefur verið að banka og til að stjórnveldir á Suðurnesjan en hann var þetta sem komast út í sér í gær, en það eru þeir að spyrja sýningu í síðasta ári. Fyrir þessu sem hefur verið að sé þeir að sé þeir að sé þeir að sé þeir að sé þeir að sé þeir að sé þeir að sé þeir þeir að sé þeir þeir að sé þeir þeir að sé þeir að sé þeir þeir að sé þeir þeir að sé þeir að sé þeir að sé þeir að sé þeir að sé þeir að sé þeir að sé þeir \n"
     ]
    }
   ],
   "source": [
    "from transformers import TextGenerationPipeline\n",
    "\n",
    "# Create a text generation pipeline\n",
    "pipeline = TextGenerationPipeline(model=model, tokenizer=tokenizer)\n",
    "\n",
    "# Generate text\n",
    "# generated_text = pipeline(\"\", max_length=512, num_return_sequences=1, repetition_penalty=1.2, top_k=50, top_p=0.95, temperature=1.1)\n",
    "generated_text = pipeline(\"Það kviknaði í laugardalshöllini í gærmorgun\", max_length=512, num_return_sequences=1, repetition_penalty=1.3, top_k=50, top_p=0.95, temperature=1.1)\n",
    "\n",
    "# Print the generated text\n",
    "print(generated_text[0]['generated_text'])"
   ]
  },
  {
   "cell_type": "code",
   "execution_count": 68,
   "metadata": {
    "scrolled": true
   },
   "outputs": [
    {
     "name": "stderr",
     "output_type": "stream",
     "text": [
      "Setting `pad_token_id` to `eos_token_id`:0 for open-end generation.\n"
     ]
    },
    {
     "name": "stdout",
     "output_type": "stream",
     "text": [
      "Fréttir Innlent    Samkvæmt hefur staðið í dag að hann hafi verið aðstoðarmanns hafa verist á því aðdreifa í samfélaginu. Þetta er samkveiðiöflutning hafði veitt í viðbúa og haft verði í húsinu í gær.\n"
     ]
    }
   ],
   "source": [
    "from transformers import TextStreamer\n",
    "import torch\n",
    "\n",
    "# set seed\n",
    "# torch.manual_seed(2112)\n",
    "\n",
    "\n",
    "inputs = tokenizer([\"Fréttir\"], return_tensors=\"pt\")\n",
    "streamer = TextStreamer(model=model, tokenizer=tokenizer)\n",
    "\n",
    "# generation_args = {\n",
    "#     \"max_length\": 500,\n",
    "#     \"num_return_sequences\": 1,\n",
    "#     \"repetition_penalty\": 1.4,\n",
    "#     \"top_k\": 50,\n",
    "#     \"top_p\": 0.95,\n",
    "#     \"temperature\": 1.0,\n",
    "# }\n",
    "generation_args = {\n",
    "    \"max_new_tokens\": 200,            # Maximum length of the generated output\n",
    "    \"num_return_sequences\": 1,    # Generate 3 different story variations\n",
    "    \"temperature\": 1.2,           # Medium randomness for creativity\n",
    "    \"top_k\": 50,                  # Consider top 50 probable tokens at each step\n",
    "    \"top_p\": 0.1,                # Nucleus sampling to control diversity\n",
    "    \"no_repeat_ngram_size\": 5,    # Avoid repeating 5-grams\n",
    "    \"repetition_penalty\": 1.1     # Mildly discourage repetition\n",
    "}\n",
    "\n",
    "\n",
    "# generate text\n",
    "generated_text = model.generate(**inputs, **generation_args, streamer=streamer)"
   ]
  },
  {
   "cell_type": "code",
   "execution_count": 44,
   "metadata": {},
   "outputs": [
    {
     "ename": "SyntaxError",
     "evalue": "invalid syntax (2729857889.py, line 1)",
     "output_type": "error",
     "traceback": [
      "\u001b[0;36m  Cell \u001b[0;32mIn[44], line 1\u001b[0;36m\u001b[0m\n\u001b[0;31m    Fréttir Innlent    „Ég er alveg skipulegt á heimili þar sem ég erfitt að sjá þessum sem,“ segir Sigurbjörn Gunnarsson semdi síðastliðinn í dag. Hann segist hafa sér stað í samtali við Vesturbæjar í gær en það var sýnt árið 1999 í heildinni þar. Þetta sem: „Við erum aðrir þeirra sem? Það er ótrúlegt, þau semjanlegt er sé aðeins séu séð sést á ólíkum og þakkláttur þegar þal er einnig aðstoð þeim segja aðgerðarlega þekktur sem. Þau eru þem þeld aðfara þaga á séns í fyrra sínu sex\u001b[0m\n\u001b[0m            ^\u001b[0m\n\u001b[0;31mSyntaxError\u001b[0m\u001b[0;31m:\u001b[0m invalid syntax\n"
     ]
    }
   ],
   "source": [
    "Fréttir Innlent    „Ég er alveg skipulegt á heimili þar sem ég erfitt að sjá þessum sem,“ segir Sigurbjörn Gunnarsson semdi síðastliðinn í dag. Hann segist hafa sér stað í samtali við Vesturbæjar í gær en það var sýnt árið 1999 í heildinni þar. Þetta sem: „Við erum aðrir þeirra sem? Það er ótrúlegt, þau semjanlegt er sé aðeins séu séð sést á ólíkum og þakkláttur þegar þal er einnig aðstoð þeim segja aðgerðarlega þekktur sem. Þau eru þem þeld aðfara þaga á séns í fyrra sínu sex \n",
    "\n",
    "Fréttir Innlent    „Ég er alveg skipulegt á heimili þar sem ég erfitt að sjá þessum sem,“ segir Sigurbjörn Gunnarsson semdi síðastliðinn í dag. Hann segist hafa sér stað í samtali við Vesturbæjar í gær en það var sýnt árið 1999 í heildinni þar. Þetta sem: „Við erum aðrir þeirra sem? Það er ótrúlegt, þau semjanlegt er sé aðeins séu séð sést á ólíkum og þakkláttur þegar þal er einnig aðstoð þeim segja aðgerðarlega þekktur sem. Þau eru þem þeld aðfara þaga á séns í fyrra sínu sex \n",
    "\n",
    "\n",
    "Fréttir Erlent    Í dag er að sjálfsmenn heimsóknarmálinn og heimili í dag. Hann var það sem hann hefur verið í síðustu viku á heimavelli í dauðaborginni í dagleiknum. Söguleikur hefust veritt í heiminum í dankeppni íslenskum úrvalsdeildinni íborginu í dadeildina. Það er þaþð erfitt að hann verði í húsið á húsinu íboðinu þar sem þeir hann er í hverjum heim þess að þeirra hafi veri í stað íbúðinni. Þau er á því að koma í hann í sumar og hefuru verinlega í sjónvarpsþættinum þegar hann segir að \n",
    "\n",
    "Samkvæmt hefur staðfest á Íslandi í dag. Þetta er það sem er á þessu ári og þar sem þaþykir eru þaí á óvenjulegum á ári. Hún er í samvinnu við Vestfirði Óskars Ásgeirssonar, sem hefust á Vestfirlauginum í daglegu á Ásgötum íslenska boltanum íþróttahúsinu á Þýskalandi. Þett er óvenjanlegt á íslandi.<|endoftext|>\n",
    "\n",
    "Samkvæmt hefur staðfest í dag og þeirra að hafa verið að skipulagjör á Íslandi. Hún var í síðasta ári í gær í gegnum í gorgun í greininum íslum og þar sem hafaði veritt að þessu að fylgjast á þessari sem þeir að bæja á síþróttamóti í sumarið í samtali við því að verða í skýrslu á ári. Þetta er þeira aðstöðu þeir, eru þeirar að með það aþví. Við er að gera þeiru aðstoðar þeir. Á síá þvöldu aðgerðir þeirti að erfið allt aðgengi þeirma sem er all\n",
    "\n",
    "Fréttir Innlent    Samkvæmt hefur staðið í dag að hann hafi verið á landi þar sem hann var í gær. Þetta kemur fram í daglegu í daustu viku. Í dag var það hafði verslunarmenn í samtali við þess að sögn hafþði var á ljósmyndir að þaí versku út í búðinu og hafá veritt í húsið þar að versa í heiminum. Það var óhægt að gera þessa þegar hann skoraði hann þar með því að fá hann mörgum í síðustu viku og haldinn verður í hverjum þegir hann er þaþð vegna þeir hann. Þau veríslenskum í handtekinn í gegnum þvær \n",
    "\n"
   ]
  },
  {
   "cell_type": "code",
   "execution_count": null,
   "metadata": {},
   "outputs": [],
   "source": []
  },
  {
   "cell_type": "code",
   "execution_count": null,
   "metadata": {},
   "outputs": [],
   "source": []
  }
 ],
 "metadata": {
  "kernelspec": {
   "display_name": "Python 3 (ipykernel)",
   "language": "python",
   "name": "python3"
  },
  "language_info": {
   "codemirror_mode": {
    "name": "ipython",
    "version": 3
   },
   "file_extension": ".py",
   "mimetype": "text/x-python",
   "name": "python",
   "nbconvert_exporter": "python",
   "pygments_lexer": "ipython3",
   "version": "3.9.12"
  }
 },
 "nbformat": 4,
 "nbformat_minor": 2
}
