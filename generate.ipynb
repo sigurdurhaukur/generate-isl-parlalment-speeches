{
 "cells": [
  {
   "cell_type": "code",
   "execution_count": 45,
   "metadata": {},
   "outputs": [],
   "source": [
    "from transformers import GPT2LMHeadModel, GPT2Tokenizer\n",
    "\n",
    "# Load the trained model\n",
    "model_path = \"./models-that-work/ice-gpt2-common-crawl\"\n",
    "model = GPT2LMHeadModel.from_pretrained(model_path)\n",
    "model.eval()\n",
    "\n",
    "# Load the tokenizer\n",
    "tokenizer = GPT2Tokenizer.from_pretrained(\"./models-that-work/ice-tokenizer\")\n",
    "tokenizer.pad_token_id = tokenizer.eos_token_id\n",
    "\n",
    "# left padding\n",
    "tokenizer.padding_side = \"left\""
   ]
  },
  {
   "cell_type": "code",
   "execution_count": 35,
   "metadata": {},
   "outputs": [
    {
     "name": "stderr",
     "output_type": "stream",
     "text": [
      "Setting `pad_token_id` to `eos_token_id`:0 for open-end generation.\n"
     ]
    },
    {
     "name": "stdout",
     "output_type": "stream",
     "text": [
      "Það kviknaði í laugardalshöllini í gærmorgun og var þetta átján ára stelpan sem fór fram úr broddi. Hér kom ýmislegt sem ég heyrði í skólanum, en það var þó ekki í skólanum. Svo virðist sem það hafi verið á Íslandi þar sem ég hef verið að spyrja hvað ég hef verið að gerast í þessum mánuði. En það eru þó ekki þeir sem hafa verið að spyrja hvað ég hef verið að gera í þessum mánuði. Ég hef verið að spyrja hvað ég hef verið að gera í þessum mánuði og það er ekki í samr�\n"
     ]
    }
   ],
   "source": [
    "from transformers import TextGenerationPipeline\n",
    "\n",
    "# Create a text generation pipeline\n",
    "pipeline = TextGenerationPipeline(model=model, tokenizer=tokenizer)\n",
    "\n",
    "# Generate text\n",
    "# generated_text = pipeline(\"\", max_length=512, num_return_sequences=1, repetition_penalty=1.2, top_k=50, top_p=0.95, temperature=1.1)\n",
    "generated_text = pipeline(\"Það kviknaði í laugardalshöllini í gærmorgun\", max_length=512, num_return_sequences=1, repetition_penalty=1.3, top_k=50, top_p=0.95, temperature=1.1)\n",
    "\n",
    "# Print the generated text\n",
    "print(generated_text[0]['generated_text'])"
   ]
  },
  {
   "cell_type": "code",
   "execution_count": 46,
   "metadata": {
    "scrolled": true
   },
   "outputs": [],
   "source": [
    "from transformers import TextStreamer\n",
    "import torch\n",
    "\n",
    "# set seed\n",
    "# torch.manual_seed(2112)\n",
    "\n",
    "\n",
    "inputs = tokenizer([\"E\"], return_tensors=\"pt\")\n",
    "streamer = TextStreamer(model=model, tokenizer=tokenizer)\n",
    "\n",
    "generation_args = {\n",
    "    \"max_length\": 500,\n",
    "    \"num_return_sequences\": 1,\n",
    "    \"repetition_penalty\": 1.4,\n",
    "    \"top_k\": 50,\n",
    "    \"top_p\": 0.95,\n",
    "    \"temperature\": 1.0,\n",
    "}\n",
    "\n",
    "# generate text\n",
    "generated_text = model.generate(**inputs, **generation_args, streamer=streamer)\n",
    "generated"
   ]
  },
  {
   "cell_type": "code",
   "execution_count": null,
   "metadata": {},
   "outputs": [],
   "source": []
  },
  {
   "cell_type": "code",
   "execution_count": null,
   "metadata": {},
   "outputs": [],
   "source": []
  }
 ],
 "metadata": {
  "kernelspec": {
   "display_name": "Python 3 (ipykernel)",
   "language": "python",
   "name": "python3"
  },
  "language_info": {
   "codemirror_mode": {
    "name": "ipython",
    "version": 3
   },
   "file_extension": ".py",
   "mimetype": "text/x-python",
   "name": "python",
   "nbconvert_exporter": "python",
   "pygments_lexer": "ipython3",
   "version": "3.9.12"
  }
 },
 "nbformat": 4,
 "nbformat_minor": 2
}
