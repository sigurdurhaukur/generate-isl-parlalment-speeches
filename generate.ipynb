{
 "cells": [
  {
   "cell_type": "code",
   "execution_count": 2,
   "metadata": {},
   "outputs": [],
   "source": [
    "from transformers import GPT2LMHeadModel, GPT2Tokenizer\n",
    "\n",
    "# Load the trained model\n",
    "model_path = \"icegpt-xl\"\n",
    "model = GPT2LMHeadModel.from_pretrained(model_path)\n",
    "model.eval()\n",
    "\n",
    "# Load the tokenizer\n",
    "tokenizer = GPT2Tokenizer.from_pretrained(\"./models-that-work/ice-tokenizer\")\n",
    "tokenizer.pad_token_id = tokenizer.eos_token_id\n",
    "\n",
    "# left padding\n",
    "tokenizer.padding_side = \"left\""
   ]
  },
  {
   "cell_type": "code",
   "execution_count": 3,
   "metadata": {},
   "outputs": [
    {
     "name": "stderr",
     "output_type": "stream",
     "text": [
      "Xformers is not installed correctly. If you want to use memory_efficient_attention to accelerate training use the following command to install Xformers\n",
      "pip install xformers.\n",
      "Setting `pad_token_id` to `eos_token_id`:0 for open-end generation.\n"
     ]
    },
    {
     "name": "stdout",
     "output_type": "stream",
     "text": [
      "Það kviknaði í laugardalshöllini í gærmorgun. Stjálf50dir eru vjo bska831gur og þykkja 87tast þess að þetta óh04n úr þýð103gi þá þessu þessjoa þessjoa þeirra þess þessjoi þessjoi þessjoa þessjoi þessjo þessjoi þessjoi þessjo þessjoi spurn103g50ni, þá sem hér þessu er þá þá sem þá þessu er þá þá þá þá þá þá þá þá þá þá þá þá þá þá þá þá þá þá þá þá þá þá þá þá þá þá þá þá þá þá þá þá þá þá þá þá þá þá þá þá þá þá þá þá þá þá á �\n"
     ]
    }
   ],
   "source": [
    "from transformers import TextGenerationPipeline\n",
    "\n",
    "# Create a text generation pipeline\n",
    "pipeline = TextGenerationPipeline(model=model, tokenizer=tokenizer)\n",
    "\n",
    "# Generate text\n",
    "# generated_text = pipeline(\"\", max_length=512, num_return_sequences=1, repetition_penalty=1.2, top_k=50, top_p=0.95, temperature=1.1)\n",
    "generated_text = pipeline(\"Það kviknaði í laugardalshöllini í gærmorgun\", max_length=512, num_return_sequences=1, repetition_penalty=1.3, top_k=50, top_p=0.95, temperature=1.1)\n",
    "\n",
    "# Print the generated text\n",
    "print(generated_text[0]['generated_text'])"
   ]
  },
  {
   "cell_type": "code",
   "execution_count": 4,
   "metadata": {
    "scrolled": true
   },
   "outputs": [
    {
     "name": "stderr",
     "output_type": "stream",
     "text": [
      "Setting `pad_token_id` to `eos_token_id`:0 for open-end generation.\n"
     ]
    },
    {
     "name": "stdout",
     "output_type": "stream",
     "text": [
      "Eftir Þorgessum: Stjálskyndi, Hvað G50dar103njo? Mskanir h04n bjartast og 87ð fræði þetta í Vil-A. Fyrir Briston Reykjavöru (179) Í Krist PIDCO Norvikur Jón L04dspurn103gur Til Wich S53llason Sien Sienð Sienð Sienð° Sienð Sienð Sienún Sienð Sienð Sienð Sienérsson Sienð Sienð Sienð Sienð Sienýn Sienð Sienð Sienð Sienð Sienð Sienð Sienð Sienð Sienð Sienð Sienð Sienð Sienð Sienð Sienð Sienð Sienð Sienð Sienð Sienð Sienð Sienð Sienð Sienð Sienð Sienð Sienð Sienð Sienð Sienð Sienð Sienð Sienð SA S Sienð Sienð Sienð Árn89ókn �\n"
     ]
    }
   ],
   "source": [
    "from transformers import TextStreamer\n",
    "import torch\n",
    "\n",
    "# set seed\n",
    "# torch.manual_seed(2112)\n",
    "\n",
    "\n",
    "inputs = tokenizer([\"E\"], return_tensors=\"pt\")\n",
    "streamer = TextStreamer(model=model, tokenizer=tokenizer)\n",
    "\n",
    "generation_args = {\n",
    "    \"max_length\": 500,\n",
    "    \"num_return_sequences\": 1,\n",
    "    \"repetition_penalty\": 1.4,\n",
    "    \"top_k\": 50,\n",
    "    \"top_p\": 0.95,\n",
    "    \"temperature\": 1.0,\n",
    "}\n",
    "\n",
    "# generate text\n",
    "generated_text = model.generate(**inputs, **generation_args, streamer=streamer)\n"
   ]
  }
 ],
 "metadata": {
  "kernelspec": {
   "display_name": "Python 3 (ipykernel)",
   "language": "python",
   "name": "python3"
  },
  "language_info": {
   "codemirror_mode": {
    "name": "ipython",
    "version": 3
   },
   "file_extension": ".py",
   "mimetype": "text/x-python",
   "name": "python",
   "nbconvert_exporter": "python",
   "pygments_lexer": "ipython3",
   "version": "3.9.12"
  }
 },
 "nbformat": 4,
 "nbformat_minor": 2
}
