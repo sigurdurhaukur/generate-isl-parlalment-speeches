{
 "cells": [
  {
   "cell_type": "code",
   "execution_count": 11,
   "metadata": {},
   "outputs": [],
   "source": [
    "from transformers import GPT2LMHeadModel, GPT2Tokenizer\n",
    "\n",
    "# Load the trained model\n",
    "model_path = \"ice-gpt2\"\n",
    "model = GPT2LMHeadModel.from_pretrained(model_path)\n",
    "model.eval()\n",
    "\n",
    "# Load the tokenizer\n",
    "tokenizer = GPT2Tokenizer.from_pretrained(\"ice-tokenizer\")\n",
    "tokenizer.pad_token_id = tokenizer.eos_token_id\n",
    "\n",
    "# left padding\n",
    "tokenizer.padding_side = \"left\""
   ]
  },
  {
   "cell_type": "code",
   "execution_count": 71,
   "metadata": {},
   "outputs": [
    {
     "name": "stderr",
     "output_type": "stream",
     "text": [
      "Setting `pad_token_id` to `eos_token_id`:0 for open-end generation.\n"
     ]
    },
    {
     "name": "stdout",
     "output_type": "stream",
     "text": [
      "Það kviknaði í laugardalshöllini í gærmorgun. Hann var ekki bjartsýnn á að fylgja þessu og ég held að þetta sé ekki bara óvenjulegur,“ segir Sigurður Ingi. Fréttir af því að hann hafi komist að þeirri niðurstöðu að hann hafi ekki verið úti í laugardagskvöldið þegar hann var spurður út í það hvort hann hafi verið í fríi eða í símanum. En hann hafi ekki verið í fríi í símanum þegar hann var í fríi í Laugardalshöllinni í gær. Aðspurður hvort hann hafi verið í fríi í símanum þegar hann var í fríi í s\n"
     ]
    }
   ],
   "source": [
    "from transformers import TextGenerationPipeline\n",
    "\n",
    "# Create a text generation pipeline\n",
    "pipeline = TextGenerationPipeline(model=model, tokenizer=tokenizer)\n",
    "\n",
    "# Generate text\n",
    "# generated_text = pipeline(\"\", max_length=512, num_return_sequences=1, repetition_penalty=1.2, top_k=50, top_p=0.95, temperature=1.1)\n",
    "generated_text = pipeline(\"Það kviknaði í laugardalshöllini í gærmorgun\", max_length=512, num_return_sequences=1, repetition_penalty=1.3, top_k=50, top_p=0.95, temperature=1.1)\n",
    "\n",
    "# Print the generated text\n",
    "print(generated_text[0]['generated_text'])"
   ]
  },
  {
   "cell_type": "code",
   "execution_count": 59,
   "metadata": {},
   "outputs": [
    {
     "name": "stderr",
     "output_type": "stream",
     "text": [
      "Setting `pad_token_id` to `eos_token_id`:0 for open-end generation.\n"
     ]
    },
    {
     "name": "stdout",
     "output_type": "stream",
     "text": [
      "Fréttir Veður og náttúruhamfarir Erlendar fréttir Norður-Ameríka    Skipstjórinn, sem var þungbær við Hamas í Kanada, hefur verið dæmdur í tveggja ára fangelsi. Myndin fjalli um öxl Íslamska ríkisins og Brasilíumannsins Petro Cavanic sem kom út í janúar 2013. Talið er að hann hafi verið dæmdur í tveggja ára fangelsi fyrir að hafa verið dæmdur í tveggja ára fangelsi fyrir að hafa verið dæmdur í tveggja ára fangelsi fyrir að hafa verið dæmdur í tveggja ára fangelsi fyrir að hafa verið dæmdur í tveggja ára fangelsi fy\n"
     ]
    }
   ],
   "source": [
    "from transformers import TextStreamer\n",
    "import torch\n",
    "\n",
    "# set seed\n",
    "torch.manual_seed(42)\n",
    "\n",
    "\n",
    "inputs = tokenizer([\"Fréttir Veður\"], return_tensors=\"pt\")\n",
    "streamer = TextStreamer(model=model, tokenizer=tokenizer)\n",
    "\n",
    "generation_args = {\n",
    "    \"max_length\": 500,\n",
    "    \"num_return_sequences\": 1,\n",
    "    \"repetition_penalty\": 1.4,\n",
    "    \"top_k\": 50,\n",
    "    \"top_p\": 0.95,\n",
    "    \"temperature\": 1.1,\n",
    "}\n",
    "\n",
    "# generate text\n",
    "generated_text = model.generate(**inputs, **generation_args, streamer=streamer)\n",
    "\n"
   ]
  }
 ],
 "metadata": {
  "kernelspec": {
   "display_name": "base",
   "language": "python",
   "name": "python3"
  },
  "language_info": {
   "codemirror_mode": {
    "name": "ipython",
    "version": 3
   },
   "file_extension": ".py",
   "mimetype": "text/x-python",
   "name": "python",
   "nbconvert_exporter": "python",
   "pygments_lexer": "ipython3",
   "version": "3.9.12"
  },
  "orig_nbformat": 4
 },
 "nbformat": 4,
 "nbformat_minor": 2
}
