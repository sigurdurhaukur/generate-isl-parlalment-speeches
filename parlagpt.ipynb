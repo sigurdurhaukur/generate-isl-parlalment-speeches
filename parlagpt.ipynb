{
  "cells": [
    {
      "cell_type": "code",
      "execution_count": 3,
      "id": "f4b3c292",
      "metadata": {
        "colab": {
          "base_uri": "https://localhost:8080/"
        },
        "id": "f4b3c292",
        "outputId": "8810207e-d4e4-4d83-cb35-4ebc670550fd"
      },
      "outputs": [
        {
          "output_type": "stream",
          "name": "stdout",
          "text": [
            "  % Total    % Received % Xferd  Average Speed   Time    Time     Time  Current\n",
            "                                 Dload  Upload   Total   Spent    Left  Speed\n",
            " 47  595M   47  281M    0     0  31.2M      0  0:00:19  0:00:09  0:00:10 31.3M^C\n"
          ]
        }
      ],
      "source": [
        "!curl --remote-name-all https://repository.clarin.is/repository/xmlui/bitstream/handle/20.500.12537/208{/IGC-Parla-22.10.TEI.zip}"
      ]
    },
    {
      "cell_type": "code",
      "source": [
        "!unzip /content/IGC-Parla-22.10.TEI.zip"
      ],
      "metadata": {
        "colab": {
          "base_uri": "https://localhost:8080/"
        },
        "id": "3W6GDp7AmoTE",
        "outputId": "b2a43092-afc5-42fc-c09e-813c9c2962f6"
      },
      "id": "3W6GDp7AmoTE",
      "execution_count": 4,
      "outputs": [
        {
          "output_type": "stream",
          "name": "stdout",
          "text": [
            "Archive:  /content/IGC-Parla-22.10.TEI.zip\n",
            "  End-of-central-directory signature not found.  Either this file is not\n",
            "  a zipfile, or it constitutes one disk of a multi-part archive.  In the\n",
            "  latter case the central directory and zipfile comment will be found on\n",
            "  the last disk(s) of this archive.\n",
            "unzip:  cannot find zipfile directory in one of /content/IGC-Parla-22.10.TEI.zip or\n",
            "        /content/IGC-Parla-22.10.TEI.zip.zip, and cannot find /content/IGC-Parla-22.10.TEI.zip.ZIP, period.\n"
          ]
        }
      ]
    },
    {
      "cell_type": "code",
      "source": [
        "!mv /content/IGC-Parla-22.10.TEI /content/data"
      ],
      "metadata": {
        "id": "TK9j0gQ2oiN_"
      },
      "id": "TK9j0gQ2oiN_",
      "execution_count": 5,
      "outputs": []
    },
    {
      "cell_type": "code",
      "source": [
        "!mkdir /content/processed_data"
      ],
      "metadata": {
        "id": "y3r9EVTVpT1l"
      },
      "id": "y3r9EVTVpT1l",
      "execution_count": 8,
      "outputs": []
    },
    {
      "cell_type": "code",
      "execution_count": 14,
      "id": "9063ac08",
      "metadata": {
        "id": "9063ac08"
      },
      "outputs": [],
      "source": [
        "# read xml file\n",
        "import os\n",
        "import xml.etree.ElementTree as ET\n",
        "\n",
        "all_paths = []\n",
        "for root, dirs, files in os.walk(\"/content/data/2009\"):\n",
        "    for file in files:\n",
        "        if file.endswith(\".xml\"):\n",
        "             all_paths.append(os.path.join(root, file))\n",
        "\n",
        "def read_xml(path):\n",
        "    tree = ET.parse(path)\n",
        "    root = tree.getroot()\n",
        "\n",
        "    text = []\n",
        "    for elem in root.iter():\n",
        "        if elem.text is not None:\n",
        "            text.append(elem.text.strip())\n",
        "\n",
        "    extracted_text = \" \".join(text)\n",
        "\n",
        "    \n",
        "\n",
        "    # remove prescript\n",
        "    # extracted_text = extracted_text[1030:].strip()\n",
        "    prescript_len = len(extracted_text.split('      ')[0])\n",
        "    extracted_text = extracted_text[prescript_len:].strip()\n",
        "\n",
        "    return extracted_text\n",
        "\n",
        "def save(path, data):\n",
        "    with open(path, 'w') as f:\n",
        "        f.write(data)\n",
        "\n",
        "\n",
        "def clean_dir(path):\n",
        "    for root, dirs, files in os.walk(path):\n",
        "        for file in files:\n",
        "            os.remove(os.path.join(root, file))\n",
        "\n",
        "clean_dir('/content/processed_data')\n",
        "for path in all_paths:\n",
        "    data = read_xml(path)\n",
        "    path = path.replace('/content/data/2009', '/content/processed_data/').replace('.xml', '.txt')\n",
        "    save(path, data)"
      ]
    },
    {
      "cell_type": "code",
      "execution_count": 17,
      "id": "b8b41410",
      "metadata": {
        "execution": {
          "iopub.execute_input": "2023-02-15T09:10:55.702186Z",
          "iopub.status.busy": "2023-02-15T09:10:55.701352Z",
          "iopub.status.idle": "2023-02-15T09:11:07.349280Z",
          "shell.execute_reply": "2023-02-15T09:11:07.348090Z"
        },
        "papermill": {
          "duration": 11.659819,
          "end_time": "2023-02-15T09:11:07.351871",
          "exception": false,
          "start_time": "2023-02-15T09:10:55.692052",
          "status": "completed"
        },
        "tags": [],
        "colab": {
          "base_uri": "https://localhost:8080/"
        },
        "id": "b8b41410",
        "outputId": "f9c93bd8-ee15-4556-84b8-6b1229212b16"
      },
      "outputs": [
        {
          "output_type": "stream",
          "name": "stdout",
          "text": [
            "Looking in indexes: https://pypi.org/simple, https://us-python.pkg.dev/colab-wheels/public/simple/\n",
            "Requirement already satisfied: torchinfo in /usr/local/lib/python3.10/dist-packages (1.8.0)\n",
            "Looking in indexes: https://pypi.org/simple, https://us-python.pkg.dev/colab-wheels/public/simple/\n",
            "Collecting tokenizers\n",
            "  Downloading tokenizers-0.13.3-cp310-cp310-manylinux_2_17_x86_64.manylinux2014_x86_64.whl (7.8 MB)\n",
            "\u001b[2K     \u001b[90m━━━━━━━━━━━━━━━━━━━━━━━━━━━━━━━━━━━━━━━━\u001b[0m \u001b[32m7.8/7.8 MB\u001b[0m \u001b[31m70.6 MB/s\u001b[0m eta \u001b[36m0:00:00\u001b[0m\n",
            "\u001b[?25hInstalling collected packages: tokenizers\n",
            "Successfully installed tokenizers-0.13.3\n"
          ]
        }
      ],
      "source": [
        "!pip install torchinfo\n",
        "!pip install tokenizers"
      ]
    },
    {
      "cell_type": "markdown",
      "id": "ceeea54d",
      "metadata": {
        "papermill": {
          "duration": 0.007635,
          "end_time": "2023-02-15T09:11:09.389215",
          "exception": false,
          "start_time": "2023-02-15T09:11:09.381580",
          "status": "completed"
        },
        "tags": [],
        "id": "ceeea54d"
      },
      "source": [
        "# Data"
      ]
    },
    {
      "cell_type": "code",
      "execution_count": null,
      "id": "27e04c8f",
      "metadata": {
        "execution": {
          "iopub.execute_input": "2023-02-15T09:11:09.406722Z",
          "iopub.status.busy": "2023-02-15T09:11:09.405819Z",
          "iopub.status.idle": "2023-02-15T09:11:09.433641Z",
          "shell.execute_reply": "2023-02-15T09:11:09.432691Z"
        },
        "papermill": {
          "duration": 0.039079,
          "end_time": "2023-02-15T09:11:09.435988",
          "exception": false,
          "start_time": "2023-02-15T09:11:09.396909",
          "status": "completed"
        },
        "tags": [],
        "id": "27e04c8f"
      },
      "outputs": [],
      "source": [
        "import os\n",
        "\n",
        "all_paths = []\n",
        "for root, dirs, files in os.walk(\"/content/processed_data\"):\n",
        "    for file in files:\n",
        "        if file.endswith(\".txt\"):\n",
        "             all_paths.append(os.path.join(root, file))\n",
        "\n",
        "data = \"\"\n",
        "\n",
        "for file_path in all_paths:\n",
        "    with open(file_path,'r',encoding='utf-8') as f:\n",
        "        _data = f.read()\n",
        "        data += _data"
      ]
    },
    {
      "cell_type": "code",
      "execution_count": 18,
      "id": "c8b00abb",
      "metadata": {
        "_cell_guid": "b1076dfc-b9ad-4769-8c92-a6c4dae69d19",
        "_uuid": "8f2839f25d086af736a60e9eeb907d3b93b6e0e5",
        "execution": {
          "iopub.execute_input": "2023-02-15T09:11:07.370077Z",
          "iopub.status.busy": "2023-02-15T09:11:07.369719Z",
          "iopub.status.idle": "2023-02-15T09:11:09.370077Z",
          "shell.execute_reply": "2023-02-15T09:11:09.369123Z"
        },
        "papermill": {
          "duration": 2.012192,
          "end_time": "2023-02-15T09:11:09.372226",
          "exception": false,
          "start_time": "2023-02-15T09:11:07.360034",
          "status": "completed"
        },
        "tags": [],
        "colab": {
          "base_uri": "https://localhost:8080/"
        },
        "id": "c8b00abb",
        "outputId": "f7d3743f-b71d-474e-8bca-d2965d2ea342"
      },
      "outputs": [
        {
          "output_type": "execute_result",
          "data": {
            "text/plain": [
              "<torch._C.Generator at 0x7f0fb1abca30>"
            ]
          },
          "metadata": {},
          "execution_count": 18
        }
      ],
      "source": [
        "import torch\n",
        "import torch.nn as nn\n",
        "import torch.nn.functional as F\n",
        "\n",
        "from dataclasses import dataclass\n",
        "\n",
        "from tqdm.auto import tqdm\n",
        "\n",
        "from pathlib import Path\n",
        "\n",
        "import matplotlib.pyplot as plt\n",
        "\n",
        "from tokenizers import Tokenizer\n",
        "from tokenizers.models import BPE\n",
        "import tokenizers.pre_tokenizers as pre_tokenizers\n",
        "import tokenizers.processors as processors\n",
        "import tokenizers.decoders as decoders\n",
        "from tokenizers.trainers import BpeTrainer\n",
        "\n",
        "from torchinfo import summary\n",
        "\n",
        "torch.manual_seed(1357)"
      ]
    },
    {
      "cell_type": "code",
      "execution_count": 19,
      "id": "473e9a7b",
      "metadata": {
        "execution": {
          "iopub.execute_input": "2023-02-15T09:11:09.453212Z",
          "iopub.status.busy": "2023-02-15T09:11:09.452880Z",
          "iopub.status.idle": "2023-02-15T09:11:09.458921Z",
          "shell.execute_reply": "2023-02-15T09:11:09.458021Z"
        },
        "papermill": {
          "duration": 0.016891,
          "end_time": "2023-02-15T09:11:09.460982",
          "exception": false,
          "start_time": "2023-02-15T09:11:09.444091",
          "status": "completed"
        },
        "tags": [],
        "colab": {
          "base_uri": "https://localhost:8080/"
        },
        "id": "473e9a7b",
        "outputId": "c621a8e4-2ea9-466d-f786-84c1459ad750"
      },
      "outputs": [
        {
          "output_type": "execute_result",
          "data": {
            "text/plain": [
              "('Kirkjustræti Reykjavik Iceland 2009-02-26     Forseta Alþingis hefur borist svohljóðandi bréf frá Kr',\n",
              " 'Kirkjustræti Reykjavik Iceland 2009-02-26     Forseta Alþingis hefur borist svohljóðandi bréf frá Kr')"
            ]
          },
          "metadata": {},
          "execution_count": 19
        }
      ],
      "source": [
        "data[:100], data[:100]"
      ]
    },
    {
      "cell_type": "markdown",
      "id": "db836a8b",
      "metadata": {
        "papermill": {
          "duration": 0.007651,
          "end_time": "2023-02-15T09:11:09.476953",
          "exception": false,
          "start_time": "2023-02-15T09:11:09.469302",
          "status": "completed"
        },
        "tags": [],
        "id": "db836a8b"
      },
      "source": [
        "# BPE Tokenizer"
      ]
    },
    {
      "cell_type": "code",
      "execution_count": 20,
      "id": "faf9416d",
      "metadata": {
        "execution": {
          "iopub.execute_input": "2023-02-15T09:11:09.494115Z",
          "iopub.status.busy": "2023-02-15T09:11:09.493788Z",
          "iopub.status.idle": "2023-02-15T09:11:10.410781Z",
          "shell.execute_reply": "2023-02-15T09:11:10.409635Z"
        },
        "papermill": {
          "duration": 0.928184,
          "end_time": "2023-02-15T09:11:10.413058",
          "exception": false,
          "start_time": "2023-02-15T09:11:09.484874",
          "status": "completed"
        },
        "tags": [],
        "id": "faf9416d"
      },
      "outputs": [],
      "source": [
        "tokenizer_path = Path('/content/tokenizer/')\n",
        "tokenizer_path.mkdir(exist_ok=True)\n",
        "\n",
        "tokenizer = Tokenizer(BPE())\n",
        "\n",
        "tokenizer.pre_tokenizer = pre_tokenizers.ByteLevel(add_prefix_space=False)\n",
        "tokenizer.post_processor = processors.ByteLevel(trim_offsets=False)\n",
        "tokenizer.decoder = decoders.ByteLevel()\n",
        "trainer = BpeTrainer(special_tokens=['<|endoftext|>'], min_frequency=2)\n",
        "\n",
        "tokenizer.train_from_iterator([data], trainer=trainer, length=len(data))\n",
        "\n",
        "# tokenizer.train(['/kaggle/input/shakespeare-full-text/shakespeare.txt'],trainer)\n",
        "tokenizer.save(str(tokenizer_path / 'parliament.json'))"
      ]
    },
    {
      "cell_type": "markdown",
      "id": "582b8ba1",
      "metadata": {
        "papermill": {
          "duration": 0.007821,
          "end_time": "2023-02-15T09:11:10.428958",
          "exception": false,
          "start_time": "2023-02-15T09:11:10.421137",
          "status": "completed"
        },
        "tags": [],
        "id": "582b8ba1"
      },
      "source": [
        "# Config"
      ]
    },
    {
      "cell_type": "code",
      "execution_count": 45,
      "id": "262e1892",
      "metadata": {
        "execution": {
          "iopub.execute_input": "2023-02-15T09:11:10.446743Z",
          "iopub.status.busy": "2023-02-15T09:11:10.446204Z",
          "iopub.status.idle": "2023-02-15T09:11:10.526285Z",
          "shell.execute_reply": "2023-02-15T09:11:10.525343Z"
        },
        "papermill": {
          "duration": 0.091202,
          "end_time": "2023-02-15T09:11:10.528296",
          "exception": false,
          "start_time": "2023-02-15T09:11:10.437094",
          "status": "completed"
        },
        "tags": [],
        "colab": {
          "base_uri": "https://localhost:8080/"
        },
        "id": "262e1892",
        "outputId": "c3e831dc-2711-4c04-e86c-56ec815532be"
      },
      "outputs": [
        {
          "output_type": "execute_result",
          "data": {
            "text/plain": [
              "('cuda', 6375)"
            ]
          },
          "metadata": {},
          "execution_count": 45
        }
      ],
      "source": [
        "# larger model\n",
        "\n",
        "@dataclass\n",
        "class Config:\n",
        "    \n",
        "    block_size = 256 # context-length\n",
        "    batch_size = 64 # mini-batch size\n",
        "    \n",
        "    vocab_size = tokenizer.get_vocab_size()\n",
        "    \n",
        "    train_size = 0.9 \n",
        "    \n",
        "    n_embed = 384\n",
        "    n_heads = 6\n",
        "    head_size = n_embed // n_heads # computes to 384/6=64\n",
        "    \n",
        "    n_layers = 3\n",
        "    \n",
        "    # train_iters = 20\n",
        "    # val_iters = 2\n",
        "    train_iters = 5000 # no. of batches to train on\n",
        "    val_iters = 500 # no. of batches to validate on every eval_intervals\n",
        "    \n",
        "    eval_interval = 1000 # validate after every eval_interval iterations while training\n",
        "    \n",
        "    lr = 5e-4\n",
        "    \n",
        "    attn_dropout = 0.2\n",
        "    block_dropout = 0.2\n",
        "    \n",
        "    device = 'cuda' if torch.cuda.is_available() else 'cpu'\n",
        "    \n",
        "Config.device, Config.vocab_size"
      ]
    },
    {
      "cell_type": "markdown",
      "id": "c5f27222",
      "metadata": {
        "papermill": {
          "duration": 0.007947,
          "end_time": "2023-02-15T09:11:10.544574",
          "exception": false,
          "start_time": "2023-02-15T09:11:10.536627",
          "status": "completed"
        },
        "tags": [],
        "id": "c5f27222"
      },
      "source": [
        "# Dataset"
      ]
    },
    {
      "cell_type": "code",
      "execution_count": 46,
      "id": "3b2a7746",
      "metadata": {
        "execution": {
          "iopub.execute_input": "2023-02-15T09:11:10.562657Z",
          "iopub.status.busy": "2023-02-15T09:11:10.561748Z",
          "iopub.status.idle": "2023-02-15T09:11:10.572342Z",
          "shell.execute_reply": "2023-02-15T09:11:10.571376Z"
        },
        "papermill": {
          "duration": 0.021803,
          "end_time": "2023-02-15T09:11:10.574273",
          "exception": false,
          "start_time": "2023-02-15T09:11:10.552470",
          "status": "completed"
        },
        "tags": [],
        "id": "3b2a7746"
      },
      "outputs": [],
      "source": [
        "import os\n",
        "\n",
        "class ParliamentDataset:\n",
        "    def __init__(self, Config, is_test=False) -> None:\n",
        "        all_paths = []\n",
        "        for root, dirs, files in os.walk(\"processed_data\"):\n",
        "            for file in files:\n",
        "                if file.endswith(\".txt\"):\n",
        "                    all_paths.append(os.path.join(root, file))\n",
        "\n",
        "        self.data = \"\"\n",
        "\n",
        "        for file_path in all_paths:\n",
        "            with open(file_path,'r',encoding='utf-8') as f:\n",
        "                _data = f.read()\n",
        "        self.data += _data\n",
        "        \n",
        "        self.tokenizer = Tokenizer.from_file('/content/tokenizer/parliament.json')\n",
        "        \n",
        "        self.full_data = torch.tensor(self.tokenizer.encode(self.data).ids, dtype=torch.long)\n",
        "        \n",
        "        self.is_test = is_test\n",
        "        if self.is_test:\n",
        "            self.data = self.full_data[int(Config.train_size*len(self.full_data)):]\n",
        "        else:\n",
        "            self.data = self.full_data[:int(Config.train_size*len(self.full_data))]\n",
        "\n",
        "        self.block_size = Config.block_size\n",
        "        self.batch_size = Config.batch_size\n",
        "\n",
        "    def __len__(self) -> int:\n",
        "        return len(self.data)\n",
        "\n",
        "    def get_block_size(self) -> int:\n",
        "        return self.block_size\n",
        "\n",
        "    def get_vocab_size(self) -> int:\n",
        "        return self.tokenizer.get_vocab_size()\n",
        "\n",
        "    def __next__(self):\n",
        "        ix = torch.randint(len(self.data) - self.block_size, (self.batch_size,))\n",
        "        x = torch.stack([self.data[i:i+self.block_size] for i in ix])\n",
        "        y = torch.stack([self.data[i+1:i+self.block_size+1] for i in ix])\n",
        "        return x,y"
      ]
    },
    {
      "cell_type": "markdown",
      "id": "460ed556",
      "metadata": {
        "papermill": {
          "duration": 0.007845,
          "end_time": "2023-02-15T09:11:10.590045",
          "exception": false,
          "start_time": "2023-02-15T09:11:10.582200",
          "status": "completed"
        },
        "tags": [],
        "id": "460ed556"
      },
      "source": [
        "---\n",
        "\n",
        "# **GPT Model**"
      ]
    },
    {
      "cell_type": "markdown",
      "id": "9dfd2a5f",
      "metadata": {
        "papermill": {
          "duration": 0.007764,
          "end_time": "2023-02-15T09:11:10.605813",
          "exception": false,
          "start_time": "2023-02-15T09:11:10.598049",
          "status": "completed"
        },
        "tags": [],
        "id": "9dfd2a5f"
      },
      "source": [
        "## Single Attention Head"
      ]
    },
    {
      "cell_type": "code",
      "execution_count": 47,
      "id": "51afd115",
      "metadata": {
        "execution": {
          "iopub.execute_input": "2023-02-15T09:11:10.624133Z",
          "iopub.status.busy": "2023-02-15T09:11:10.623181Z",
          "iopub.status.idle": "2023-02-15T09:11:10.633191Z",
          "shell.execute_reply": "2023-02-15T09:11:10.632005Z"
        },
        "papermill": {
          "duration": 0.021524,
          "end_time": "2023-02-15T09:11:10.635499",
          "exception": false,
          "start_time": "2023-02-15T09:11:10.613975",
          "status": "completed"
        },
        "tags": [],
        "id": "51afd115"
      },
      "outputs": [],
      "source": [
        "class AttentionHead(nn.Module):\n",
        "    def __init__(self, Config):\n",
        "        super().__init__()\n",
        "\n",
        "        self.block_size = Config.block_size\n",
        "        self.n_embed = Config.n_embed\n",
        "        self.head_size = Config.head_size\n",
        "        \n",
        "        self.key = nn.Linear(self.n_embed, self.head_size, bias=False)\n",
        "        self.query = nn.Linear(self.n_embed, self.head_size, bias=False)\n",
        "        \n",
        "        self.value = nn.Linear(self.n_embed, self.head_size, bias=False)\n",
        "\n",
        "        self.register_buffer(\n",
        "            'tril',\n",
        "            torch.tril(torch.ones(self.block_size,self.block_size))\n",
        "        )\n",
        "        \n",
        "        self.dropout = nn.Dropout(Config.attn_dropout)\n",
        "\n",
        "    def forward(self, x):\n",
        "\n",
        "        B,T,C = x.shape\n",
        "\n",
        "        k = self.key(x)\n",
        "        q = self.query(x)\n",
        "\n",
        "        wei = q@k.transpose(-2,-1) * (C ** 0.5)\n",
        "        wei = wei.masked_fill(self.tril[:T,:T]==0,float('-inf'))\n",
        "        wei = F.softmax(wei, dim=-1)\n",
        "        wei = self.dropout(wei)\n",
        "        \n",
        "        v = self.value(x)\n",
        "        out = wei @ v\n",
        "        \n",
        "        return out"
      ]
    },
    {
      "cell_type": "markdown",
      "id": "f9cf7e02",
      "metadata": {
        "papermill": {
          "duration": 0.007892,
          "end_time": "2023-02-15T09:11:10.651472",
          "exception": false,
          "start_time": "2023-02-15T09:11:10.643580",
          "status": "completed"
        },
        "tags": [],
        "id": "f9cf7e02"
      },
      "source": [
        "## MultiHead Attention"
      ]
    },
    {
      "cell_type": "code",
      "execution_count": 48,
      "id": "46bb27be",
      "metadata": {
        "execution": {
          "iopub.execute_input": "2023-02-15T09:11:10.668742Z",
          "iopub.status.busy": "2023-02-15T09:11:10.668423Z",
          "iopub.status.idle": "2023-02-15T09:11:10.674991Z",
          "shell.execute_reply": "2023-02-15T09:11:10.674075Z"
        },
        "papermill": {
          "duration": 0.01775,
          "end_time": "2023-02-15T09:11:10.677153",
          "exception": false,
          "start_time": "2023-02-15T09:11:10.659403",
          "status": "completed"
        },
        "tags": [],
        "id": "46bb27be"
      },
      "outputs": [],
      "source": [
        "class MultiHeadAttention(nn.Module):\n",
        "    def __init__(self, Config):\n",
        "        super().__init__()\n",
        "        self.n_heads = Config.n_heads\n",
        "        self.head_size = Config.head_size\n",
        "        \n",
        "        self.heads = nn.ModuleList([AttentionHead(Config) for _ in range(self.n_heads)])\n",
        "        \n",
        "        self.projection = nn.Linear(Config.n_embed, Config.n_embed)\n",
        "        \n",
        "        self.dropout = nn.Dropout(Config.attn_dropout)\n",
        "    \n",
        "    def forward(self,x):\n",
        "        x = torch.cat([h(x) for h in self.heads],dim=-1)\n",
        "        x = self.projection(x)\n",
        "        x = self.dropout(x)\n",
        "        return x"
      ]
    },
    {
      "cell_type": "markdown",
      "id": "474f88d0",
      "metadata": {
        "papermill": {
          "duration": 0.007875,
          "end_time": "2023-02-15T09:11:10.692909",
          "exception": false,
          "start_time": "2023-02-15T09:11:10.685034",
          "status": "completed"
        },
        "tags": [],
        "id": "474f88d0"
      },
      "source": [
        "## Feed Forward Layer"
      ]
    },
    {
      "cell_type": "markdown",
      "id": "c8e59a37",
      "metadata": {
        "papermill": {
          "duration": 0.008044,
          "end_time": "2023-02-15T09:11:10.734687",
          "exception": false,
          "start_time": "2023-02-15T09:11:10.726643",
          "status": "completed"
        },
        "tags": [],
        "id": "c8e59a37"
      },
      "source": [
        "# Transformer Block"
      ]
    },
    {
      "cell_type": "code",
      "execution_count": 49,
      "id": "039e949b",
      "metadata": {
        "execution": {
          "iopub.execute_input": "2023-02-15T09:11:10.752630Z",
          "iopub.status.busy": "2023-02-15T09:11:10.751790Z",
          "iopub.status.idle": "2023-02-15T09:11:10.758272Z",
          "shell.execute_reply": "2023-02-15T09:11:10.757442Z"
        },
        "papermill": {
          "duration": 0.017434,
          "end_time": "2023-02-15T09:11:10.760234",
          "exception": false,
          "start_time": "2023-02-15T09:11:10.742800",
          "status": "completed"
        },
        "tags": [],
        "id": "039e949b"
      },
      "outputs": [],
      "source": [
        "class TransformerBlock(nn.Module):\n",
        "    def __init__(self, Config):\n",
        "        super().__init__()\n",
        "        self.attn = MultiHeadAttention(Config)\n",
        "        self.ff = FeedForward(Config)\n",
        "        self.ln1 = nn.LayerNorm(Config.n_embed)\n",
        "        self.ln2 = nn.LayerNorm(Config.n_embed)\n",
        "\n",
        "    def forward(self,x):\n",
        "        x = x + self.attn(self.ln1(x))\n",
        "        x = x + self.ff(self.ln2(x))\n",
        "        \n",
        "        return x"
      ]
    },
    {
      "cell_type": "markdown",
      "id": "df99b93f",
      "metadata": {
        "papermill": {
          "duration": 0.007907,
          "end_time": "2023-02-15T09:11:10.776073",
          "exception": false,
          "start_time": "2023-02-15T09:11:10.768166",
          "status": "completed"
        },
        "tags": [],
        "id": "df99b93f"
      },
      "source": [
        "## GPT Model"
      ]
    },
    {
      "cell_type": "code",
      "execution_count": 50,
      "id": "e75360e3",
      "metadata": {
        "execution": {
          "iopub.execute_input": "2023-02-15T09:11:10.793740Z",
          "iopub.status.busy": "2023-02-15T09:11:10.792900Z",
          "iopub.status.idle": "2023-02-15T09:11:10.802612Z",
          "shell.execute_reply": "2023-02-15T09:11:10.801766Z"
        },
        "papermill": {
          "duration": 0.020708,
          "end_time": "2023-02-15T09:11:10.804630",
          "exception": false,
          "start_time": "2023-02-15T09:11:10.783922",
          "status": "completed"
        },
        "tags": [],
        "id": "e75360e3"
      },
      "outputs": [],
      "source": [
        "class ISLParliamentGPT(nn.Module):\n",
        "    def __init__(self,Config):\n",
        "        super().__init__()\n",
        "        \n",
        "        self.n_embed = Config.n_embed\n",
        "        self.block_size = Config.block_size\n",
        "        \n",
        "        self.token_embedding_table = nn.Embedding(Config.vocab_size,self.n_embed)\n",
        "        self.pos_embedding_table = nn.Embedding(self.block_size, self.n_embed)\n",
        "        \n",
        "        self.blocks = nn.Sequential(\n",
        "            *[TransformerBlock(Config)]*Config.n_layers,\n",
        "            nn.LayerNorm(self.n_embed)\n",
        "        )\n",
        "\n",
        "        self.lm_head = nn.Linear(self.n_embed,Config.vocab_size)\n",
        "        \n",
        "    def forward(self,idx):\n",
        "        \n",
        "        B,T = idx.shape\n",
        "        \n",
        "        token_embs = self.token_embedding_table(idx)\n",
        "        pos_embs = self.pos_embedding_table(torch.arange(T,device=Config.device))\n",
        "        \n",
        "        \n",
        "        x = token_embs + pos_embs\n",
        "        x = self.blocks(x)\n",
        "        logits = self.lm_head(x)\n",
        "        \n",
        "        return logits\n",
        "\n",
        "        \n",
        "    def generate(self,idx,total):\n",
        "        for _ in range(total):\n",
        "            idx_cond = idx[:, -self.block_size:]\n",
        "            logits= self(idx_cond)\n",
        "            logits = logits[:, -1, :]\n",
        "            probs = F.softmax(logits, dim=-1)\n",
        "            idx_next = torch.multinomial(probs, num_samples=1)\n",
        "            idx = torch.cat((idx, idx_next), dim=1)\n",
        "        return idx\n",
        "            "
      ]
    },
    {
      "cell_type": "code",
      "execution_count": 51,
      "id": "7eb47416",
      "metadata": {
        "execution": {
          "iopub.execute_input": "2023-02-15T09:11:10.711211Z",
          "iopub.status.busy": "2023-02-15T09:11:10.710230Z",
          "iopub.status.idle": "2023-02-15T09:11:10.716751Z",
          "shell.execute_reply": "2023-02-15T09:11:10.715882Z"
        },
        "papermill": {
          "duration": 0.017692,
          "end_time": "2023-02-15T09:11:10.718711",
          "exception": false,
          "start_time": "2023-02-15T09:11:10.701019",
          "status": "completed"
        },
        "tags": [],
        "id": "7eb47416"
      },
      "outputs": [],
      "source": [
        "class FeedForward(nn.Module):\n",
        "    def __init__(self, Config):\n",
        "        super().__init__()\n",
        "        self.net = nn.Sequential(\n",
        "            nn.Linear(Config.n_embed,Config.n_embed * 4),\n",
        "            nn.ReLU(),\n",
        "            nn.Linear(Config.n_embed * 4, Config.n_embed), # projection\n",
        "            nn.Dropout(Config.block_dropout)\n",
        "        )\n",
        "    def forward(self,x):\n",
        "        return self.net(x)"
      ]
    },
    {
      "cell_type": "markdown",
      "id": "c2437b37",
      "metadata": {
        "papermill": {
          "duration": 0.00787,
          "end_time": "2023-02-15T09:11:10.820591",
          "exception": false,
          "start_time": "2023-02-15T09:11:10.812721",
          "status": "completed"
        },
        "tags": [],
        "id": "c2437b37"
      },
      "source": [
        "# Training"
      ]
    },
    {
      "cell_type": "code",
      "execution_count": 52,
      "id": "32e88834",
      "metadata": {
        "execution": {
          "iopub.execute_input": "2023-02-15T09:11:10.838744Z",
          "iopub.status.busy": "2023-02-15T09:11:10.837880Z",
          "iopub.status.idle": "2023-02-15T09:11:12.895238Z",
          "shell.execute_reply": "2023-02-15T09:11:12.894247Z"
        },
        "papermill": {
          "duration": 2.069049,
          "end_time": "2023-02-15T09:11:12.897669",
          "exception": false,
          "start_time": "2023-02-15T09:11:10.828620",
          "status": "completed"
        },
        "tags": [],
        "id": "32e88834"
      },
      "outputs": [],
      "source": [
        "train_ds = ParliamentDataset(Config)\n",
        "val_ds = ParliamentDataset(Config,is_test=True)"
      ]
    },
    {
      "cell_type": "code",
      "execution_count": 53,
      "id": "fc03dd33",
      "metadata": {
        "execution": {
          "iopub.execute_input": "2023-02-15T09:11:12.916528Z",
          "iopub.status.busy": "2023-02-15T09:11:12.915697Z",
          "iopub.status.idle": "2023-02-15T09:11:15.945807Z",
          "shell.execute_reply": "2023-02-15T09:11:15.944810Z"
        },
        "papermill": {
          "duration": 3.042334,
          "end_time": "2023-02-15T09:11:15.948253",
          "exception": false,
          "start_time": "2023-02-15T09:11:12.905919",
          "status": "completed"
        },
        "tags": [],
        "id": "fc03dd33"
      },
      "outputs": [],
      "source": [
        "lm = ISLParliamentGPT(Config)\n",
        "lm = lm.to(device=Config.device)"
      ]
    },
    {
      "cell_type": "code",
      "execution_count": 54,
      "id": "d7340006",
      "metadata": {
        "execution": {
          "iopub.execute_input": "2023-02-15T09:11:15.966079Z",
          "iopub.status.busy": "2023-02-15T09:11:15.965484Z",
          "iopub.status.idle": "2023-02-15T09:11:16.940302Z",
          "shell.execute_reply": "2023-02-15T09:11:16.939445Z"
        },
        "papermill": {
          "duration": 0.986096,
          "end_time": "2023-02-15T09:11:16.942579",
          "exception": false,
          "start_time": "2023-02-15T09:11:15.956483",
          "status": "completed"
        },
        "tags": [],
        "colab": {
          "base_uri": "https://localhost:8080/"
        },
        "id": "d7340006",
        "outputId": "7603e363-a613-4074-8839-3e874d829d7b"
      },
      "outputs": [
        {
          "output_type": "execute_result",
          "data": {
            "text/plain": [
              "===============================================================================================\n",
              "Layer (type:depth-idx)                        Output Shape              Param #\n",
              "===============================================================================================\n",
              "ISLParliamentGPT                              [64, 256, 6375]           --\n",
              "├─Embedding: 1-1                              [64, 256, 384]            2,448,000\n",
              "├─Embedding: 1-2                              [256, 384]                98,304\n",
              "├─Sequential: 1-3                             [64, 256, 384]            --\n",
              "│    └─TransformerBlock: 2-1                  [64, 256, 384]            --\n",
              "│    │    └─LayerNorm: 3-1                    [64, 256, 384]            768\n",
              "│    │    └─MultiHeadAttention: 3-2           [64, 256, 384]            --\n",
              "│    │    │    └─ModuleList: 4-9              --                        (recursive)\n",
              "│    │    │    │    └─AttentionHead: 5-1      [64, 256, 64]             73,728\n",
              "│    │    │    │    └─AttentionHead: 5-2      [64, 256, 64]             73,728\n",
              "│    │    │    │    └─AttentionHead: 5-3      [64, 256, 64]             73,728\n",
              "│    │    │    │    └─AttentionHead: 5-4      [64, 256, 64]             73,728\n",
              "│    │    │    │    └─AttentionHead: 5-5      [64, 256, 64]             73,728\n",
              "│    │    │    │    └─AttentionHead: 5-6      [64, 256, 64]             73,728\n",
              "│    │    │    └─Linear: 4-2                  [64, 256, 384]            147,840\n",
              "│    │    │    └─Dropout: 4-3                 [64, 256, 384]            --\n",
              "│    │    └─LayerNorm: 3-3                    [64, 256, 384]            768\n",
              "│    │    └─FeedForward: 3-4                  [64, 256, 384]            --\n",
              "│    │    │    └─Sequential: 4-4              [64, 256, 384]            --\n",
              "│    │    │    │    └─Linear: 5-7             [64, 256, 1536]           591,360\n",
              "│    │    │    │    └─ReLU: 5-8               [64, 256, 1536]           --\n",
              "│    │    │    │    └─Linear: 5-9             [64, 256, 384]            590,208\n",
              "│    │    │    │    └─Dropout: 5-10           [64, 256, 384]            --\n",
              "│    └─TransformerBlock: 2-2                  [64, 256, 384]            (recursive)\n",
              "│    │    └─LayerNorm: 3-5                    [64, 256, 384]            (recursive)\n",
              "│    │    └─MultiHeadAttention: 3-6           [64, 256, 384]            (recursive)\n",
              "│    │    │    └─ModuleList: 4-9              --                        (recursive)\n",
              "│    │    │    │    └─AttentionHead: 5-11     [64, 256, 64]             (recursive)\n",
              "│    │    │    │    └─AttentionHead: 5-12     [64, 256, 64]             (recursive)\n",
              "│    │    │    │    └─AttentionHead: 5-13     [64, 256, 64]             (recursive)\n",
              "│    │    │    │    └─AttentionHead: 5-14     [64, 256, 64]             (recursive)\n",
              "│    │    │    │    └─AttentionHead: 5-15     [64, 256, 64]             (recursive)\n",
              "│    │    │    │    └─AttentionHead: 5-16     [64, 256, 64]             (recursive)\n",
              "│    │    │    └─Linear: 4-6                  [64, 256, 384]            (recursive)\n",
              "│    │    │    └─Dropout: 4-7                 [64, 256, 384]            --\n",
              "│    │    └─LayerNorm: 3-7                    [64, 256, 384]            (recursive)\n",
              "│    │    └─FeedForward: 3-8                  [64, 256, 384]            (recursive)\n",
              "│    │    │    └─Sequential: 4-8              [64, 256, 384]            (recursive)\n",
              "│    │    │    │    └─Linear: 5-17            [64, 256, 1536]           (recursive)\n",
              "│    │    │    │    └─ReLU: 5-18              [64, 256, 1536]           --\n",
              "│    │    │    │    └─Linear: 5-19            [64, 256, 384]            (recursive)\n",
              "│    │    │    │    └─Dropout: 5-20           [64, 256, 384]            --\n",
              "│    └─TransformerBlock: 2-3                  [64, 256, 384]            (recursive)\n",
              "│    │    └─LayerNorm: 3-9                    [64, 256, 384]            (recursive)\n",
              "│    │    └─MultiHeadAttention: 3-10          [64, 256, 384]            (recursive)\n",
              "│    │    │    └─ModuleList: 4-9              --                        (recursive)\n",
              "│    │    │    │    └─AttentionHead: 5-21     [64, 256, 64]             (recursive)\n",
              "│    │    │    │    └─AttentionHead: 5-22     [64, 256, 64]             (recursive)\n",
              "│    │    │    │    └─AttentionHead: 5-23     [64, 256, 64]             (recursive)\n",
              "│    │    │    │    └─AttentionHead: 5-24     [64, 256, 64]             (recursive)\n",
              "│    │    │    │    └─AttentionHead: 5-25     [64, 256, 64]             (recursive)\n",
              "│    │    │    │    └─AttentionHead: 5-26     [64, 256, 64]             (recursive)\n",
              "│    │    │    └─Linear: 4-10                 [64, 256, 384]            (recursive)\n",
              "│    │    │    └─Dropout: 4-11                [64, 256, 384]            --\n",
              "│    │    └─LayerNorm: 3-11                   [64, 256, 384]            (recursive)\n",
              "│    │    └─FeedForward: 3-12                 [64, 256, 384]            (recursive)\n",
              "│    │    │    └─Sequential: 4-12             [64, 256, 384]            (recursive)\n",
              "│    │    │    │    └─Linear: 5-27            [64, 256, 1536]           (recursive)\n",
              "│    │    │    │    └─ReLU: 5-28              [64, 256, 1536]           --\n",
              "│    │    │    │    └─Linear: 5-29            [64, 256, 384]            (recursive)\n",
              "│    │    │    │    └─Dropout: 5-30           [64, 256, 384]            --\n",
              "│    └─LayerNorm: 2-4                         [64, 256, 384]            768\n",
              "├─Linear: 1-4                                 [64, 256, 6375]           2,454,375\n",
              "===============================================================================================\n",
              "Total params: 6,774,759\n",
              "Trainable params: 6,774,759\n",
              "Non-trainable params: 0\n",
              "Total mult-adds (M): 679.44\n",
              "===============================================================================================\n",
              "Input size (MB): 0.13\n",
              "Forward/backward pass size (MB): 2597.98\n",
              "Params size (MB): 27.10\n",
              "Estimated Total Size (MB): 2625.21\n",
              "==============================================================================================="
            ]
          },
          "metadata": {},
          "execution_count": 54
        }
      ],
      "source": [
        "summary(lm,input_size=(Config.batch_size, Config.block_size),dtypes=[torch.long],depth=5,)"
      ]
    },
    {
      "cell_type": "markdown",
      "id": "1bbf5362",
      "metadata": {
        "papermill": {
          "duration": 0.008178,
          "end_time": "2023-02-15T09:11:16.959307",
          "exception": false,
          "start_time": "2023-02-15T09:11:16.951129",
          "status": "completed"
        },
        "tags": [],
        "id": "1bbf5362"
      },
      "source": [
        "### Optimizer"
      ]
    },
    {
      "cell_type": "code",
      "execution_count": 55,
      "id": "aef240fd",
      "metadata": {
        "execution": {
          "iopub.execute_input": "2023-02-15T09:11:16.977459Z",
          "iopub.status.busy": "2023-02-15T09:11:16.977125Z",
          "iopub.status.idle": "2023-02-15T09:11:16.981997Z",
          "shell.execute_reply": "2023-02-15T09:11:16.981001Z"
        },
        "papermill": {
          "duration": 0.016333,
          "end_time": "2023-02-15T09:11:16.983983",
          "exception": false,
          "start_time": "2023-02-15T09:11:16.967650",
          "status": "completed"
        },
        "tags": [],
        "id": "aef240fd"
      },
      "outputs": [],
      "source": [
        "optim = torch.optim.AdamW(lm.parameters(), lr=Config.lr)"
      ]
    },
    {
      "cell_type": "markdown",
      "id": "458df3f1",
      "metadata": {
        "papermill": {
          "duration": 0.008098,
          "end_time": "2023-02-15T09:11:17.000505",
          "exception": false,
          "start_time": "2023-02-15T09:11:16.992407",
          "status": "completed"
        },
        "tags": [],
        "id": "458df3f1"
      },
      "source": [
        "### Loss Function"
      ]
    },
    {
      "cell_type": "code",
      "execution_count": 56,
      "id": "94815a81",
      "metadata": {
        "execution": {
          "iopub.execute_input": "2023-02-15T09:11:17.019753Z",
          "iopub.status.busy": "2023-02-15T09:11:17.018127Z",
          "iopub.status.idle": "2023-02-15T09:11:17.024060Z",
          "shell.execute_reply": "2023-02-15T09:11:17.023129Z"
        },
        "papermill": {
          "duration": 0.017438,
          "end_time": "2023-02-15T09:11:17.026192",
          "exception": false,
          "start_time": "2023-02-15T09:11:17.008754",
          "status": "completed"
        },
        "tags": [],
        "id": "94815a81"
      },
      "outputs": [],
      "source": [
        "def loss_fn(logits, targets):\n",
        "    B,T,C = logits.shape\n",
        "    logits = logits.view(B*T, C)\n",
        "    targets = targets.view(B*T)\n",
        "    loss = F.cross_entropy(logits,targets)\n",
        "    return loss"
      ]
    },
    {
      "cell_type": "markdown",
      "id": "29c03c6c",
      "metadata": {
        "papermill": {
          "duration": 0.008117,
          "end_time": "2023-02-15T09:11:17.042719",
          "exception": false,
          "start_time": "2023-02-15T09:11:17.034602",
          "status": "completed"
        },
        "tags": [],
        "id": "29c03c6c"
      },
      "source": [
        "# Training Loops"
      ]
    },
    {
      "cell_type": "markdown",
      "id": "83ca8de0",
      "metadata": {
        "papermill": {
          "duration": 0.008055,
          "end_time": "2023-02-15T09:11:17.059021",
          "exception": false,
          "start_time": "2023-02-15T09:11:17.050966",
          "status": "completed"
        },
        "tags": [],
        "id": "83ca8de0"
      },
      "source": [
        "## Validation Loop\n",
        "\n",
        "averages over `val_iters` mini-batches"
      ]
    },
    {
      "cell_type": "code",
      "execution_count": 57,
      "id": "b1e81477",
      "metadata": {
        "execution": {
          "iopub.execute_input": "2023-02-15T09:11:17.077823Z",
          "iopub.status.busy": "2023-02-15T09:11:17.076875Z",
          "iopub.status.idle": "2023-02-15T09:11:17.083922Z",
          "shell.execute_reply": "2023-02-15T09:11:17.083021Z"
        },
        "papermill": {
          "duration": 0.018456,
          "end_time": "2023-02-15T09:11:17.085928",
          "exception": false,
          "start_time": "2023-02-15T09:11:17.067472",
          "status": "completed"
        },
        "tags": [],
        "id": "b1e81477"
      },
      "outputs": [],
      "source": [
        "@torch.no_grad()\n",
        "def valid_N_iters():\n",
        "    val_step_losses = []\n",
        "    for batch in tqdm(range(Config.val_iters)):\n",
        "        inputs, targets = next(val_ds)\n",
        "        inputs, targets = inputs.to(device=Config.device), targets.to(device=Config.device)\n",
        "        logits = lm(inputs)\n",
        "        loss = loss_fn(logits,targets)\n",
        "        val_step_losses.append(loss.item())\n",
        "        \n",
        "        del inputs, targets, loss, logits\n",
        "    \n",
        "    val_loss = torch.tensor(val_step_losses).mean()\n",
        "    print(f'val loss: {val_loss}')\n",
        "    return val_loss"
      ]
    },
    {
      "cell_type": "markdown",
      "id": "9e6303e7",
      "metadata": {
        "papermill": {
          "duration": 0.008117,
          "end_time": "2023-02-15T09:11:17.102259",
          "exception": false,
          "start_time": "2023-02-15T09:11:17.094142",
          "status": "completed"
        },
        "tags": [],
        "id": "9e6303e7"
      },
      "source": [
        "## Training Loop\n",
        "\n",
        "trains over `train_iters` mini-batches, calls `valid_N_iters()` every `eval_interval`"
      ]
    },
    {
      "cell_type": "code",
      "execution_count": 58,
      "id": "dca8b9a4",
      "metadata": {
        "execution": {
          "iopub.execute_input": "2023-02-15T09:11:17.120883Z",
          "iopub.status.busy": "2023-02-15T09:11:17.119826Z",
          "iopub.status.idle": "2023-02-15T09:11:17.128693Z",
          "shell.execute_reply": "2023-02-15T09:11:17.127850Z"
        },
        "papermill": {
          "duration": 0.02027,
          "end_time": "2023-02-15T09:11:17.130757",
          "exception": false,
          "start_time": "2023-02-15T09:11:17.110487",
          "status": "completed"
        },
        "tags": [],
        "id": "dca8b9a4"
      },
      "outputs": [],
      "source": [
        "def train_N_iters():\n",
        "    lm.train()\n",
        "    train_step_losses = []\n",
        "    val_losses = []\n",
        "    for batch in tqdm(range(Config.train_iters)):\n",
        "        optim.zero_grad()\n",
        "        inputs, targets = next(train_ds)\n",
        "        inputs, targets = inputs.to(device=Config.device), targets.to(device=Config.device)\n",
        "        logits = lm(inputs)\n",
        "        loss = loss_fn(logits,targets)\n",
        "        loss.backward()\n",
        "        optim.step()\n",
        "        train_step_losses.append(loss.item())\n",
        "        \n",
        "        if batch%(Config.train_iters//10)==0 or batch==Config.train_iters-1:\n",
        "            print(f\"\\n{'-'*50}\\nbatch {batch} train step loss: {loss.item()}\")\n",
        "            print(f\"train loss so far: {torch.tensor(train_step_losses).mean()}\\n{'-'*50}\\n\")\n",
        "            \n",
        "        if batch%Config.eval_interval==0 or batch==Config.train_iters-1:\n",
        "            lm.eval()\n",
        "            val_loss = valid_N_iters()\n",
        "            lm.train()\n",
        "            val_losses.append(val_loss.item())\n",
        "            \n",
        "            del val_loss\n",
        "            \n",
        "        del inputs, targets, loss, logits\n",
        "        \n",
        "    return train_step_losses, val_losses"
      ]
    },
    {
      "cell_type": "code",
      "execution_count": 59,
      "id": "723c6dc6",
      "metadata": {
        "execution": {
          "iopub.execute_input": "2023-02-15T09:11:17.148981Z",
          "iopub.status.busy": "2023-02-15T09:11:17.148172Z",
          "iopub.status.idle": "2023-02-15T09:11:17.153677Z",
          "shell.execute_reply": "2023-02-15T09:11:17.152843Z"
        },
        "papermill": {
          "duration": 0.016721,
          "end_time": "2023-02-15T09:11:17.155629",
          "exception": false,
          "start_time": "2023-02-15T09:11:17.138908",
          "status": "completed"
        },
        "tags": [],
        "id": "723c6dc6"
      },
      "outputs": [],
      "source": [
        "def save_lm():\n",
        "    state_dict = lm.state_dict()\n",
        "    save_path = Path('./').resolve() / 'isl_parliament_gpt'\n",
        "    save_path.mkdir(exist_ok=True)\n",
        "    model_path = save_path / f'isl_parliament_gpt.pth'\n",
        "    torch.save(state_dict, model_path)"
      ]
    },
    {
      "cell_type": "code",
      "execution_count": 60,
      "id": "7827a39a",
      "metadata": {
        "execution": {
          "iopub.execute_input": "2023-02-15T09:11:17.173897Z",
          "iopub.status.busy": "2023-02-15T09:11:17.173116Z",
          "iopub.status.idle": "2023-02-15T09:11:17.177954Z",
          "shell.execute_reply": "2023-02-15T09:11:17.177125Z"
        },
        "papermill": {
          "duration": 0.015887,
          "end_time": "2023-02-15T09:11:17.179885",
          "exception": false,
          "start_time": "2023-02-15T09:11:17.163998",
          "status": "completed"
        },
        "tags": [],
        "id": "7827a39a"
      },
      "outputs": [],
      "source": [
        "def train_lm():\n",
        "    train_step_losses,val_losses = train_N_iters() \n",
        "    save_lm()\n",
        "    return train_step_losses,val_losses"
      ]
    },
    {
      "cell_type": "code",
      "execution_count": 61,
      "id": "c0a84475",
      "metadata": {
        "execution": {
          "iopub.execute_input": "2023-02-15T09:11:17.197847Z",
          "iopub.status.busy": "2023-02-15T09:11:17.197079Z",
          "iopub.status.idle": "2023-02-15T09:33:47.986916Z",
          "shell.execute_reply": "2023-02-15T09:33:47.985839Z"
        },
        "papermill": {
          "duration": 1350.802192,
          "end_time": "2023-02-15T09:33:47.990241",
          "exception": false,
          "start_time": "2023-02-15T09:11:17.188049",
          "status": "completed"
        },
        "tags": [],
        "colab": {
          "base_uri": "https://localhost:8080/",
          "height": 1000,
          "referenced_widgets": [
            "b3d8cc6294e64e86bf0d7c1ef8606421",
            "feae0b52e22a49acb734346c34a5e252",
            "e25b5d95ae6346fa82d64188767488f7",
            "906d8612ba1a42549a35e26ee7bf95ad",
            "0c20667c100346759a30479871a073b8",
            "cd5a0163ad51476a8d87703ac80c6cb2",
            "51cc54fa5b2945f580803a19c7db68d3",
            "d0e0d2bf8f2e4856885b810135954aaf",
            "43ded7da40e749359147643ac5e569fc",
            "ae550c504bd44924a613185749e1d842",
            "79571185bc4e438194a815ee96830c74",
            "6df25ea3efc6474e84aab79c5a458218",
            "f8d81e49fe7e4d189210d4c7bc9bc801",
            "f153f85c88a24680b5d9a8cf154506b9",
            "773b5c5d755c42b2a2762d0b08301d82",
            "7e3173fdb85446e09eaceb3e5ab2c4df",
            "fc3d53643f40485e9c181291689b51e6",
            "9acbf31c3e0847c19ce37b2d39107d69",
            "6b724c91c3704f11894a60f45738596e",
            "15ebbf566b0a4109841e8a1c6dfe3b35",
            "97f385808a2f451db3b7fd484e3b4798",
            "0fb9c42daff74d749c34f453911ab90c",
            "8fcf4dead16045e6b0f0150079ffbb8c",
            "e59dce9a4d8f43b8b602fee0e024c4d1",
            "eeb6ae8fb1a34cc4a7e7bdb7f259933e",
            "db73b85d2bfa48008c395a63cc3af075",
            "96c806cb403c4b928dcd326c46223321",
            "370e2ae5fa2745af91bcadd8ead54a12",
            "5e8a4c0952a44ee0ad424b25e3151890",
            "b1be34ef1e9643b294127541241d28ab",
            "0d2aa50461564723bf98d8a215e32a90",
            "2466c0f5ebf6468f899a8e6aff5462ca",
            "9706fafc500141cca19e9b9b76b246bf",
            "0a5df1821207410eb6c5aac7e2880892",
            "3f5452103607449ca2d5ccf24cb595aa",
            "01c70f80d1c64fa68dd640b04ebc70af",
            "ec6659c7128945d4a1f1e79e970478ff",
            "810aa9993c3343938d1cf8915190ad68",
            "705051cd733f4fb08e89288422eeb5cb",
            "8239195b2ad0458e82eca30b6119b571",
            "4280f725a3214d13944142812aceda3c",
            "05ea45d48b0e41b58a9d685a5bd3fa82",
            "3d2d3f850d8e46a68aa5f980f639dccc",
            "c9e670d2401540e9aec056a5a90b1276",
            "5f496900686448ec8321b872878cbc9b",
            "d41f67902f5a41d796ba3e3e3ed67401",
            "19ec068972dc49ecbf7c61b6cf11f80c",
            "b8e0faee2d2f48ef94fd7abec2f61f8d",
            "d84c9ca61516446aa924828486e693ac",
            "cee75e811a7a4640b440467dce8bd3d9",
            "b0ac74a5aa85426db45fbcf05c8941f9",
            "e7f49fc1ac3243448665933a4cb37860",
            "05cccc86df7b4dd791b87b159dabb9ea",
            "60a483d6afb44c378791c5cfd67f5dec",
            "166c7a7b86204af6bdcc8dc623ba80e7",
            "3b7dd7c6e73c43fb9b9aadeebe770f08",
            "089704ee20274a06b063e9b872219d9d",
            "7c009fac2e5b41dab81fbafb18a101c0",
            "05663ee8dc9a4062bf6f3a964578b8e2",
            "9a7c114b0a134868be14c9ba046ae15b",
            "130f3f68f462400fba14334c8b347415",
            "13c405ea1ec44d7890f74edbc9fcc75d",
            "bec675ef696649e29fab3d4c4283b315",
            "538a9a028e854b92ade523c956b3d5e6",
            "091579e5c51640ea8acd858693a4d844",
            "075d8a9c7cef41fcbef7779f8cf6535e",
            "2ed25fc7525e4cc1a80b2b49361fe169",
            "8552624073bd49beac03e2f3bde6933c",
            "816184fac3274a1db6ce440588a37ea9",
            "6f7859effa8f4cff89617723aca5ad00",
            "8e13693e966f45da9b8ddc19012614d9",
            "0e7c5f5e9b7140e2a7930f806eed020f",
            "4d5472099b2444dda4cecb6657440fa8",
            "237c75cc609846cfb3efb919b2690fe5",
            "cd2c44a8dc8d408fb3d85e6a9b108150",
            "6c2a08a185c647a390f785295f31d3bb",
            "92a8e66d49af4715b500eb81d2dad4ba"
          ]
        },
        "id": "c0a84475",
        "outputId": "b223899c-2a5d-4c87-bdc4-a429948259c2"
      },
      "outputs": [
        {
          "output_type": "display_data",
          "data": {
            "text/plain": [
              "  0%|          | 0/5000 [00:00<?, ?it/s]"
            ],
            "application/vnd.jupyter.widget-view+json": {
              "version_major": 2,
              "version_minor": 0,
              "model_id": "b3d8cc6294e64e86bf0d7c1ef8606421"
            }
          },
          "metadata": {}
        },
        {
          "output_type": "stream",
          "name": "stdout",
          "text": [
            "\n",
            "--------------------------------------------------\n",
            "batch 0 train step loss: 8.924604415893555\n",
            "train loss so far: 8.924604415893555\n",
            "--------------------------------------------------\n",
            "\n"
          ]
        },
        {
          "output_type": "display_data",
          "data": {
            "text/plain": [
              "  0%|          | 0/500 [00:00<?, ?it/s]"
            ],
            "application/vnd.jupyter.widget-view+json": {
              "version_major": 2,
              "version_minor": 0,
              "model_id": "6df25ea3efc6474e84aab79c5a458218"
            }
          },
          "metadata": {}
        },
        {
          "output_type": "stream",
          "name": "stdout",
          "text": [
            "val loss: 8.623482704162598\n",
            "\n",
            "--------------------------------------------------\n",
            "batch 500 train step loss: 2.6512229442596436\n",
            "train loss so far: 3.6891043186187744\n",
            "--------------------------------------------------\n",
            "\n",
            "\n",
            "--------------------------------------------------\n",
            "batch 1000 train step loss: 2.2435429096221924\n",
            "train loss so far: 3.0673017501831055\n",
            "--------------------------------------------------\n",
            "\n"
          ]
        },
        {
          "output_type": "display_data",
          "data": {
            "text/plain": [
              "  0%|          | 0/500 [00:00<?, ?it/s]"
            ],
            "application/vnd.jupyter.widget-view+json": {
              "version_major": 2,
              "version_minor": 0,
              "model_id": "8fcf4dead16045e6b0f0150079ffbb8c"
            }
          },
          "metadata": {}
        },
        {
          "output_type": "stream",
          "name": "stdout",
          "text": [
            "val loss: 7.622696399688721\n",
            "\n",
            "--------------------------------------------------\n",
            "batch 1500 train step loss: 1.8237824440002441\n",
            "train loss so far: 2.7239460945129395\n",
            "--------------------------------------------------\n",
            "\n",
            "\n",
            "--------------------------------------------------\n",
            "batch 2000 train step loss: 1.8233225345611572\n",
            "train loss so far: 2.4948811531066895\n",
            "--------------------------------------------------\n",
            "\n"
          ]
        },
        {
          "output_type": "display_data",
          "data": {
            "text/plain": [
              "  0%|          | 0/500 [00:00<?, ?it/s]"
            ],
            "application/vnd.jupyter.widget-view+json": {
              "version_major": 2,
              "version_minor": 0,
              "model_id": "0a5df1821207410eb6c5aac7e2880892"
            }
          },
          "metadata": {}
        },
        {
          "output_type": "stream",
          "name": "stdout",
          "text": [
            "val loss: 8.722192764282227\n",
            "\n",
            "--------------------------------------------------\n",
            "batch 2500 train step loss: 1.6838065385818481\n",
            "train loss so far: 2.3367440700531006\n",
            "--------------------------------------------------\n",
            "\n",
            "\n",
            "--------------------------------------------------\n",
            "batch 3000 train step loss: 1.6464695930480957\n",
            "train loss so far: 2.2155940532684326\n",
            "--------------------------------------------------\n",
            "\n"
          ]
        },
        {
          "output_type": "display_data",
          "data": {
            "text/plain": [
              "  0%|          | 0/500 [00:00<?, ?it/s]"
            ],
            "application/vnd.jupyter.widget-view+json": {
              "version_major": 2,
              "version_minor": 0,
              "model_id": "5f496900686448ec8321b872878cbc9b"
            }
          },
          "metadata": {}
        },
        {
          "output_type": "stream",
          "name": "stdout",
          "text": [
            "val loss: 9.460982322692871\n",
            "\n",
            "--------------------------------------------------\n",
            "batch 3500 train step loss: 1.530106544494629\n",
            "train loss so far: 2.1196699142456055\n",
            "--------------------------------------------------\n",
            "\n",
            "\n",
            "--------------------------------------------------\n",
            "batch 4000 train step loss: 1.4147590398788452\n",
            "train loss so far: 2.041123151779175\n",
            "--------------------------------------------------\n",
            "\n"
          ]
        },
        {
          "output_type": "display_data",
          "data": {
            "text/plain": [
              "  0%|          | 0/500 [00:00<?, ?it/s]"
            ],
            "application/vnd.jupyter.widget-view+json": {
              "version_major": 2,
              "version_minor": 0,
              "model_id": "3b7dd7c6e73c43fb9b9aadeebe770f08"
            }
          },
          "metadata": {}
        },
        {
          "output_type": "stream",
          "name": "stdout",
          "text": [
            "val loss: 9.942041397094727\n",
            "\n",
            "--------------------------------------------------\n",
            "batch 4500 train step loss: 1.3599495887756348\n",
            "train loss so far: 1.9734876155853271\n",
            "--------------------------------------------------\n",
            "\n",
            "\n",
            "--------------------------------------------------\n",
            "batch 4999 train step loss: 1.4303648471832275\n",
            "train loss so far: 1.912103295326233\n",
            "--------------------------------------------------\n",
            "\n"
          ]
        },
        {
          "output_type": "display_data",
          "data": {
            "text/plain": [
              "  0%|          | 0/500 [00:00<?, ?it/s]"
            ],
            "application/vnd.jupyter.widget-view+json": {
              "version_major": 2,
              "version_minor": 0,
              "model_id": "2ed25fc7525e4cc1a80b2b49361fe169"
            }
          },
          "metadata": {}
        },
        {
          "output_type": "stream",
          "name": "stdout",
          "text": [
            "val loss: 10.076545715332031\n"
          ]
        }
      ],
      "source": [
        "tsl,vl=train_lm()"
      ]
    },
    {
      "cell_type": "code",
      "execution_count": 62,
      "id": "daf3fb0a",
      "metadata": {
        "execution": {
          "iopub.execute_input": "2023-02-15T09:33:48.013861Z",
          "iopub.status.busy": "2023-02-15T09:33:48.012779Z",
          "iopub.status.idle": "2023-02-15T09:33:48.020078Z",
          "shell.execute_reply": "2023-02-15T09:33:48.019165Z"
        },
        "papermill": {
          "duration": 0.020529,
          "end_time": "2023-02-15T09:33:48.022008",
          "exception": false,
          "start_time": "2023-02-15T09:33:48.001479",
          "status": "completed"
        },
        "tags": [],
        "colab": {
          "base_uri": "https://localhost:8080/"
        },
        "id": "daf3fb0a",
        "outputId": "c5aeab51-c453-49ad-f0a5-c628f5893955"
      },
      "outputs": [
        {
          "output_type": "stream",
          "name": "stdout",
          "text": [
            "Train Loss: 1.912103295326233\n"
          ]
        }
      ],
      "source": [
        "tsl_mean = torch.tensor(tsl).mean()\n",
        "print('Train Loss:',tsl_mean.item())"
      ]
    },
    {
      "cell_type": "markdown",
      "id": "90615335",
      "metadata": {
        "papermill": {
          "duration": 0.010216,
          "end_time": "2023-02-15T09:33:48.042730",
          "exception": false,
          "start_time": "2023-02-15T09:33:48.032514",
          "status": "completed"
        },
        "tags": [],
        "id": "90615335"
      },
      "source": [
        "# Loss Plots"
      ]
    },
    {
      "cell_type": "code",
      "execution_count": 63,
      "id": "2fb074fb",
      "metadata": {
        "execution": {
          "iopub.execute_input": "2023-02-15T09:33:48.066039Z",
          "iopub.status.busy": "2023-02-15T09:33:48.065700Z",
          "iopub.status.idle": "2023-02-15T09:33:48.472232Z",
          "shell.execute_reply": "2023-02-15T09:33:48.471333Z"
        },
        "papermill": {
          "duration": 0.421471,
          "end_time": "2023-02-15T09:33:48.474238",
          "exception": false,
          "start_time": "2023-02-15T09:33:48.052767",
          "status": "completed"
        },
        "tags": [],
        "colab": {
          "base_uri": "https://localhost:8080/",
          "height": 843
        },
        "id": "2fb074fb",
        "outputId": "e7043704-a5d2-406b-a21c-4fa8412547fe"
      },
      "outputs": [
        {
          "output_type": "display_data",
          "data": {
            "text/plain": [
              "<Figure size 640x480 with 1 Axes>"
            ],
            "image/png": "[encoded data removed]"
          },
          "metadata": {}
        },
        {
          "output_type": "display_data",
          "data": {
            "text/plain": [
              "<Figure size 640x480 with 1 Axes>"
            ],
            "image/png": "[encoded data removed]"
          },
          "metadata": {}
        }
      ],
      "source": [
        "plt.plot(tsl,label='train step loss',color='orange')\n",
        "plt.legend()\n",
        "plt.show()\n",
        "plt.plot(vl,label='validation loss',color='green')\n",
        "plt.legend()\n",
        "plt.show()"
      ]
    },
    {
      "cell_type": "markdown",
      "id": "de2b6fc7",
      "metadata": {
        "papermill": {
          "duration": 0.0103,
          "end_time": "2023-02-15T09:33:48.495243",
          "exception": false,
          "start_time": "2023-02-15T09:33:48.484943",
          "status": "completed"
        },
        "tags": [],
        "id": "de2b6fc7"
      },
      "source": [
        "# Generating"
      ]
    },
    {
      "cell_type": "code",
      "execution_count": 64,
      "id": "17eed1d8",
      "metadata": {
        "execution": {
          "iopub.execute_input": "2023-02-15T09:33:48.518097Z",
          "iopub.status.busy": "2023-02-15T09:33:48.517235Z",
          "iopub.status.idle": "2023-02-15T09:34:05.249521Z",
          "shell.execute_reply": "2023-02-15T09:34:05.246784Z"
        },
        "papermill": {
          "duration": 16.747131,
          "end_time": "2023-02-15T09:34:05.252804",
          "exception": false,
          "start_time": "2023-02-15T09:33:48.505673",
          "status": "completed"
        },
        "tags": [],
        "colab": {
          "base_uri": "https://localhost:8080/"
        },
        "id": "17eed1d8",
        "outputId": "ab6f3276-9eb6-4f06-8cde-3efc15747735"
      },
      "outputs": [
        {
          "output_type": "stream",
          "name": "stdout",
          "text": [
            "generated (100 tokens)\n",
            "==================================================\n",
            "t á landshlutana herráðherra styðja stækkun tveggja þar með þessari ræðu hæstv. utanríkisráðherra er fyrsti þingmaður algerlega fyrir, segir varðandi skattaráðherra, alveg ótrúlegt á því að vel á að hægja Samfylkingarinnar hafa líka spilju, og skattanefnd taki þær og vel á götunum á auðlefni, skuldina.  Frú forseti, hver annan hvern sparisjóð og vikum til þess að fara til að einhverju hér á fer aftur, og hafi verið mjög li áskilja sér og\n",
            "==================================================\n",
            "\n",
            "\n",
            "generated (300 tokens)\n",
            "==================================================\n",
            "tal.. Og ríkisstjórnin ekki gert. H. Það átti að velta þessu máli. Ég get þetta nú hefur komið inn í umræðunni að inn megin hrödd haustu sem ég geri ég kosið, eins og hún ágætisr og það er ekki er það auðvitað rétt fyrirvarana og þingmaður eru þúsin eru þetta málefnalegrar ef við öll hér til liðs ef við hefðum þá langar til að málið núna þegar við hv. Það er verið í staðinn fyrir þingheimur hv. þingmann um mat í ríkisstjórn sagði áðan og minna á fundi í hendur áfram samninga í gökkanum. þingmann um einhvers konar samninganefnd, þ. Það er mál. Hins vegar þau við samningana og er fól sem ég því ekki að sækja skaða sem mál, þegar var á sitt held ég vil þakka hv. Mig langar þó hún sagði: „…ar að kollvarpa undir það sem hún hefði verið í þessum nýju samningsins. þingmanni fyrir, af af því að samningamenn stjórnvöld hafa sagt, efnahagsleg sem er búið við hv. Mig langar til málefnaleg ræða um þetta sé samið um að mér í ríkisstjórn, af hverju sinni áðan og sáttur sem hún við vinnu og við hv. þingmann um að þingið, af yfirlýs til. þingmann um stjórnarþingmenn hafa verið í frumvarpinu. Hv. Icesave-málið, með að semja við hv. Nú liggur okkar á þennan leið í að breyta málinu áfram á þingi sem voru kallaðir íslensku þjóðarinnar. þingmanni er alveg fyrir, verulegar er háumir væntanlega eftir og allt sumar,\n",
            "==================================================\n",
            "\n",
            "\n",
            "generated (500 tokens)\n",
            "==================================================\n",
            "t ekki upphliðaverk Það bætir og hún hafi verið og rétt að kynna málið í þessu leyti verið hirna. Ég spyr mig til að ræða. Í samning þennan samninginn ekki að það er Forseti hringir. Hvað það þarf ekki verið áhöld um hvort það er búið við Væfralega starfsemi bankanna sem látít. Hann hefur gefið frá sér rétt og gert?  Framsóknarflokkurinn hér voru alltaf bæði bréft samningi hafa ekki? Það er það. Það er búin að ræða. En mér að vera, nú og þeim ranglega skrifað að það. Það er. Við höfum við höfum aldrei verið höldum fyrir bankahrunið og ýmsir núna eins og hef ekki bara þetta, tala saman þverpólitísknámgrunn, sem mörg mistök og tala saman í þessari spurningu hvað er á því að það hafi verið gert. Það hefur aldrei verið sundur okkar vest að Ísland úr þessari óbærilegum pólitískum og reyna að reyna að þetta var ekki bara lokaðir inni, hvera, af mál og verðum að gera það er margt sem hefur í gær þar að gera það er það sem er mjög fý við höfum við erum líka minna úr ríkis og ég er það.kinni sannarlega veriðu við höfum við þetta og okkur allan rétt hjá og það að það. Ég hef verið að leysa þetta hefur. Ég hefði átt að gera það. Við sjálfstæðismenn skák, að undanförnu fyrir því líka minna þingmenn, frá því að gera það hvernig samfylkn aftur fyrir munn.a, ef viðræður sem mér þykir við staðið, hver skuldir okkar á og það hljótum við mjög margt sem fyrir þingmenn verrikmálið allt. ur á samspili af því að reyna að að við þingmenn, tapa leikpnum eins og aftur á borðinu ef ég vildi gera það ekki í því að undanförnu fyrir. Það hefur staðið, tapa á samspilium stöðvöpp.  Virðulegi forseti, og það hefur verið hugsaðunum er um það er bara þrír kostir þessa máls og þingmann um kró dag og orð, þannig að leysa úr hrunppist máli og verður að það nokkuð ofsagt. Guðfríðar Lilju Grétarsdóttir. október og bjart Íslands, vel. Þá er hægt að semja um ríkisstjórn upp og allt. að horfa af gögnunum, þetta mál þannig að mynda voru í ríkisstjórn Gíðurinn sérstaklega að ljúka þessu erfiðasta móti til þess sem hún orð hæstv. Ég vil ræða hv. Ég fagna því að eftir\n",
            "==================================================\n",
            "\n",
            "\n",
            "generated (700 tokens)\n",
            "==================================================\n",
            "t ekki að þakka fyrir svörst en ekki svarað og velta nærri umræðu, hverju einasta orði. þingmanni fyrir okkur allan tímann í ræðu hennar þótt ég sé ekki væri ekki gert hvort við hv. Gripið fram fyrir dómstóla Íslands og ég sé eftir hrun. þingmanni, og fremst með henni hjartanleganir óþ ríkisstjórnarinnar varðandi ég verð að engin efnisleg breyting hafi ekki sanngjarnt að þ. þm. Í lögunum frá þeim efnahagslegu niðurstöðu sem við þá leiðind. Þórunni Sæknardóttur.a öryggi þegar þeir séu að leyfa henni firðison, þ. Ég hefjast nýr kafli á þessari tilfinninga í háa. félagsmálaráðherra Árni Páll Árnas Árna. Þess vegna þess að átta� í dag. Þess vegna þess að spyrja um að ekki verið að uppbyggingu í þessari umræðu og gjöldum sömuleiðis. Okkunum ætlum að spyrja hv. þm. Þess vegna þess hugsanlega í dag, dag snýst þegar þingið. Ég segi: Þingið hefur verið í upp fyrir í dag snýst ekkert skrýtið að loka þeir ekki í samfélaginuunnar.  Frú forseti, sem hér verði lagst ofan í hátta mun raunverulega, hvaða eins þænáttir við horfa í huga í göddir hér átti allt það er mjög margar þver í samræmi við það í háum, verður að bjarga ríkisstjórninni, á því að við, því að við eigum við sjálfstæðismenn hér að bjart um það hvernig hann horfast ekki orðið á hinn á umbyrgðarlög. Orétar og annað þess að það verður að við höfum við eigum við getum átt sér, að það að leitaja menn, við, hver sem eftir því að menn sko eða stökkanirnnáttir, á því að menn og Samfylkingarinnar hafa daverki, sem hún þekkir hér í ræðu sinni sem á því að loka þá hefur staða Íslands á þinginu og orð, á málinu í þinginu þetta málflutning okkar ríkissjóð að menn til auknar í stórt m. Ég held að ber að setja málið gegn lögum, endatkór sem er í skattar á þessum lið sem eru, og mikilvæg áhrif þessi málflutning okkar alls staðar? Það sem þingið hefur staðið okkur upp skattlag ekki bara máli og erfiðar með eftir þeirri höldunum, að ef það.  Virðulegi forseti. Ég ætla að þetta málflutning okkar er bara að það eruðni, dag í þessu máli ef þeir eru það er ekki boðið í dag, það hafa höfum við að menn takast á hvaða flokki eða með fullnnákór sem hefur vald á málinu? Gripið fram í ljós við getum ekki, alveg ljóst að það eru menn að ræða á næstu ef þingið og í ljós í framhaldinu. Þess vegna þessa glæsi fjölmiðla sem þessiaðilarlega, alveg segja að ganga eftir?  Frú forseti, á málinu verði viðskiptal margt í upp skattana, á það sem málið á að ljúka þessu máli, af því að bæta þetta. Og hvað mundi hann.deilu og hefur ríkisstjórnin hefur mikið í sínar stóru sem við þingmenn á þetta verkefni höfum við erum búin meira en ég núna í góðum höndum saman? Ég lít þegar menn voru kallaðir til núna eigum að komast áfram samninga, núverandi viljað það. Það er verið gerð. Ég fagna því í sínar hendur á landi á þessum hætti er þetta en mér fannst við getum ekki dregin fyrir komandi eftir, þeir sérfræðingar sem er algjörlega búið að segja að framkvæmdarvaldið hann hafi verið minn heimtur síðan, ég vil ræða\n",
            "==================================================\n",
            "\n",
            "\n",
            "generated (1000 tokens)\n",
            "==================================================\n",
            "tsmeskurð onsögulegu undir gagnvart stjórnarskránun tveggja manna best með því miður sátu sem við erum í raun ekki að eyða tíma verði til að lokum eins og vikum. Ætsýnin sem setur lögmaðurinn á framfæri en líka ruslóðirnir Landsbankans og við í lögum, fyrir því þegar lögin voru alltaf  Frú forseti, því hvað varðar hugsanverka einfaldlega mitt til að gera það þurfum að fyrir. Það hefur mátt samninginn fyrir utan. þingmanni á ferðinni. þingmann liggur því að gera í sama mál. Við verðum að losa okkur á þessum rétti af því að gera þeir sem liggur fyrir undir það gerðu. þingmanni. Við verðum. Það sem Alþingi og náttúrlega eignir vera að nú. En mér fannst við erum í þeim við sjálf undir samningi, því að þetta. Það gerðu stjórnvöld hafa ekki þannig að það er sá ræðu sinni að menn gerðu nú hefur alla. Það er allt sem þannig að því sem væru hér í að þetta hefur verið gert. Ég vil þakka hv. Þá langar til að sé ráðir fyrir þá ekki svarað þessu leyti að því að semja við hv. þingmanni sem ég var á Alþingi sem það, ég að ég talið skynsamlegra og það voru. þingmann um það hefði hún hefði ég sagði áðan og hún telji þetta mál á Bretar og að sé ekki að enginn sem hún ekki að kynna málið og með hv. Mig langar mig að hún hefði hún var að gera breytingar þetta sé ekki tekið undir, ég sagði hér að það aftur í sumar ognir yrðu að kynna málið hafi verið í sumariðhst á lagaleg álitamáloppistöðu sé búin að ég sagði áðan að eins og ég man um hæstv. Eins og því hér áðan að tala í frumvarpinu.  Virðulegi forseti. Eins til að samþykkja þetta mál þar eru þetta formlega að það að reyna að í framhaldinu að að hún sagði áðan að velta því í hendur við þetta mál sem núna skákjinn sem talaði um hvort hún taki undirskennt sérstaklega að það liggur fyrir um vinnubrögðin þessara fyrirvara sem talaði í málinu í þessum liðleg áhrif fyrirvara samþykktur í staðinn fyrirvörum hætti.  Virðulegi forseti. .  Virðulegi forseti. Ég held ég vildi ekki stöður er ekki í máli hæstv.  Frú forseti.  Frú forseti laga ef þingið hvernig atkvæðagreiðslan fór fram í stöð Íslands, skát um þessi málstað Íslands og Hollendingum sem það sé ekki sammála sem við hefðum ekki þannig að fara yfir allt saman og við skaráðherra svona eigi að við skák sem á málinu á mikilvægur og það sé ekki eins og í sumar var á þessu máli okkar styrkur og það þannig að fara yfir það. þingmaður og mikilvæg áhrif á borðinu sem á það að við, jafli, á það sé ekki sammála honum þeirri stöðu sem á þinginu hafi verið í því að í. Ég vildum óska að það fram í gegniðtíma ríkisstjórnarinnar og svo mánuðum til. þingmaður og það hvaða leyti í þeirri samstöðu eftir hrun. Í ræðu. þingmanninum til að við hefðum ekki burði þannig. þingmaður og hefði ég á enda, ef það þannig í þessum nýju og í því þannig að leysa þetta frumvarp sem sett fram í þessu máli. Þá hljótum við mundum greiða úr þeirri stöðu sem var nefnilega vel yfirbyrgð á málinu þannig að velta því að gera það var málefnaleg eins og það eru, ef menn hafa. Hins vegar höfum leiðir er tekið málin í þessu máli. Ef ef við höfum enga að allt að við erlenda fjölmiðla í sameigin út í upp skuld halda að lokadagsins vegna er á málinu verði við að greiða í samræmi við höfum leiðir hafa kannski dugar aðstæður okkar áskiljum okkur út af því hvernig þetta málstað. Því grundvallarprlega okkur? Hvernig okkar hunum, hafa minna ræða vinnubrögðin í sumar hafa á málinu.dísimaður sem var ekki verið að halda málinu, löggjafarsamk. En ég að ríkisstjórnin búin að ný vinnubrögð þingsins. Það er lausnina var það varðar að verið mjög erfiðar hagvint út orð hæstv. Af hverju hún er búið að halda til þess að það eru lokaðar og það ekki vald stjórnmálamaður, á því erfiða máli okkar, alveg klókum sem ríkisstjórnin, við bara lokaðir inni til þess að það er mjög fir? Það er að m. Það hefði sýnt að hinn, það sé að það að halda til um og alla, að ég hef ekki lengra? Halls við ætluðum að gera um upplausar fyrirvörunum hér liggur fyrirvararnir, orðið okkur mjög erfiðar að mínu mati að komast áfram því að komast að þetta mál, það má alveg segja að leiða á þetta er hverju voru kallaðir, það gæti kallað yfir það er verið kallaðir saman mjög fir?  Frú forseti. Varðandi það er í því að hinn verja Garáðherra hefur auðvitað hafa varðandi atvinnumál og Ragnarskast lít Íslands í sumar þetta núna og stjórnvöld svo vel Þingið tók ríkisstjórnin hefði\n",
            "==================================================\n",
            "\n",
            "\n"
          ]
        }
      ],
      "source": [
        "generated_texts = []\n",
        "for length in [100,300,500,700,1000]:\n",
        "    generated = lm.generate(\n",
        "    torch.zeros((1,1),dtype=torch.long,device=Config.device)+61, # initial context 61 (i believe its \\n)\n",
        "    total=length\n",
        ")\n",
        "    generated = tokenizer.decode(generated[0].cpu().numpy())\n",
        "    text=f'generated ({length} tokens)\\n{\"=\"*50}\\n{generated}\\n{\"=\"*50}\\n\\n'\n",
        "    generated_texts.append(text)\n",
        "    print(text)"
      ]
    },
    {
      "cell_type": "code",
      "execution_count": 65,
      "id": "b37c725f",
      "metadata": {
        "execution": {
          "iopub.execute_input": "2023-02-15T09:34:05.277240Z",
          "iopub.status.busy": "2023-02-15T09:34:05.276908Z",
          "iopub.status.idle": "2023-02-15T09:34:05.282207Z",
          "shell.execute_reply": "2023-02-15T09:34:05.281145Z"
        },
        "papermill": {
          "duration": 0.0195,
          "end_time": "2023-02-15T09:34:05.284348",
          "exception": false,
          "start_time": "2023-02-15T09:34:05.264848",
          "status": "completed"
        },
        "tags": [],
        "id": "b37c725f"
      },
      "outputs": [],
      "source": [
        "with open('generated.txt','w') as f:\n",
        "    for text in generated_texts:\n",
        "        f.write(text)"
      ]
    },
    {
      "cell_type": "code",
      "execution_count": 66,
      "id": "b6e9baec",
      "metadata": {
        "colab": {
          "base_uri": "https://localhost:8080/"
        },
        "id": "b6e9baec",
        "outputId": "5dd8d0c6-174a-4ce3-a70e-9da5cccc8efb"
      },
      "outputs": [
        {
          "output_type": "execute_result",
          "data": {
            "text/plain": [
              "(['K',\n",
              "  'ir',\n",
              "  'k',\n",
              "  'just',\n",
              "  'r',\n",
              "  'Ã¦ti',\n",
              "  'ĠReykja',\n",
              "  'vik',\n",
              "  'ĠIceland',\n",
              "  'Ġ2009',\n",
              "  '-',\n",
              "  '1',\n",
              "  '2',\n",
              "  '-',\n",
              "  '1',\n",
              "  '6',\n",
              "  'ĠĠ',\n",
              "  'ĠĠ',\n",
              "  'ĠVirÃ°ulegi',\n",
              "  'Ġforseti',\n",
              "  '.'],\n",
              " [29,\n",
              "  114,\n",
              "  52,\n",
              "  4290,\n",
              "  59,\n",
              "  449,\n",
              "  2928,\n",
              "  4393,\n",
              "  6219,\n",
              "  2217,\n",
              "  3,\n",
              "  7,\n",
              "  8,\n",
              "  3,\n",
              "  7,\n",
              "  12,\n",
              "  2993,\n",
              "  2993,\n",
              "  772,\n",
              "  313,\n",
              "  4],\n",
              " tensor([[  29,  114,   52, 4290,   59,  449, 2928, 4393, 6219, 2217,    3,    7,\n",
              "             8,    3,    7,   12, 2993, 2993,  772,  313,    4]],\n",
              "        device='cuda:0'))"
            ]
          },
          "metadata": {},
          "execution_count": 66
        }
      ],
      "source": [
        "input_text = \"Kirkjustræti Reykjavik Iceland 2009-12-16     Virðulegi forseti.\"\n",
        "input = tokenizer.encode(input_text, add_special_tokens=False)\n",
        "input_ids = torch.tensor(input.ids, dtype=torch.long, device=Config.device).unsqueeze(0)\n",
        "\n",
        "input.tokens, input.ids, input_ids"
      ]
    },
    {
      "cell_type": "code",
      "execution_count": 67,
      "id": "9e3563e7",
      "metadata": {
        "colab": {
          "base_uri": "https://localhost:8080/"
        },
        "id": "9e3563e7",
        "outputId": "18ef41c4-fcdd-4672-e11d-18673cf08667"
      },
      "outputs": [
        {
          "output_type": "stream",
          "name": "stdout",
          "text": [
            "generated (50 tokens)\n",
            "==================================================\n",
            "Kirkjustræti Reykjavik Iceland 2009-12-16     Virðulegi forseti.a. Gæti ekki að reyna að spyrja þingmanninn þessarar ríkisstjórnar sem ég benti svo mikið um Í gær þar gátu menn hétsýn og svo efnahagslífsóknina bæði bréf þar. As-msag til að Íslendingar við séum í.\n",
            "==================================================\n",
            "\n",
            "\n"
          ]
        }
      ],
      "source": [
        "\n",
        "\n",
        "length = 50\n",
        "generated = lm.generate(\n",
        "    input_ids,\n",
        "    total=length\n",
        ")\n",
        "\n",
        "generated = tokenizer.decode(generated[0].cpu().numpy())\n",
        "text=f'generated ({length} tokens)\\n{\"=\"*50}\\n{generated}\\n{\"=\"*50}\\n\\n'\n",
        "print(text)"
      ]
    }
  ],
  "metadata": {
    "kernelspec": {
      "display_name": "Python 3",
      "name": "python3"
    },
    "language_info": {
      "codemirror_mode": {
        "name": "ipython",
        "version": 3
      },
      "file_extension": ".py",
      "mimetype": "text/x-python",
      "name": "python",
      "nbconvert_exporter": "python",
      "pygments_lexer": "ipython3",
      "version": "3.9.1"
    },
    "papermill": {
      "default_parameters": {},
      "duration": 1398.484964,
      "end_time": "2023-02-15T09:34:06.443779",
      "environment_variables": {},
      "exception": null,
      "input_path": "__notebook__.ipynb",
      "output_path": "__notebook__.ipynb",
      "parameters": {},
      "start_time": "2023-02-15T09:10:47.958815",
      "version": "2.3.4"
    },
    "widgets": {
      "application/vnd.jupyter.widget-state+json": {
        "b3d8cc6294e64e86bf0d7c1ef8606421": {
          "model_module": "@jupyter-widgets/controls",
          "model_name": "HBoxModel",
          "model_module_version": "1.5.0",
          "state": {
            "_dom_classes": [],
            "_model_module": "@jupyter-widgets/controls",
            "_model_module_version": "1.5.0",
            "_model_name": "HBoxModel",
            "_view_count": null,
            "_view_module": "@jupyter-widgets/controls",
            "_view_module_version": "1.5.0",
            "_view_name": "HBoxView",
            "box_style": "",
            "children": [
              "IPY_MODEL_feae0b52e22a49acb734346c34a5e252",
              "IPY_MODEL_e25b5d95ae6346fa82d64188767488f7",
              "IPY_MODEL_906d8612ba1a42549a35e26ee7bf95ad"
            ],
            "layout": "IPY_MODEL_0c20667c100346759a30479871a073b8"
          }
        },
        "feae0b52e22a49acb734346c34a5e252": {
          "model_module": "@jupyter-widgets/controls",
          "model_name": "HTMLModel",
          "model_module_version": "1.5.0",
          "state": {
            "_dom_classes": [],
            "_model_module": "@jupyter-widgets/controls",
            "_model_module_version": "1.5.0",
            "_model_name": "HTMLModel",
            "_view_count": null,
            "_view_module": "@jupyter-widgets/controls",
            "_view_module_version": "1.5.0",
            "_view_name": "HTMLView",
            "description": "",
            "description_tooltip": null,
            "layout": "IPY_MODEL_cd5a0163ad51476a8d87703ac80c6cb2",
            "placeholder": "​",
            "style": "IPY_MODEL_51cc54fa5b2945f580803a19c7db68d3",
            "value": "100%"
          }
        },
        "e25b5d95ae6346fa82d64188767488f7": {
          "model_module": "@jupyter-widgets/controls",
          "model_name": "FloatProgressModel",
          "model_module_version": "1.5.0",
          "state": {
            "_dom_classes": [],
            "_model_module": "@jupyter-widgets/controls",
            "_model_module_version": "1.5.0",
            "_model_name": "FloatProgressModel",
            "_view_count": null,
            "_view_module": "@jupyter-widgets/controls",
            "_view_module_version": "1.5.0",
            "_view_name": "ProgressView",
            "bar_style": "success",
            "description": "",
            "description_tooltip": null,
            "layout": "IPY_MODEL_d0e0d2bf8f2e4856885b810135954aaf",
            "max": 5000,
            "min": 0,
            "orientation": "horizontal",
            "style": "IPY_MODEL_43ded7da40e749359147643ac5e569fc",
            "value": 5000
          }
        },
        "906d8612ba1a42549a35e26ee7bf95ad": {
          "model_module": "@jupyter-widgets/controls",
          "model_name": "HTMLModel",
          "model_module_version": "1.5.0",
          "state": {
            "_dom_classes": [],
            "_model_module": "@jupyter-widgets/controls",
            "_model_module_version": "1.5.0",
            "_model_name": "HTMLModel",
            "_view_count": null,
            "_view_module": "@jupyter-widgets/controls",
            "_view_module_version": "1.5.0",
            "_view_name": "HTMLView",
            "description": "",
            "description_tooltip": null,
            "layout": "IPY_MODEL_ae550c504bd44924a613185749e1d842",
            "placeholder": "​",
            "style": "IPY_MODEL_79571185bc4e438194a815ee96830c74",
            "value": " 5000/5000 [29:49&lt;00:00, 15.68s/it]"
          }
        },
        "0c20667c100346759a30479871a073b8": {
          "model_module": "@jupyter-widgets/base",
          "model_name": "LayoutModel",
          "model_module_version": "1.2.0",
          "state": {
            "_model_module": "@jupyter-widgets/base",
            "_model_module_version": "1.2.0",
            "_model_name": "LayoutModel",
            "_view_count": null,
            "_view_module": "@jupyter-widgets/base",
            "_view_module_version": "1.2.0",
            "_view_name": "LayoutView",
            "align_content": null,
            "align_items": null,
            "align_self": null,
            "border": null,
            "bottom": null,
            "display": null,
            "flex": null,
            "flex_flow": null,
            "grid_area": null,
            "grid_auto_columns": null,
            "grid_auto_flow": null,
            "grid_auto_rows": null,
            "grid_column": null,
            "grid_gap": null,
            "grid_row": null,
            "grid_template_areas": null,
            "grid_template_columns": null,
            "grid_template_rows": null,
            "height": null,
            "justify_content": null,
            "justify_items": null,
            "left": null,
            "margin": null,
            "max_height": null,
            "max_width": null,
            "min_height": null,
            "min_width": null,
            "object_fit": null,
            "object_position": null,
            "order": null,
            "overflow": null,
            "overflow_x": null,
            "overflow_y": null,
            "padding": null,
            "right": null,
            "top": null,
            "visibility": null,
            "width": null
          }
        },
        "cd5a0163ad51476a8d87703ac80c6cb2": {
          "model_module": "@jupyter-widgets/base",
          "model_name": "LayoutModel",
          "model_module_version": "1.2.0",
          "state": {
            "_model_module": "@jupyter-widgets/base",
            "_model_module_version": "1.2.0",
            "_model_name": "LayoutModel",
            "_view_count": null,
            "_view_module": "@jupyter-widgets/base",
            "_view_module_version": "1.2.0",
            "_view_name": "LayoutView",
            "align_content": null,
            "align_items": null,
            "align_self": null,
            "border": null,
            "bottom": null,
            "display": null,
            "flex": null,
            "flex_flow": null,
            "grid_area": null,
            "grid_auto_columns": null,
            "grid_auto_flow": null,
            "grid_auto_rows": null,
            "grid_column": null,
            "grid_gap": null,
            "grid_row": null,
            "grid_template_areas": null,
            "grid_template_columns": null,
            "grid_template_rows": null,
            "height": null,
            "justify_content": null,
            "justify_items": null,
            "left": null,
            "margin": null,
            "max_height": null,
            "max_width": null,
            "min_height": null,
            "min_width": null,
            "object_fit": null,
            "object_position": null,
            "order": null,
            "overflow": null,
            "overflow_x": null,
            "overflow_y": null,
            "padding": null,
            "right": null,
            "top": null,
            "visibility": null,
            "width": null
          }
        },
        "51cc54fa5b2945f580803a19c7db68d3": {
          "model_module": "@jupyter-widgets/controls",
          "model_name": "DescriptionStyleModel",
          "model_module_version": "1.5.0",
          "state": {
            "_model_module": "@jupyter-widgets/controls",
            "_model_module_version": "1.5.0",
            "_model_name": "DescriptionStyleModel",
            "_view_count": null,
            "_view_module": "@jupyter-widgets/base",
            "_view_module_version": "1.2.0",
            "_view_name": "StyleView",
            "description_width": ""
          }
        },
        "d0e0d2bf8f2e4856885b810135954aaf": {
          "model_module": "@jupyter-widgets/base",
          "model_name": "LayoutModel",
          "model_module_version": "1.2.0",
          "state": {
            "_model_module": "@jupyter-widgets/base",
            "_model_module_version": "1.2.0",
            "_model_name": "LayoutModel",
            "_view_count": null,
            "_view_module": "@jupyter-widgets/base",
            "_view_module_version": "1.2.0",
            "_view_name": "LayoutView",
            "align_content": null,
            "align_items": null,
            "align_self": null,
            "border": null,
            "bottom": null,
            "display": null,
            "flex": null,
            "flex_flow": null,
            "grid_area": null,
            "grid_auto_columns": null,
            "grid_auto_flow": null,
            "grid_auto_rows": null,
            "grid_column": null,
            "grid_gap": null,
            "grid_row": null,
            "grid_template_areas": null,
            "grid_template_columns": null,
            "grid_template_rows": null,
            "height": null,
            "justify_content": null,
            "justify_items": null,
            "left": null,
            "margin": null,
            "max_height": null,
            "max_width": null,
            "min_height": null,
            "min_width": null,
            "object_fit": null,
            "object_position": null,
            "order": null,
            "overflow": null,
            "overflow_x": null,
            "overflow_y": null,
            "padding": null,
            "right": null,
            "top": null,
            "visibility": null,
            "width": null
          }
        },
        "43ded7da40e749359147643ac5e569fc": {
          "model_module": "@jupyter-widgets/controls",
          "model_name": "ProgressStyleModel",
          "model_module_version": "1.5.0",
          "state": {
            "_model_module": "@jupyter-widgets/controls",
            "_model_module_version": "1.5.0",
            "_model_name": "ProgressStyleModel",
            "_view_count": null,
            "_view_module": "@jupyter-widgets/base",
            "_view_module_version": "1.2.0",
            "_view_name": "StyleView",
            "bar_color": null,
            "description_width": ""
          }
        },
        "ae550c504bd44924a613185749e1d842": {
          "model_module": "@jupyter-widgets/base",
          "model_name": "LayoutModel",
          "model_module_version": "1.2.0",
          "state": {
            "_model_module": "@jupyter-widgets/base",
            "_model_module_version": "1.2.0",
            "_model_name": "LayoutModel",
            "_view_count": null,
            "_view_module": "@jupyter-widgets/base",
            "_view_module_version": "1.2.0",
            "_view_name": "LayoutView",
            "align_content": null,
            "align_items": null,
            "align_self": null,
            "border": null,
            "bottom": null,
            "display": null,
            "flex": null,
            "flex_flow": null,
            "grid_area": null,
            "grid_auto_columns": null,
            "grid_auto_flow": null,
            "grid_auto_rows": null,
            "grid_column": null,
            "grid_gap": null,
            "grid_row": null,
            "grid_template_areas": null,
            "grid_template_columns": null,
            "grid_template_rows": null,
            "height": null,
            "justify_content": null,
            "justify_items": null,
            "left": null,
            "margin": null,
            "max_height": null,
            "max_width": null,
            "min_height": null,
            "min_width": null,
            "object_fit": null,
            "object_position": null,
            "order": null,
            "overflow": null,
            "overflow_x": null,
            "overflow_y": null,
            "padding": null,
            "right": null,
            "top": null,
            "visibility": null,
            "width": null
          }
        },
        "79571185bc4e438194a815ee96830c74": {
          "model_module": "@jupyter-widgets/controls",
          "model_name": "DescriptionStyleModel",
          "model_module_version": "1.5.0",
          "state": {
            "_model_module": "@jupyter-widgets/controls",
            "_model_module_version": "1.5.0",
            "_model_name": "DescriptionStyleModel",
            "_view_count": null,
            "_view_module": "@jupyter-widgets/base",
            "_view_module_version": "1.2.0",
            "_view_name": "StyleView",
            "description_width": ""
          }
        },
        "6df25ea3efc6474e84aab79c5a458218": {
          "model_module": "@jupyter-widgets/controls",
          "model_name": "HBoxModel",
          "model_module_version": "1.5.0",
          "state": {
            "_dom_classes": [],
            "_model_module": "@jupyter-widgets/controls",
            "_model_module_version": "1.5.0",
            "_model_name": "HBoxModel",
            "_view_count": null,
            "_view_module": "@jupyter-widgets/controls",
            "_view_module_version": "1.5.0",
            "_view_name": "HBoxView",
            "box_style": "",
            "children": [
              "IPY_MODEL_f8d81e49fe7e4d189210d4c7bc9bc801",
              "IPY_MODEL_f153f85c88a24680b5d9a8cf154506b9",
              "IPY_MODEL_773b5c5d755c42b2a2762d0b08301d82"
            ],
            "layout": "IPY_MODEL_7e3173fdb85446e09eaceb3e5ab2c4df"
          }
        },
        "f8d81e49fe7e4d189210d4c7bc9bc801": {
          "model_module": "@jupyter-widgets/controls",
          "model_name": "HTMLModel",
          "model_module_version": "1.5.0",
          "state": {
            "_dom_classes": [],
            "_model_module": "@jupyter-widgets/controls",
            "_model_module_version": "1.5.0",
            "_model_name": "HTMLModel",
            "_view_count": null,
            "_view_module": "@jupyter-widgets/controls",
            "_view_module_version": "1.5.0",
            "_view_name": "HTMLView",
            "description": "",
            "description_tooltip": null,
            "layout": "IPY_MODEL_fc3d53643f40485e9c181291689b51e6",
            "placeholder": "​",
            "style": "IPY_MODEL_9acbf31c3e0847c19ce37b2d39107d69",
            "value": "100%"
          }
        },
        "f153f85c88a24680b5d9a8cf154506b9": {
          "model_module": "@jupyter-widgets/controls",
          "model_name": "FloatProgressModel",
          "model_module_version": "1.5.0",
          "state": {
            "_dom_classes": [],
            "_model_module": "@jupyter-widgets/controls",
            "_model_module_version": "1.5.0",
            "_model_name": "FloatProgressModel",
            "_view_count": null,
            "_view_module": "@jupyter-widgets/controls",
            "_view_module_version": "1.5.0",
            "_view_name": "ProgressView",
            "bar_style": "success",
            "description": "",
            "description_tooltip": null,
            "layout": "IPY_MODEL_6b724c91c3704f11894a60f45738596e",
            "max": 500,
            "min": 0,
            "orientation": "horizontal",
            "style": "IPY_MODEL_15ebbf566b0a4109841e8a1c6dfe3b35",
            "value": 500
          }
        },
        "773b5c5d755c42b2a2762d0b08301d82": {
          "model_module": "@jupyter-widgets/controls",
          "model_name": "HTMLModel",
          "model_module_version": "1.5.0",
          "state": {
            "_dom_classes": [],
            "_model_module": "@jupyter-widgets/controls",
            "_model_module_version": "1.5.0",
            "_model_name": "HTMLModel",
            "_view_count": null,
            "_view_module": "@jupyter-widgets/controls",
            "_view_module_version": "1.5.0",
            "_view_name": "HTMLView",
            "description": "",
            "description_tooltip": null,
            "layout": "IPY_MODEL_97f385808a2f451db3b7fd484e3b4798",
            "placeholder": "​",
            "style": "IPY_MODEL_0fb9c42daff74d749c34f453911ab90c",
            "value": " 500/500 [00:48&lt;00:00,  9.93it/s]"
          }
        },
        "7e3173fdb85446e09eaceb3e5ab2c4df": {
          "model_module": "@jupyter-widgets/base",
          "model_name": "LayoutModel",
          "model_module_version": "1.2.0",
          "state": {
            "_model_module": "@jupyter-widgets/base",
            "_model_module_version": "1.2.0",
            "_model_name": "LayoutModel",
            "_view_count": null,
            "_view_module": "@jupyter-widgets/base",
            "_view_module_version": "1.2.0",
            "_view_name": "LayoutView",
            "align_content": null,
            "align_items": null,
            "align_self": null,
            "border": null,
            "bottom": null,
            "display": null,
            "flex": null,
            "flex_flow": null,
            "grid_area": null,
            "grid_auto_columns": null,
            "grid_auto_flow": null,
            "grid_auto_rows": null,
            "grid_column": null,
            "grid_gap": null,
            "grid_row": null,
            "grid_template_areas": null,
            "grid_template_columns": null,
            "grid_template_rows": null,
            "height": null,
            "justify_content": null,
            "justify_items": null,
            "left": null,
            "margin": null,
            "max_height": null,
            "max_width": null,
            "min_height": null,
            "min_width": null,
            "object_fit": null,
            "object_position": null,
            "order": null,
            "overflow": null,
            "overflow_x": null,
            "overflow_y": null,
            "padding": null,
            "right": null,
            "top": null,
            "visibility": null,
            "width": null
          }
        },
        "fc3d53643f40485e9c181291689b51e6": {
          "model_module": "@jupyter-widgets/base",
          "model_name": "LayoutModel",
          "model_module_version": "1.2.0",
          "state": {
            "_model_module": "@jupyter-widgets/base",
            "_model_module_version": "1.2.0",
            "_model_name": "LayoutModel",
            "_view_count": null,
            "_view_module": "@jupyter-widgets/base",
            "_view_module_version": "1.2.0",
            "_view_name": "LayoutView",
            "align_content": null,
            "align_items": null,
            "align_self": null,
            "border": null,
            "bottom": null,
            "display": null,
            "flex": null,
            "flex_flow": null,
            "grid_area": null,
            "grid_auto_columns": null,
            "grid_auto_flow": null,
            "grid_auto_rows": null,
            "grid_column": null,
            "grid_gap": null,
            "grid_row": null,
            "grid_template_areas": null,
            "grid_template_columns": null,
            "grid_template_rows": null,
            "height": null,
            "justify_content": null,
            "justify_items": null,
            "left": null,
            "margin": null,
            "max_height": null,
            "max_width": null,
            "min_height": null,
            "min_width": null,
            "object_fit": null,
            "object_position": null,
            "order": null,
            "overflow": null,
            "overflow_x": null,
            "overflow_y": null,
            "padding": null,
            "right": null,
            "top": null,
            "visibility": null,
            "width": null
          }
        },
        "9acbf31c3e0847c19ce37b2d39107d69": {
          "model_module": "@jupyter-widgets/controls",
          "model_name": "DescriptionStyleModel",
          "model_module_version": "1.5.0",
          "state": {
            "_model_module": "@jupyter-widgets/controls",
            "_model_module_version": "1.5.0",
            "_model_name": "DescriptionStyleModel",
            "_view_count": null,
            "_view_module": "@jupyter-widgets/base",
            "_view_module_version": "1.2.0",
            "_view_name": "StyleView",
            "description_width": ""
          }
        },
        "6b724c91c3704f11894a60f45738596e": {
          "model_module": "@jupyter-widgets/base",
          "model_name": "LayoutModel",
          "model_module_version": "1.2.0",
          "state": {
            "_model_module": "@jupyter-widgets/base",
            "_model_module_version": "1.2.0",
            "_model_name": "LayoutModel",
            "_view_count": null,
            "_view_module": "@jupyter-widgets/base",
            "_view_module_version": "1.2.0",
            "_view_name": "LayoutView",
            "align_content": null,
            "align_items": null,
            "align_self": null,
            "border": null,
            "bottom": null,
            "display": null,
            "flex": null,
            "flex_flow": null,
            "grid_area": null,
            "grid_auto_columns": null,
            "grid_auto_flow": null,
            "grid_auto_rows": null,
            "grid_column": null,
            "grid_gap": null,
            "grid_row": null,
            "grid_template_areas": null,
            "grid_template_columns": null,
            "grid_template_rows": null,
            "height": null,
            "justify_content": null,
            "justify_items": null,
            "left": null,
            "margin": null,
            "max_height": null,
            "max_width": null,
            "min_height": null,
            "min_width": null,
            "object_fit": null,
            "object_position": null,
            "order": null,
            "overflow": null,
            "overflow_x": null,
            "overflow_y": null,
            "padding": null,
            "right": null,
            "top": null,
            "visibility": null,
            "width": null
          }
        },
        "15ebbf566b0a4109841e8a1c6dfe3b35": {
          "model_module": "@jupyter-widgets/controls",
          "model_name": "ProgressStyleModel",
          "model_module_version": "1.5.0",
          "state": {
            "_model_module": "@jupyter-widgets/controls",
            "_model_module_version": "1.5.0",
            "_model_name": "ProgressStyleModel",
            "_view_count": null,
            "_view_module": "@jupyter-widgets/base",
            "_view_module_version": "1.2.0",
            "_view_name": "StyleView",
            "bar_color": null,
            "description_width": ""
          }
        },
        "97f385808a2f451db3b7fd484e3b4798": {
          "model_module": "@jupyter-widgets/base",
          "model_name": "LayoutModel",
          "model_module_version": "1.2.0",
          "state": {
            "_model_module": "@jupyter-widgets/base",
            "_model_module_version": "1.2.0",
            "_model_name": "LayoutModel",
            "_view_count": null,
            "_view_module": "@jupyter-widgets/base",
            "_view_module_version": "1.2.0",
            "_view_name": "LayoutView",
            "align_content": null,
            "align_items": null,
            "align_self": null,
            "border": null,
            "bottom": null,
            "display": null,
            "flex": null,
            "flex_flow": null,
            "grid_area": null,
            "grid_auto_columns": null,
            "grid_auto_flow": null,
            "grid_auto_rows": null,
            "grid_column": null,
            "grid_gap": null,
            "grid_row": null,
            "grid_template_areas": null,
            "grid_template_columns": null,
            "grid_template_rows": null,
            "height": null,
            "justify_content": null,
            "justify_items": null,
            "left": null,
            "margin": null,
            "max_height": null,
            "max_width": null,
            "min_height": null,
            "min_width": null,
            "object_fit": null,
            "object_position": null,
            "order": null,
            "overflow": null,
            "overflow_x": null,
            "overflow_y": null,
            "padding": null,
            "right": null,
            "top": null,
            "visibility": null,
            "width": null
          }
        },
        "0fb9c42daff74d749c34f453911ab90c": {
          "model_module": "@jupyter-widgets/controls",
          "model_name": "DescriptionStyleModel",
          "model_module_version": "1.5.0",
          "state": {
            "_model_module": "@jupyter-widgets/controls",
            "_model_module_version": "1.5.0",
            "_model_name": "DescriptionStyleModel",
            "_view_count": null,
            "_view_module": "@jupyter-widgets/base",
            "_view_module_version": "1.2.0",
            "_view_name": "StyleView",
            "description_width": ""
          }
        },
        "8fcf4dead16045e6b0f0150079ffbb8c": {
          "model_module": "@jupyter-widgets/controls",
          "model_name": "HBoxModel",
          "model_module_version": "1.5.0",
          "state": {
            "_dom_classes": [],
            "_model_module": "@jupyter-widgets/controls",
            "_model_module_version": "1.5.0",
            "_model_name": "HBoxModel",
            "_view_count": null,
            "_view_module": "@jupyter-widgets/controls",
            "_view_module_version": "1.5.0",
            "_view_name": "HBoxView",
            "box_style": "",
            "children": [
              "IPY_MODEL_e59dce9a4d8f43b8b602fee0e024c4d1",
              "IPY_MODEL_eeb6ae8fb1a34cc4a7e7bdb7f259933e",
              "IPY_MODEL_db73b85d2bfa48008c395a63cc3af075"
            ],
            "layout": "IPY_MODEL_96c806cb403c4b928dcd326c46223321"
          }
        },
        "e59dce9a4d8f43b8b602fee0e024c4d1": {
          "model_module": "@jupyter-widgets/controls",
          "model_name": "HTMLModel",
          "model_module_version": "1.5.0",
          "state": {
            "_dom_classes": [],
            "_model_module": "@jupyter-widgets/controls",
            "_model_module_version": "1.5.0",
            "_model_name": "HTMLModel",
            "_view_count": null,
            "_view_module": "@jupyter-widgets/controls",
            "_view_module_version": "1.5.0",
            "_view_name": "HTMLView",
            "description": "",
            "description_tooltip": null,
            "layout": "IPY_MODEL_370e2ae5fa2745af91bcadd8ead54a12",
            "placeholder": "​",
            "style": "IPY_MODEL_5e8a4c0952a44ee0ad424b25e3151890",
            "value": "100%"
          }
        },
        "eeb6ae8fb1a34cc4a7e7bdb7f259933e": {
          "model_module": "@jupyter-widgets/controls",
          "model_name": "FloatProgressModel",
          "model_module_version": "1.5.0",
          "state": {
            "_dom_classes": [],
            "_model_module": "@jupyter-widgets/controls",
            "_model_module_version": "1.5.0",
            "_model_name": "FloatProgressModel",
            "_view_count": null,
            "_view_module": "@jupyter-widgets/controls",
            "_view_module_version": "1.5.0",
            "_view_name": "ProgressView",
            "bar_style": "success",
            "description": "",
            "description_tooltip": null,
            "layout": "IPY_MODEL_b1be34ef1e9643b294127541241d28ab",
            "max": 500,
            "min": 0,
            "orientation": "horizontal",
            "style": "IPY_MODEL_0d2aa50461564723bf98d8a215e32a90",
            "value": 500
          }
        },
        "db73b85d2bfa48008c395a63cc3af075": {
          "model_module": "@jupyter-widgets/controls",
          "model_name": "HTMLModel",
          "model_module_version": "1.5.0",
          "state": {
            "_dom_classes": [],
            "_model_module": "@jupyter-widgets/controls",
            "_model_module_version": "1.5.0",
            "_model_name": "HTMLModel",
            "_view_count": null,
            "_view_module": "@jupyter-widgets/controls",
            "_view_module_version": "1.5.0",
            "_view_name": "HTMLView",
            "description": "",
            "description_tooltip": null,
            "layout": "IPY_MODEL_2466c0f5ebf6468f899a8e6aff5462ca",
            "placeholder": "​",
            "style": "IPY_MODEL_9706fafc500141cca19e9b9b76b246bf",
            "value": " 500/500 [00:51&lt;00:00,  9.65it/s]"
          }
        },
        "96c806cb403c4b928dcd326c46223321": {
          "model_module": "@jupyter-widgets/base",
          "model_name": "LayoutModel",
          "model_module_version": "1.2.0",
          "state": {
            "_model_module": "@jupyter-widgets/base",
            "_model_module_version": "1.2.0",
            "_model_name": "LayoutModel",
            "_view_count": null,
            "_view_module": "@jupyter-widgets/base",
            "_view_module_version": "1.2.0",
            "_view_name": "LayoutView",
            "align_content": null,
            "align_items": null,
            "align_self": null,
            "border": null,
            "bottom": null,
            "display": null,
            "flex": null,
            "flex_flow": null,
            "grid_area": null,
            "grid_auto_columns": null,
            "grid_auto_flow": null,
            "grid_auto_rows": null,
            "grid_column": null,
            "grid_gap": null,
            "grid_row": null,
            "grid_template_areas": null,
            "grid_template_columns": null,
            "grid_template_rows": null,
            "height": null,
            "justify_content": null,
            "justify_items": null,
            "left": null,
            "margin": null,
            "max_height": null,
            "max_width": null,
            "min_height": null,
            "min_width": null,
            "object_fit": null,
            "object_position": null,
            "order": null,
            "overflow": null,
            "overflow_x": null,
            "overflow_y": null,
            "padding": null,
            "right": null,
            "top": null,
            "visibility": null,
            "width": null
          }
        },
        "370e2ae5fa2745af91bcadd8ead54a12": {
          "model_module": "@jupyter-widgets/base",
          "model_name": "LayoutModel",
          "model_module_version": "1.2.0",
          "state": {
            "_model_module": "@jupyter-widgets/base",
            "_model_module_version": "1.2.0",
            "_model_name": "LayoutModel",
            "_view_count": null,
            "_view_module": "@jupyter-widgets/base",
            "_view_module_version": "1.2.0",
            "_view_name": "LayoutView",
            "align_content": null,
            "align_items": null,
            "align_self": null,
            "border": null,
            "bottom": null,
            "display": null,
            "flex": null,
            "flex_flow": null,
            "grid_area": null,
            "grid_auto_columns": null,
            "grid_auto_flow": null,
            "grid_auto_rows": null,
            "grid_column": null,
            "grid_gap": null,
            "grid_row": null,
            "grid_template_areas": null,
            "grid_template_columns": null,
            "grid_template_rows": null,
            "height": null,
            "justify_content": null,
            "justify_items": null,
            "left": null,
            "margin": null,
            "max_height": null,
            "max_width": null,
            "min_height": null,
            "min_width": null,
            "object_fit": null,
            "object_position": null,
            "order": null,
            "overflow": null,
            "overflow_x": null,
            "overflow_y": null,
            "padding": null,
            "right": null,
            "top": null,
            "visibility": null,
            "width": null
          }
        },
        "5e8a4c0952a44ee0ad424b25e3151890": {
          "model_module": "@jupyter-widgets/controls",
          "model_name": "DescriptionStyleModel",
          "model_module_version": "1.5.0",
          "state": {
            "_model_module": "@jupyter-widgets/controls",
            "_model_module_version": "1.5.0",
            "_model_name": "DescriptionStyleModel",
            "_view_count": null,
            "_view_module": "@jupyter-widgets/base",
            "_view_module_version": "1.2.0",
            "_view_name": "StyleView",
            "description_width": ""
          }
        },
        "b1be34ef1e9643b294127541241d28ab": {
          "model_module": "@jupyter-widgets/base",
          "model_name": "LayoutModel",
          "model_module_version": "1.2.0",
          "state": {
            "_model_module": "@jupyter-widgets/base",
            "_model_module_version": "1.2.0",
            "_model_name": "LayoutModel",
            "_view_count": null,
            "_view_module": "@jupyter-widgets/base",
            "_view_module_version": "1.2.0",
            "_view_name": "LayoutView",
            "align_content": null,
            "align_items": null,
            "align_self": null,
            "border": null,
            "bottom": null,
            "display": null,
            "flex": null,
            "flex_flow": null,
            "grid_area": null,
            "grid_auto_columns": null,
            "grid_auto_flow": null,
            "grid_auto_rows": null,
            "grid_column": null,
            "grid_gap": null,
            "grid_row": null,
            "grid_template_areas": null,
            "grid_template_columns": null,
            "grid_template_rows": null,
            "height": null,
            "justify_content": null,
            "justify_items": null,
            "left": null,
            "margin": null,
            "max_height": null,
            "max_width": null,
            "min_height": null,
            "min_width": null,
            "object_fit": null,
            "object_position": null,
            "order": null,
            "overflow": null,
            "overflow_x": null,
            "overflow_y": null,
            "padding": null,
            "right": null,
            "top": null,
            "visibility": null,
            "width": null
          }
        },
        "0d2aa50461564723bf98d8a215e32a90": {
          "model_module": "@jupyter-widgets/controls",
          "model_name": "ProgressStyleModel",
          "model_module_version": "1.5.0",
          "state": {
            "_model_module": "@jupyter-widgets/controls",
            "_model_module_version": "1.5.0",
            "_model_name": "ProgressStyleModel",
            "_view_count": null,
            "_view_module": "@jupyter-widgets/base",
            "_view_module_version": "1.2.0",
            "_view_name": "StyleView",
            "bar_color": null,
            "description_width": ""
          }
        },
        "2466c0f5ebf6468f899a8e6aff5462ca": {
          "model_module": "@jupyter-widgets/base",
          "model_name": "LayoutModel",
          "model_module_version": "1.2.0",
          "state": {
            "_model_module": "@jupyter-widgets/base",
            "_model_module_version": "1.2.0",
            "_model_name": "LayoutModel",
            "_view_count": null,
            "_view_module": "@jupyter-widgets/base",
            "_view_module_version": "1.2.0",
            "_view_name": "LayoutView",
            "align_content": null,
            "align_items": null,
            "align_self": null,
            "border": null,
            "bottom": null,
            "display": null,
            "flex": null,
            "flex_flow": null,
            "grid_area": null,
            "grid_auto_columns": null,
            "grid_auto_flow": null,
            "grid_auto_rows": null,
            "grid_column": null,
            "grid_gap": null,
            "grid_row": null,
            "grid_template_areas": null,
            "grid_template_columns": null,
            "grid_template_rows": null,
            "height": null,
            "justify_content": null,
            "justify_items": null,
            "left": null,
            "margin": null,
            "max_height": null,
            "max_width": null,
            "min_height": null,
            "min_width": null,
            "object_fit": null,
            "object_position": null,
            "order": null,
            "overflow": null,
            "overflow_x": null,
            "overflow_y": null,
            "padding": null,
            "right": null,
            "top": null,
            "visibility": null,
            "width": null
          }
        },
        "9706fafc500141cca19e9b9b76b246bf": {
          "model_module": "@jupyter-widgets/controls",
          "model_name": "DescriptionStyleModel",
          "model_module_version": "1.5.0",
          "state": {
            "_model_module": "@jupyter-widgets/controls",
            "_model_module_version": "1.5.0",
            "_model_name": "DescriptionStyleModel",
            "_view_count": null,
            "_view_module": "@jupyter-widgets/base",
            "_view_module_version": "1.2.0",
            "_view_name": "StyleView",
            "description_width": ""
          }
        },
        "0a5df1821207410eb6c5aac7e2880892": {
          "model_module": "@jupyter-widgets/controls",
          "model_name": "HBoxModel",
          "model_module_version": "1.5.0",
          "state": {
            "_dom_classes": [],
            "_model_module": "@jupyter-widgets/controls",
            "_model_module_version": "1.5.0",
            "_model_name": "HBoxModel",
            "_view_count": null,
            "_view_module": "@jupyter-widgets/controls",
            "_view_module_version": "1.5.0",
            "_view_name": "HBoxView",
            "box_style": "",
            "children": [
              "IPY_MODEL_3f5452103607449ca2d5ccf24cb595aa",
              "IPY_MODEL_01c70f80d1c64fa68dd640b04ebc70af",
              "IPY_MODEL_ec6659c7128945d4a1f1e79e970478ff"
            ],
            "layout": "IPY_MODEL_810aa9993c3343938d1cf8915190ad68"
          }
        },
        "3f5452103607449ca2d5ccf24cb595aa": {
          "model_module": "@jupyter-widgets/controls",
          "model_name": "HTMLModel",
          "model_module_version": "1.5.0",
          "state": {
            "_dom_classes": [],
            "_model_module": "@jupyter-widgets/controls",
            "_model_module_version": "1.5.0",
            "_model_name": "HTMLModel",
            "_view_count": null,
            "_view_module": "@jupyter-widgets/controls",
            "_view_module_version": "1.5.0",
            "_view_name": "HTMLView",
            "description": "",
            "description_tooltip": null,
            "layout": "IPY_MODEL_705051cd733f4fb08e89288422eeb5cb",
            "placeholder": "​",
            "style": "IPY_MODEL_8239195b2ad0458e82eca30b6119b571",
            "value": "100%"
          }
        },
        "01c70f80d1c64fa68dd640b04ebc70af": {
          "model_module": "@jupyter-widgets/controls",
          "model_name": "FloatProgressModel",
          "model_module_version": "1.5.0",
          "state": {
            "_dom_classes": [],
            "_model_module": "@jupyter-widgets/controls",
            "_model_module_version": "1.5.0",
            "_model_name": "FloatProgressModel",
            "_view_count": null,
            "_view_module": "@jupyter-widgets/controls",
            "_view_module_version": "1.5.0",
            "_view_name": "ProgressView",
            "bar_style": "success",
            "description": "",
            "description_tooltip": null,
            "layout": "IPY_MODEL_4280f725a3214d13944142812aceda3c",
            "max": 500,
            "min": 0,
            "orientation": "horizontal",
            "style": "IPY_MODEL_05ea45d48b0e41b58a9d685a5bd3fa82",
            "value": 500
          }
        },
        "ec6659c7128945d4a1f1e79e970478ff": {
          "model_module": "@jupyter-widgets/controls",
          "model_name": "HTMLModel",
          "model_module_version": "1.5.0",
          "state": {
            "_dom_classes": [],
            "_model_module": "@jupyter-widgets/controls",
            "_model_module_version": "1.5.0",
            "_model_name": "HTMLModel",
            "_view_count": null,
            "_view_module": "@jupyter-widgets/controls",
            "_view_module_version": "1.5.0",
            "_view_name": "HTMLView",
            "description": "",
            "description_tooltip": null,
            "layout": "IPY_MODEL_3d2d3f850d8e46a68aa5f980f639dccc",
            "placeholder": "​",
            "style": "IPY_MODEL_c9e670d2401540e9aec056a5a90b1276",
            "value": " 500/500 [00:51&lt;00:00,  9.61it/s]"
          }
        },
        "810aa9993c3343938d1cf8915190ad68": {
          "model_module": "@jupyter-widgets/base",
          "model_name": "LayoutModel",
          "model_module_version": "1.2.0",
          "state": {
            "_model_module": "@jupyter-widgets/base",
            "_model_module_version": "1.2.0",
            "_model_name": "LayoutModel",
            "_view_count": null,
            "_view_module": "@jupyter-widgets/base",
            "_view_module_version": "1.2.0",
            "_view_name": "LayoutView",
            "align_content": null,
            "align_items": null,
            "align_self": null,
            "border": null,
            "bottom": null,
            "display": null,
            "flex": null,
            "flex_flow": null,
            "grid_area": null,
            "grid_auto_columns": null,
            "grid_auto_flow": null,
            "grid_auto_rows": null,
            "grid_column": null,
            "grid_gap": null,
            "grid_row": null,
            "grid_template_areas": null,
            "grid_template_columns": null,
            "grid_template_rows": null,
            "height": null,
            "justify_content": null,
            "justify_items": null,
            "left": null,
            "margin": null,
            "max_height": null,
            "max_width": null,
            "min_height": null,
            "min_width": null,
            "object_fit": null,
            "object_position": null,
            "order": null,
            "overflow": null,
            "overflow_x": null,
            "overflow_y": null,
            "padding": null,
            "right": null,
            "top": null,
            "visibility": null,
            "width": null
          }
        },
        "705051cd733f4fb08e89288422eeb5cb": {
          "model_module": "@jupyter-widgets/base",
          "model_name": "LayoutModel",
          "model_module_version": "1.2.0",
          "state": {
            "_model_module": "@jupyter-widgets/base",
            "_model_module_version": "1.2.0",
            "_model_name": "LayoutModel",
            "_view_count": null,
            "_view_module": "@jupyter-widgets/base",
            "_view_module_version": "1.2.0",
            "_view_name": "LayoutView",
            "align_content": null,
            "align_items": null,
            "align_self": null,
            "border": null,
            "bottom": null,
            "display": null,
            "flex": null,
            "flex_flow": null,
            "grid_area": null,
            "grid_auto_columns": null,
            "grid_auto_flow": null,
            "grid_auto_rows": null,
            "grid_column": null,
            "grid_gap": null,
            "grid_row": null,
            "grid_template_areas": null,
            "grid_template_columns": null,
            "grid_template_rows": null,
            "height": null,
            "justify_content": null,
            "justify_items": null,
            "left": null,
            "margin": null,
            "max_height": null,
            "max_width": null,
            "min_height": null,
            "min_width": null,
            "object_fit": null,
            "object_position": null,
            "order": null,
            "overflow": null,
            "overflow_x": null,
            "overflow_y": null,
            "padding": null,
            "right": null,
            "top": null,
            "visibility": null,
            "width": null
          }
        },
        "8239195b2ad0458e82eca30b6119b571": {
          "model_module": "@jupyter-widgets/controls",
          "model_name": "DescriptionStyleModel",
          "model_module_version": "1.5.0",
          "state": {
            "_model_module": "@jupyter-widgets/controls",
            "_model_module_version": "1.5.0",
            "_model_name": "DescriptionStyleModel",
            "_view_count": null,
            "_view_module": "@jupyter-widgets/base",
            "_view_module_version": "1.2.0",
            "_view_name": "StyleView",
            "description_width": ""
          }
        },
        "4280f725a3214d13944142812aceda3c": {
          "model_module": "@jupyter-widgets/base",
          "model_name": "LayoutModel",
          "model_module_version": "1.2.0",
          "state": {
            "_model_module": "@jupyter-widgets/base",
            "_model_module_version": "1.2.0",
            "_model_name": "LayoutModel",
            "_view_count": null,
            "_view_module": "@jupyter-widgets/base",
            "_view_module_version": "1.2.0",
            "_view_name": "LayoutView",
            "align_content": null,
            "align_items": null,
            "align_self": null,
            "border": null,
            "bottom": null,
            "display": null,
            "flex": null,
            "flex_flow": null,
            "grid_area": null,
            "grid_auto_columns": null,
            "grid_auto_flow": null,
            "grid_auto_rows": null,
            "grid_column": null,
            "grid_gap": null,
            "grid_row": null,
            "grid_template_areas": null,
            "grid_template_columns": null,
            "grid_template_rows": null,
            "height": null,
            "justify_content": null,
            "justify_items": null,
            "left": null,
            "margin": null,
            "max_height": null,
            "max_width": null,
            "min_height": null,
            "min_width": null,
            "object_fit": null,
            "object_position": null,
            "order": null,
            "overflow": null,
            "overflow_x": null,
            "overflow_y": null,
            "padding": null,
            "right": null,
            "top": null,
            "visibility": null,
            "width": null
          }
        },
        "05ea45d48b0e41b58a9d685a5bd3fa82": {
          "model_module": "@jupyter-widgets/controls",
          "model_name": "ProgressStyleModel",
          "model_module_version": "1.5.0",
          "state": {
            "_model_module": "@jupyter-widgets/controls",
            "_model_module_version": "1.5.0",
            "_model_name": "ProgressStyleModel",
            "_view_count": null,
            "_view_module": "@jupyter-widgets/base",
            "_view_module_version": "1.2.0",
            "_view_name": "StyleView",
            "bar_color": null,
            "description_width": ""
          }
        },
        "3d2d3f850d8e46a68aa5f980f639dccc": {
          "model_module": "@jupyter-widgets/base",
          "model_name": "LayoutModel",
          "model_module_version": "1.2.0",
          "state": {
            "_model_module": "@jupyter-widgets/base",
            "_model_module_version": "1.2.0",
            "_model_name": "LayoutModel",
            "_view_count": null,
            "_view_module": "@jupyter-widgets/base",
            "_view_module_version": "1.2.0",
            "_view_name": "LayoutView",
            "align_content": null,
            "align_items": null,
            "align_self": null,
            "border": null,
            "bottom": null,
            "display": null,
            "flex": null,
            "flex_flow": null,
            "grid_area": null,
            "grid_auto_columns": null,
            "grid_auto_flow": null,
            "grid_auto_rows": null,
            "grid_column": null,
            "grid_gap": null,
            "grid_row": null,
            "grid_template_areas": null,
            "grid_template_columns": null,
            "grid_template_rows": null,
            "height": null,
            "justify_content": null,
            "justify_items": null,
            "left": null,
            "margin": null,
            "max_height": null,
            "max_width": null,
            "min_height": null,
            "min_width": null,
            "object_fit": null,
            "object_position": null,
            "order": null,
            "overflow": null,
            "overflow_x": null,
            "overflow_y": null,
            "padding": null,
            "right": null,
            "top": null,
            "visibility": null,
            "width": null
          }
        },
        "c9e670d2401540e9aec056a5a90b1276": {
          "model_module": "@jupyter-widgets/controls",
          "model_name": "DescriptionStyleModel",
          "model_module_version": "1.5.0",
          "state": {
            "_model_module": "@jupyter-widgets/controls",
            "_model_module_version": "1.5.0",
            "_model_name": "DescriptionStyleModel",
            "_view_count": null,
            "_view_module": "@jupyter-widgets/base",
            "_view_module_version": "1.2.0",
            "_view_name": "StyleView",
            "description_width": ""
          }
        },
        "5f496900686448ec8321b872878cbc9b": {
          "model_module": "@jupyter-widgets/controls",
          "model_name": "HBoxModel",
          "model_module_version": "1.5.0",
          "state": {
            "_dom_classes": [],
            "_model_module": "@jupyter-widgets/controls",
            "_model_module_version": "1.5.0",
            "_model_name": "HBoxModel",
            "_view_count": null,
            "_view_module": "@jupyter-widgets/controls",
            "_view_module_version": "1.5.0",
            "_view_name": "HBoxView",
            "box_style": "",
            "children": [
              "IPY_MODEL_d41f67902f5a41d796ba3e3e3ed67401",
              "IPY_MODEL_19ec068972dc49ecbf7c61b6cf11f80c",
              "IPY_MODEL_b8e0faee2d2f48ef94fd7abec2f61f8d"
            ],
            "layout": "IPY_MODEL_d84c9ca61516446aa924828486e693ac"
          }
        },
        "d41f67902f5a41d796ba3e3e3ed67401": {
          "model_module": "@jupyter-widgets/controls",
          "model_name": "HTMLModel",
          "model_module_version": "1.5.0",
          "state": {
            "_dom_classes": [],
            "_model_module": "@jupyter-widgets/controls",
            "_model_module_version": "1.5.0",
            "_model_name": "HTMLModel",
            "_view_count": null,
            "_view_module": "@jupyter-widgets/controls",
            "_view_module_version": "1.5.0",
            "_view_name": "HTMLView",
            "description": "",
            "description_tooltip": null,
            "layout": "IPY_MODEL_cee75e811a7a4640b440467dce8bd3d9",
            "placeholder": "​",
            "style": "IPY_MODEL_b0ac74a5aa85426db45fbcf05c8941f9",
            "value": "100%"
          }
        },
        "19ec068972dc49ecbf7c61b6cf11f80c": {
          "model_module": "@jupyter-widgets/controls",
          "model_name": "FloatProgressModel",
          "model_module_version": "1.5.0",
          "state": {
            "_dom_classes": [],
            "_model_module": "@jupyter-widgets/controls",
            "_model_module_version": "1.5.0",
            "_model_name": "FloatProgressModel",
            "_view_count": null,
            "_view_module": "@jupyter-widgets/controls",
            "_view_module_version": "1.5.0",
            "_view_name": "ProgressView",
            "bar_style": "success",
            "description": "",
            "description_tooltip": null,
            "layout": "IPY_MODEL_e7f49fc1ac3243448665933a4cb37860",
            "max": 500,
            "min": 0,
            "orientation": "horizontal",
            "style": "IPY_MODEL_05cccc86df7b4dd791b87b159dabb9ea",
            "value": 500
          }
        },
        "b8e0faee2d2f48ef94fd7abec2f61f8d": {
          "model_module": "@jupyter-widgets/controls",
          "model_name": "HTMLModel",
          "model_module_version": "1.5.0",
          "state": {
            "_dom_classes": [],
            "_model_module": "@jupyter-widgets/controls",
            "_model_module_version": "1.5.0",
            "_model_name": "HTMLModel",
            "_view_count": null,
            "_view_module": "@jupyter-widgets/controls",
            "_view_module_version": "1.5.0",
            "_view_name": "HTMLView",
            "description": "",
            "description_tooltip": null,
            "layout": "IPY_MODEL_60a483d6afb44c378791c5cfd67f5dec",
            "placeholder": "​",
            "style": "IPY_MODEL_166c7a7b86204af6bdcc8dc623ba80e7",
            "value": " 500/500 [00:51&lt;00:00,  9.69it/s]"
          }
        },
        "d84c9ca61516446aa924828486e693ac": {
          "model_module": "@jupyter-widgets/base",
          "model_name": "LayoutModel",
          "model_module_version": "1.2.0",
          "state": {
            "_model_module": "@jupyter-widgets/base",
            "_model_module_version": "1.2.0",
            "_model_name": "LayoutModel",
            "_view_count": null,
            "_view_module": "@jupyter-widgets/base",
            "_view_module_version": "1.2.0",
            "_view_name": "LayoutView",
            "align_content": null,
            "align_items": null,
            "align_self": null,
            "border": null,
            "bottom": null,
            "display": null,
            "flex": null,
            "flex_flow": null,
            "grid_area": null,
            "grid_auto_columns": null,
            "grid_auto_flow": null,
            "grid_auto_rows": null,
            "grid_column": null,
            "grid_gap": null,
            "grid_row": null,
            "grid_template_areas": null,
            "grid_template_columns": null,
            "grid_template_rows": null,
            "height": null,
            "justify_content": null,
            "justify_items": null,
            "left": null,
            "margin": null,
            "max_height": null,
            "max_width": null,
            "min_height": null,
            "min_width": null,
            "object_fit": null,
            "object_position": null,
            "order": null,
            "overflow": null,
            "overflow_x": null,
            "overflow_y": null,
            "padding": null,
            "right": null,
            "top": null,
            "visibility": null,
            "width": null
          }
        },
        "cee75e811a7a4640b440467dce8bd3d9": {
          "model_module": "@jupyter-widgets/base",
          "model_name": "LayoutModel",
          "model_module_version": "1.2.0",
          "state": {
            "_model_module": "@jupyter-widgets/base",
            "_model_module_version": "1.2.0",
            "_model_name": "LayoutModel",
            "_view_count": null,
            "_view_module": "@jupyter-widgets/base",
            "_view_module_version": "1.2.0",
            "_view_name": "LayoutView",
            "align_content": null,
            "align_items": null,
            "align_self": null,
            "border": null,
            "bottom": null,
            "display": null,
            "flex": null,
            "flex_flow": null,
            "grid_area": null,
            "grid_auto_columns": null,
            "grid_auto_flow": null,
            "grid_auto_rows": null,
            "grid_column": null,
            "grid_gap": null,
            "grid_row": null,
            "grid_template_areas": null,
            "grid_template_columns": null,
            "grid_template_rows": null,
            "height": null,
            "justify_content": null,
            "justify_items": null,
            "left": null,
            "margin": null,
            "max_height": null,
            "max_width": null,
            "min_height": null,
            "min_width": null,
            "object_fit": null,
            "object_position": null,
            "order": null,
            "overflow": null,
            "overflow_x": null,
            "overflow_y": null,
            "padding": null,
            "right": null,
            "top": null,
            "visibility": null,
            "width": null
          }
        },
        "b0ac74a5aa85426db45fbcf05c8941f9": {
          "model_module": "@jupyter-widgets/controls",
          "model_name": "DescriptionStyleModel",
          "model_module_version": "1.5.0",
          "state": {
            "_model_module": "@jupyter-widgets/controls",
            "_model_module_version": "1.5.0",
            "_model_name": "DescriptionStyleModel",
            "_view_count": null,
            "_view_module": "@jupyter-widgets/base",
            "_view_module_version": "1.2.0",
            "_view_name": "StyleView",
            "description_width": ""
          }
        },
        "e7f49fc1ac3243448665933a4cb37860": {
          "model_module": "@jupyter-widgets/base",
          "model_name": "LayoutModel",
          "model_module_version": "1.2.0",
          "state": {
            "_model_module": "@jupyter-widgets/base",
            "_model_module_version": "1.2.0",
            "_model_name": "LayoutModel",
            "_view_count": null,
            "_view_module": "@jupyter-widgets/base",
            "_view_module_version": "1.2.0",
            "_view_name": "LayoutView",
            "align_content": null,
            "align_items": null,
            "align_self": null,
            "border": null,
            "bottom": null,
            "display": null,
            "flex": null,
            "flex_flow": null,
            "grid_area": null,
            "grid_auto_columns": null,
            "grid_auto_flow": null,
            "grid_auto_rows": null,
            "grid_column": null,
            "grid_gap": null,
            "grid_row": null,
            "grid_template_areas": null,
            "grid_template_columns": null,
            "grid_template_rows": null,
            "height": null,
            "justify_content": null,
            "justify_items": null,
            "left": null,
            "margin": null,
            "max_height": null,
            "max_width": null,
            "min_height": null,
            "min_width": null,
            "object_fit": null,
            "object_position": null,
            "order": null,
            "overflow": null,
            "overflow_x": null,
            "overflow_y": null,
            "padding": null,
            "right": null,
            "top": null,
            "visibility": null,
            "width": null
          }
        },
        "05cccc86df7b4dd791b87b159dabb9ea": {
          "model_module": "@jupyter-widgets/controls",
          "model_name": "ProgressStyleModel",
          "model_module_version": "1.5.0",
          "state": {
            "_model_module": "@jupyter-widgets/controls",
            "_model_module_version": "1.5.0",
            "_model_name": "ProgressStyleModel",
            "_view_count": null,
            "_view_module": "@jupyter-widgets/base",
            "_view_module_version": "1.2.0",
            "_view_name": "StyleView",
            "bar_color": null,
            "description_width": ""
          }
        },
        "60a483d6afb44c378791c5cfd67f5dec": {
          "model_module": "@jupyter-widgets/base",
          "model_name": "LayoutModel",
          "model_module_version": "1.2.0",
          "state": {
            "_model_module": "@jupyter-widgets/base",
            "_model_module_version": "1.2.0",
            "_model_name": "LayoutModel",
            "_view_count": null,
            "_view_module": "@jupyter-widgets/base",
            "_view_module_version": "1.2.0",
            "_view_name": "LayoutView",
            "align_content": null,
            "align_items": null,
            "align_self": null,
            "border": null,
            "bottom": null,
            "display": null,
            "flex": null,
            "flex_flow": null,
            "grid_area": null,
            "grid_auto_columns": null,
            "grid_auto_flow": null,
            "grid_auto_rows": null,
            "grid_column": null,
            "grid_gap": null,
            "grid_row": null,
            "grid_template_areas": null,
            "grid_template_columns": null,
            "grid_template_rows": null,
            "height": null,
            "justify_content": null,
            "justify_items": null,
            "left": null,
            "margin": null,
            "max_height": null,
            "max_width": null,
            "min_height": null,
            "min_width": null,
            "object_fit": null,
            "object_position": null,
            "order": null,
            "overflow": null,
            "overflow_x": null,
            "overflow_y": null,
            "padding": null,
            "right": null,
            "top": null,
            "visibility": null,
            "width": null
          }
        },
        "166c7a7b86204af6bdcc8dc623ba80e7": {
          "model_module": "@jupyter-widgets/controls",
          "model_name": "DescriptionStyleModel",
          "model_module_version": "1.5.0",
          "state": {
            "_model_module": "@jupyter-widgets/controls",
            "_model_module_version": "1.5.0",
            "_model_name": "DescriptionStyleModel",
            "_view_count": null,
            "_view_module": "@jupyter-widgets/base",
            "_view_module_version": "1.2.0",
            "_view_name": "StyleView",
            "description_width": ""
          }
        },
        "3b7dd7c6e73c43fb9b9aadeebe770f08": {
          "model_module": "@jupyter-widgets/controls",
          "model_name": "HBoxModel",
          "model_module_version": "1.5.0",
          "state": {
            "_dom_classes": [],
            "_model_module": "@jupyter-widgets/controls",
            "_model_module_version": "1.5.0",
            "_model_name": "HBoxModel",
            "_view_count": null,
            "_view_module": "@jupyter-widgets/controls",
            "_view_module_version": "1.5.0",
            "_view_name": "HBoxView",
            "box_style": "",
            "children": [
              "IPY_MODEL_089704ee20274a06b063e9b872219d9d",
              "IPY_MODEL_7c009fac2e5b41dab81fbafb18a101c0",
              "IPY_MODEL_05663ee8dc9a4062bf6f3a964578b8e2"
            ],
            "layout": "IPY_MODEL_9a7c114b0a134868be14c9ba046ae15b"
          }
        },
        "089704ee20274a06b063e9b872219d9d": {
          "model_module": "@jupyter-widgets/controls",
          "model_name": "HTMLModel",
          "model_module_version": "1.5.0",
          "state": {
            "_dom_classes": [],
            "_model_module": "@jupyter-widgets/controls",
            "_model_module_version": "1.5.0",
            "_model_name": "HTMLModel",
            "_view_count": null,
            "_view_module": "@jupyter-widgets/controls",
            "_view_module_version": "1.5.0",
            "_view_name": "HTMLView",
            "description": "",
            "description_tooltip": null,
            "layout": "IPY_MODEL_130f3f68f462400fba14334c8b347415",
            "placeholder": "​",
            "style": "IPY_MODEL_13c405ea1ec44d7890f74edbc9fcc75d",
            "value": "100%"
          }
        },
        "7c009fac2e5b41dab81fbafb18a101c0": {
          "model_module": "@jupyter-widgets/controls",
          "model_name": "FloatProgressModel",
          "model_module_version": "1.5.0",
          "state": {
            "_dom_classes": [],
            "_model_module": "@jupyter-widgets/controls",
            "_model_module_version": "1.5.0",
            "_model_name": "FloatProgressModel",
            "_view_count": null,
            "_view_module": "@jupyter-widgets/controls",
            "_view_module_version": "1.5.0",
            "_view_name": "ProgressView",
            "bar_style": "success",
            "description": "",
            "description_tooltip": null,
            "layout": "IPY_MODEL_bec675ef696649e29fab3d4c4283b315",
            "max": 500,
            "min": 0,
            "orientation": "horizontal",
            "style": "IPY_MODEL_538a9a028e854b92ade523c956b3d5e6",
            "value": 500
          }
        },
        "05663ee8dc9a4062bf6f3a964578b8e2": {
          "model_module": "@jupyter-widgets/controls",
          "model_name": "HTMLModel",
          "model_module_version": "1.5.0",
          "state": {
            "_dom_classes": [],
            "_model_module": "@jupyter-widgets/controls",
            "_model_module_version": "1.5.0",
            "_model_name": "HTMLModel",
            "_view_count": null,
            "_view_module": "@jupyter-widgets/controls",
            "_view_module_version": "1.5.0",
            "_view_name": "HTMLView",
            "description": "",
            "description_tooltip": null,
            "layout": "IPY_MODEL_091579e5c51640ea8acd858693a4d844",
            "placeholder": "​",
            "style": "IPY_MODEL_075d8a9c7cef41fcbef7779f8cf6535e",
            "value": " 500/500 [00:51&lt;00:00,  9.69it/s]"
          }
        },
        "9a7c114b0a134868be14c9ba046ae15b": {
          "model_module": "@jupyter-widgets/base",
          "model_name": "LayoutModel",
          "model_module_version": "1.2.0",
          "state": {
            "_model_module": "@jupyter-widgets/base",
            "_model_module_version": "1.2.0",
            "_model_name": "LayoutModel",
            "_view_count": null,
            "_view_module": "@jupyter-widgets/base",
            "_view_module_version": "1.2.0",
            "_view_name": "LayoutView",
            "align_content": null,
            "align_items": null,
            "align_self": null,
            "border": null,
            "bottom": null,
            "display": null,
            "flex": null,
            "flex_flow": null,
            "grid_area": null,
            "grid_auto_columns": null,
            "grid_auto_flow": null,
            "grid_auto_rows": null,
            "grid_column": null,
            "grid_gap": null,
            "grid_row": null,
            "grid_template_areas": null,
            "grid_template_columns": null,
            "grid_template_rows": null,
            "height": null,
            "justify_content": null,
            "justify_items": null,
            "left": null,
            "margin": null,
            "max_height": null,
            "max_width": null,
            "min_height": null,
            "min_width": null,
            "object_fit": null,
            "object_position": null,
            "order": null,
            "overflow": null,
            "overflow_x": null,
            "overflow_y": null,
            "padding": null,
            "right": null,
            "top": null,
            "visibility": null,
            "width": null
          }
        },
        "130f3f68f462400fba14334c8b347415": {
          "model_module": "@jupyter-widgets/base",
          "model_name": "LayoutModel",
          "model_module_version": "1.2.0",
          "state": {
            "_model_module": "@jupyter-widgets/base",
            "_model_module_version": "1.2.0",
            "_model_name": "LayoutModel",
            "_view_count": null,
            "_view_module": "@jupyter-widgets/base",
            "_view_module_version": "1.2.0",
            "_view_name": "LayoutView",
            "align_content": null,
            "align_items": null,
            "align_self": null,
            "border": null,
            "bottom": null,
            "display": null,
            "flex": null,
            "flex_flow": null,
            "grid_area": null,
            "grid_auto_columns": null,
            "grid_auto_flow": null,
            "grid_auto_rows": null,
            "grid_column": null,
            "grid_gap": null,
            "grid_row": null,
            "grid_template_areas": null,
            "grid_template_columns": null,
            "grid_template_rows": null,
            "height": null,
            "justify_content": null,
            "justify_items": null,
            "left": null,
            "margin": null,
            "max_height": null,
            "max_width": null,
            "min_height": null,
            "min_width": null,
            "object_fit": null,
            "object_position": null,
            "order": null,
            "overflow": null,
            "overflow_x": null,
            "overflow_y": null,
            "padding": null,
            "right": null,
            "top": null,
            "visibility": null,
            "width": null
          }
        },
        "13c405ea1ec44d7890f74edbc9fcc75d": {
          "model_module": "@jupyter-widgets/controls",
          "model_name": "DescriptionStyleModel",
          "model_module_version": "1.5.0",
          "state": {
            "_model_module": "@jupyter-widgets/controls",
            "_model_module_version": "1.5.0",
            "_model_name": "DescriptionStyleModel",
            "_view_count": null,
            "_view_module": "@jupyter-widgets/base",
            "_view_module_version": "1.2.0",
            "_view_name": "StyleView",
            "description_width": ""
          }
        },
        "bec675ef696649e29fab3d4c4283b315": {
          "model_module": "@jupyter-widgets/base",
          "model_name": "LayoutModel",
          "model_module_version": "1.2.0",
          "state": {
            "_model_module": "@jupyter-widgets/base",
            "_model_module_version": "1.2.0",
            "_model_name": "LayoutModel",
            "_view_count": null,
            "_view_module": "@jupyter-widgets/base",
            "_view_module_version": "1.2.0",
            "_view_name": "LayoutView",
            "align_content": null,
            "align_items": null,
            "align_self": null,
            "border": null,
            "bottom": null,
            "display": null,
            "flex": null,
            "flex_flow": null,
            "grid_area": null,
            "grid_auto_columns": null,
            "grid_auto_flow": null,
            "grid_auto_rows": null,
            "grid_column": null,
            "grid_gap": null,
            "grid_row": null,
            "grid_template_areas": null,
            "grid_template_columns": null,
            "grid_template_rows": null,
            "height": null,
            "justify_content": null,
            "justify_items": null,
            "left": null,
            "margin": null,
            "max_height": null,
            "max_width": null,
            "min_height": null,
            "min_width": null,
            "object_fit": null,
            "object_position": null,
            "order": null,
            "overflow": null,
            "overflow_x": null,
            "overflow_y": null,
            "padding": null,
            "right": null,
            "top": null,
            "visibility": null,
            "width": null
          }
        },
        "538a9a028e854b92ade523c956b3d5e6": {
          "model_module": "@jupyter-widgets/controls",
          "model_name": "ProgressStyleModel",
          "model_module_version": "1.5.0",
          "state": {
            "_model_module": "@jupyter-widgets/controls",
            "_model_module_version": "1.5.0",
            "_model_name": "ProgressStyleModel",
            "_view_count": null,
            "_view_module": "@jupyter-widgets/base",
            "_view_module_version": "1.2.0",
            "_view_name": "StyleView",
            "bar_color": null,
            "description_width": ""
          }
        },
        "091579e5c51640ea8acd858693a4d844": {
          "model_module": "@jupyter-widgets/base",
          "model_name": "LayoutModel",
          "model_module_version": "1.2.0",
          "state": {
            "_model_module": "@jupyter-widgets/base",
            "_model_module_version": "1.2.0",
            "_model_name": "LayoutModel",
            "_view_count": null,
            "_view_module": "@jupyter-widgets/base",
            "_view_module_version": "1.2.0",
            "_view_name": "LayoutView",
            "align_content": null,
            "align_items": null,
            "align_self": null,
            "border": null,
            "bottom": null,
            "display": null,
            "flex": null,
            "flex_flow": null,
            "grid_area": null,
            "grid_auto_columns": null,
            "grid_auto_flow": null,
            "grid_auto_rows": null,
            "grid_column": null,
            "grid_gap": null,
            "grid_row": null,
            "grid_template_areas": null,
            "grid_template_columns": null,
            "grid_template_rows": null,
            "height": null,
            "justify_content": null,
            "justify_items": null,
            "left": null,
            "margin": null,
            "max_height": null,
            "max_width": null,
            "min_height": null,
            "min_width": null,
            "object_fit": null,
            "object_position": null,
            "order": null,
            "overflow": null,
            "overflow_x": null,
            "overflow_y": null,
            "padding": null,
            "right": null,
            "top": null,
            "visibility": null,
            "width": null
          }
        },
        "075d8a9c7cef41fcbef7779f8cf6535e": {
          "model_module": "@jupyter-widgets/controls",
          "model_name": "DescriptionStyleModel",
          "model_module_version": "1.5.0",
          "state": {
            "_model_module": "@jupyter-widgets/controls",
            "_model_module_version": "1.5.0",
            "_model_name": "DescriptionStyleModel",
            "_view_count": null,
            "_view_module": "@jupyter-widgets/base",
            "_view_module_version": "1.2.0",
            "_view_name": "StyleView",
            "description_width": ""
          }
        },
        "2ed25fc7525e4cc1a80b2b49361fe169": {
          "model_module": "@jupyter-widgets/controls",
          "model_name": "HBoxModel",
          "model_module_version": "1.5.0",
          "state": {
            "_dom_classes": [],
            "_model_module": "@jupyter-widgets/controls",
            "_model_module_version": "1.5.0",
            "_model_name": "HBoxModel",
            "_view_count": null,
            "_view_module": "@jupyter-widgets/controls",
            "_view_module_version": "1.5.0",
            "_view_name": "HBoxView",
            "box_style": "",
            "children": [
              "IPY_MODEL_8552624073bd49beac03e2f3bde6933c",
              "IPY_MODEL_816184fac3274a1db6ce440588a37ea9",
              "IPY_MODEL_6f7859effa8f4cff89617723aca5ad00"
            ],
            "layout": "IPY_MODEL_8e13693e966f45da9b8ddc19012614d9"
          }
        },
        "8552624073bd49beac03e2f3bde6933c": {
          "model_module": "@jupyter-widgets/controls",
          "model_name": "HTMLModel",
          "model_module_version": "1.5.0",
          "state": {
            "_dom_classes": [],
            "_model_module": "@jupyter-widgets/controls",
            "_model_module_version": "1.5.0",
            "_model_name": "HTMLModel",
            "_view_count": null,
            "_view_module": "@jupyter-widgets/controls",
            "_view_module_version": "1.5.0",
            "_view_name": "HTMLView",
            "description": "",
            "description_tooltip": null,
            "layout": "IPY_MODEL_0e7c5f5e9b7140e2a7930f806eed020f",
            "placeholder": "​",
            "style": "IPY_MODEL_4d5472099b2444dda4cecb6657440fa8",
            "value": "100%"
          }
        },
        "816184fac3274a1db6ce440588a37ea9": {
          "model_module": "@jupyter-widgets/controls",
          "model_name": "FloatProgressModel",
          "model_module_version": "1.5.0",
          "state": {
            "_dom_classes": [],
            "_model_module": "@jupyter-widgets/controls",
            "_model_module_version": "1.5.0",
            "_model_name": "FloatProgressModel",
            "_view_count": null,
            "_view_module": "@jupyter-widgets/controls",
            "_view_module_version": "1.5.0",
            "_view_name": "ProgressView",
            "bar_style": "success",
            "description": "",
            "description_tooltip": null,
            "layout": "IPY_MODEL_237c75cc609846cfb3efb919b2690fe5",
            "max": 500,
            "min": 0,
            "orientation": "horizontal",
            "style": "IPY_MODEL_cd2c44a8dc8d408fb3d85e6a9b108150",
            "value": 500
          }
        },
        "6f7859effa8f4cff89617723aca5ad00": {
          "model_module": "@jupyter-widgets/controls",
          "model_name": "HTMLModel",
          "model_module_version": "1.5.0",
          "state": {
            "_dom_classes": [],
            "_model_module": "@jupyter-widgets/controls",
            "_model_module_version": "1.5.0",
            "_model_name": "HTMLModel",
            "_view_count": null,
            "_view_module": "@jupyter-widgets/controls",
            "_view_module_version": "1.5.0",
            "_view_name": "HTMLView",
            "description": "",
            "description_tooltip": null,
            "layout": "IPY_MODEL_6c2a08a185c647a390f785295f31d3bb",
            "placeholder": "​",
            "style": "IPY_MODEL_92a8e66d49af4715b500eb81d2dad4ba",
            "value": " 500/500 [00:51&lt;00:00,  9.71it/s]"
          }
        },
        "8e13693e966f45da9b8ddc19012614d9": {
          "model_module": "@jupyter-widgets/base",
          "model_name": "LayoutModel",
          "model_module_version": "1.2.0",
          "state": {
            "_model_module": "@jupyter-widgets/base",
            "_model_module_version": "1.2.0",
            "_model_name": "LayoutModel",
            "_view_count": null,
            "_view_module": "@jupyter-widgets/base",
            "_view_module_version": "1.2.0",
            "_view_name": "LayoutView",
            "align_content": null,
            "align_items": null,
            "align_self": null,
            "border": null,
            "bottom": null,
            "display": null,
            "flex": null,
            "flex_flow": null,
            "grid_area": null,
            "grid_auto_columns": null,
            "grid_auto_flow": null,
            "grid_auto_rows": null,
            "grid_column": null,
            "grid_gap": null,
            "grid_row": null,
            "grid_template_areas": null,
            "grid_template_columns": null,
            "grid_template_rows": null,
            "height": null,
            "justify_content": null,
            "justify_items": null,
            "left": null,
            "margin": null,
            "max_height": null,
            "max_width": null,
            "min_height": null,
            "min_width": null,
            "object_fit": null,
            "object_position": null,
            "order": null,
            "overflow": null,
            "overflow_x": null,
            "overflow_y": null,
            "padding": null,
            "right": null,
            "top": null,
            "visibility": null,
            "width": null
          }
        },
        "0e7c5f5e9b7140e2a7930f806eed020f": {
          "model_module": "@jupyter-widgets/base",
          "model_name": "LayoutModel",
          "model_module_version": "1.2.0",
          "state": {
            "_model_module": "@jupyter-widgets/base",
            "_model_module_version": "1.2.0",
            "_model_name": "LayoutModel",
            "_view_count": null,
            "_view_module": "@jupyter-widgets/base",
            "_view_module_version": "1.2.0",
            "_view_name": "LayoutView",
            "align_content": null,
            "align_items": null,
            "align_self": null,
            "border": null,
            "bottom": null,
            "display": null,
            "flex": null,
            "flex_flow": null,
            "grid_area": null,
            "grid_auto_columns": null,
            "grid_auto_flow": null,
            "grid_auto_rows": null,
            "grid_column": null,
            "grid_gap": null,
            "grid_row": null,
            "grid_template_areas": null,
            "grid_template_columns": null,
            "grid_template_rows": null,
            "height": null,
            "justify_content": null,
            "justify_items": null,
            "left": null,
            "margin": null,
            "max_height": null,
            "max_width": null,
            "min_height": null,
            "min_width": null,
            "object_fit": null,
            "object_position": null,
            "order": null,
            "overflow": null,
            "overflow_x": null,
            "overflow_y": null,
            "padding": null,
            "right": null,
            "top": null,
            "visibility": null,
            "width": null
          }
        },
        "4d5472099b2444dda4cecb6657440fa8": {
          "model_module": "@jupyter-widgets/controls",
          "model_name": "DescriptionStyleModel",
          "model_module_version": "1.5.0",
          "state": {
            "_model_module": "@jupyter-widgets/controls",
            "_model_module_version": "1.5.0",
            "_model_name": "DescriptionStyleModel",
            "_view_count": null,
            "_view_module": "@jupyter-widgets/base",
            "_view_module_version": "1.2.0",
            "_view_name": "StyleView",
            "description_width": ""
          }
        },
        "237c75cc609846cfb3efb919b2690fe5": {
          "model_module": "@jupyter-widgets/base",
          "model_name": "LayoutModel",
          "model_module_version": "1.2.0",
          "state": {
            "_model_module": "@jupyter-widgets/base",
            "_model_module_version": "1.2.0",
            "_model_name": "LayoutModel",
            "_view_count": null,
            "_view_module": "@jupyter-widgets/base",
            "_view_module_version": "1.2.0",
            "_view_name": "LayoutView",
            "align_content": null,
            "align_items": null,
            "align_self": null,
            "border": null,
            "bottom": null,
            "display": null,
            "flex": null,
            "flex_flow": null,
            "grid_area": null,
            "grid_auto_columns": null,
            "grid_auto_flow": null,
            "grid_auto_rows": null,
            "grid_column": null,
            "grid_gap": null,
            "grid_row": null,
            "grid_template_areas": null,
            "grid_template_columns": null,
            "grid_template_rows": null,
            "height": null,
            "justify_content": null,
            "justify_items": null,
            "left": null,
            "margin": null,
            "max_height": null,
            "max_width": null,
            "min_height": null,
            "min_width": null,
            "object_fit": null,
            "object_position": null,
            "order": null,
            "overflow": null,
            "overflow_x": null,
            "overflow_y": null,
            "padding": null,
            "right": null,
            "top": null,
            "visibility": null,
            "width": null
          }
        },
        "cd2c44a8dc8d408fb3d85e6a9b108150": {
          "model_module": "@jupyter-widgets/controls",
          "model_name": "ProgressStyleModel",
          "model_module_version": "1.5.0",
          "state": {
            "_model_module": "@jupyter-widgets/controls",
            "_model_module_version": "1.5.0",
            "_model_name": "ProgressStyleModel",
            "_view_count": null,
            "_view_module": "@jupyter-widgets/base",
            "_view_module_version": "1.2.0",
            "_view_name": "StyleView",
            "bar_color": null,
            "description_width": ""
          }
        },
        "6c2a08a185c647a390f785295f31d3bb": {
          "model_module": "@jupyter-widgets/base",
          "model_name": "LayoutModel",
          "model_module_version": "1.2.0",
          "state": {
            "_model_module": "@jupyter-widgets/base",
            "_model_module_version": "1.2.0",
            "_model_name": "LayoutModel",
            "_view_count": null,
            "_view_module": "@jupyter-widgets/base",
            "_view_module_version": "1.2.0",
            "_view_name": "LayoutView",
            "align_content": null,
            "align_items": null,
            "align_self": null,
            "border": null,
            "bottom": null,
            "display": null,
            "flex": null,
            "flex_flow": null,
            "grid_area": null,
            "grid_auto_columns": null,
            "grid_auto_flow": null,
            "grid_auto_rows": null,
            "grid_column": null,
            "grid_gap": null,
            "grid_row": null,
            "grid_template_areas": null,
            "grid_template_columns": null,
            "grid_template_rows": null,
            "height": null,
            "justify_content": null,
            "justify_items": null,
            "left": null,
            "margin": null,
            "max_height": null,
            "max_width": null,
            "min_height": null,
            "min_width": null,
            "object_fit": null,
            "object_position": null,
            "order": null,
            "overflow": null,
            "overflow_x": null,
            "overflow_y": null,
            "padding": null,
            "right": null,
            "top": null,
            "visibility": null,
            "width": null
          }
        },
        "92a8e66d49af4715b500eb81d2dad4ba": {
          "model_module": "@jupyter-widgets/controls",
          "model_name": "DescriptionStyleModel",
          "model_module_version": "1.5.0",
          "state": {
            "_model_module": "@jupyter-widgets/controls",
            "_model_module_version": "1.5.0",
            "_model_name": "DescriptionStyleModel",
            "_view_count": null,
            "_view_module": "@jupyter-widgets/base",
            "_view_module_version": "1.2.0",
            "_view_name": "StyleView",
            "description_width": ""
          }
        }
      }
    },
    "colab": {
      "provenance": [],
      "gpuType": "T4"
    },
    "accelerator": "GPU"
  },
  "nbformat": 4,
  "nbformat_minor": 5
}