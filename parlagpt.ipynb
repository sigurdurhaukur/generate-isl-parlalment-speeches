{
  "cells": [
    {
      "cell_type": "code",
      "execution_count": 502,
      "id": "f4b3c292",
      "metadata": {
        "colab": {
          "base_uri": "https://localhost:8080/"
        },
        "id": "f4b3c292",
        "outputId": "8810207e-d4e4-4d83-cb35-4ebc670550fd"
      },
      "outputs": [],
      "source": [
        "# !curl --remote-name-all https://repository.clarin.is/repository/xmlui/bitstream/handle/20.500.12537/236{/IGC-News1-22.10.TEI.zip}\n",
        "# !curl --remote-name-all https://repository.clarin.is/repository/xmlui/bitstream/handle/20.500.12537/238{/IGC-News2-22.10.TEI.zip}"
      ]
    },
    {
      "cell_type": "code",
      "execution_count": 503,
      "id": "3W6GDp7AmoTE",
      "metadata": {
        "colab": {
          "base_uri": "https://localhost:8080/"
        },
        "id": "3W6GDp7AmoTE",
        "outputId": "b2a43092-afc5-42fc-c09e-813c9c2962f6"
      },
      "outputs": [],
      "source": [
        "# !unzip ./IGC-Parla-22.10.TEI.zip"
      ]
    },
    {
      "cell_type": "code",
      "execution_count": 504,
      "id": "TK9j0gQ2oiN_",
      "metadata": {
        "id": "TK9j0gQ2oiN_"
      },
      "outputs": [
        {
          "name": "stdout",
          "output_type": "stream",
          "text": [
            "mv: cannot stat './IGC-Parla-22.10.TEI': No such file or directory\n"
          ]
        }
      ],
      "source": [
        "!mv ./IGC-Parla-22.10.TEI ./data"
      ]
    },
    {
      "cell_type": "code",
      "execution_count": 505,
      "id": "y3r9EVTVpT1l",
      "metadata": {
        "id": "y3r9EVTVpT1l"
      },
      "outputs": [
        {
          "name": "stdout",
          "output_type": "stream",
          "text": [
            "mkdir: cannot create directory ‘./processed_data’: File exists\n"
          ]
        }
      ],
      "source": [
        "!mkdir ./processed_data"
      ]
    },
    {
      "cell_type": "code",
      "execution_count": 506,
      "id": "9063ac08",
      "metadata": {
        "id": "9063ac08"
      },
      "outputs": [
        {
          "ename": "KeyboardInterrupt",
          "evalue": "",
          "output_type": "error",
          "traceback": [
            "\u001b[0;31m---------------------------------------------------------------------------\u001b[0m",
            "\u001b[0;31mKeyboardInterrupt\u001b[0m                         Traceback (most recent call last)",
            "Cell \u001b[0;32mIn[506], line 49\u001b[0m\n\u001b[1;32m     46\u001b[0m         \u001b[39mfor\u001b[39;00m file \u001b[39min\u001b[39;00m files:\n\u001b[1;32m     47\u001b[0m             os\u001b[39m.\u001b[39mremove(os\u001b[39m.\u001b[39mpath\u001b[39m.\u001b[39mjoin(root, file))\n\u001b[0;32m---> 49\u001b[0m clean_dir(\u001b[39m'\u001b[39;49m\u001b[39m./processed_data\u001b[39;49m\u001b[39m'\u001b[39;49m)\n\u001b[1;32m     51\u001b[0m max_count \u001b[39m=\u001b[39m \u001b[39mlen\u001b[39m(all_paths)\n\u001b[1;32m     53\u001b[0m f \u001b[39m=\u001b[39m IntProgress(\u001b[39mmin\u001b[39m\u001b[39m=\u001b[39m\u001b[39m0\u001b[39m, \u001b[39mmax\u001b[39m\u001b[39m=\u001b[39mmax_count) \u001b[39m# instantiate the bar\u001b[39;00m\n",
            "Cell \u001b[0;32mIn[506], line 47\u001b[0m, in \u001b[0;36mclean_dir\u001b[0;34m(path)\u001b[0m\n\u001b[1;32m     45\u001b[0m \u001b[39mfor\u001b[39;00m root, dirs, files \u001b[39min\u001b[39;00m os\u001b[39m.\u001b[39mwalk(path):\n\u001b[1;32m     46\u001b[0m     \u001b[39mfor\u001b[39;00m file \u001b[39min\u001b[39;00m files:\n\u001b[0;32m---> 47\u001b[0m         os\u001b[39m.\u001b[39;49mremove(os\u001b[39m.\u001b[39;49mpath\u001b[39m.\u001b[39;49mjoin(root, file))\n",
            "\u001b[0;31mKeyboardInterrupt\u001b[0m: "
          ]
        }
      ],
      "source": [
        "# read xml file\n",
        "import os\n",
        "import xml.etree.ElementTree as ET\n",
        "import re\n",
        "\n",
        "# progress bar\n",
        "from ipywidgets import IntProgress\n",
        "from IPython.display import display\n",
        "\n",
        "all_paths = []\n",
        "for root, dirs, files in os.walk(\"./data/\"):\n",
        "    for file in files:\n",
        "\n",
        "        if file.endswith(\".xml\"):\n",
        "             all_paths.append(os.path.join(root, file))\n",
        "\n",
        "all_paths\n",
        "\n",
        "# don't include the readme file\n",
        "all_paths = all_paths[1:]\n",
        "\n",
        "def read_xml(path):\n",
        "    tree = ET.parse(path)\n",
        "    root = tree.getroot()\n",
        "\n",
        "    text = []\n",
        "    for elem in root.iter():\n",
        "        if elem.text is not None:\n",
        "            text.append(elem.text.strip())\n",
        "\n",
        "    extracted_text = \" \".join(text)\n",
        "\n",
        "    # extracted_text = extracted_text[1030:].strip()\n",
        "    prescript_len = len(extracted_text.split('      ')[0])\n",
        "    extracted_text = extracted_text[prescript_len:].strip()\n",
        "\n",
        "    return extracted_text\n",
        "\n",
        "def save(path, data):\n",
        "    with open(path, 'w') as f:\n",
        "        f.write(data)\n",
        "\n",
        "\n",
        "def clean_dir(path):\n",
        "    for root, dirs, files in os.walk(path):\n",
        "        for file in files:\n",
        "            os.remove(os.path.join(root, file))\n",
        "\n",
        "clean_dir('./processed_data')\n",
        "\n",
        "max_count = len(all_paths)\n",
        "\n",
        "f = IntProgress(min=0, max=max_count) # instantiate the bar\n",
        "display(f) # display the bar\n",
        "\n",
        "for path in all_paths:\n",
        "    # parse data\n",
        "    data = read_xml(path)\n",
        "    \n",
        "    # remove year date with regex\n",
        "    # path = re.sub(r'\\d{4}/', '', path)\n",
        "\n",
        "\n",
        "    # remove everything upto the last slash\n",
        "    path = path.split('/')[-1]\n",
        "\n",
        "    path = path.replace('.xml', '.txt')\n",
        "    path = './processed_data/' + path\n",
        "    \n",
        "    # save data\n",
        "    save(path, data)\n",
        "\n",
        "    f.value += 1 # signal to increment the progress bar"
      ]
    },
    {
      "cell_type": "code",
      "execution_count": null,
      "id": "b8b41410",
      "metadata": {
        "colab": {
          "base_uri": "https://localhost:8080/"
        },
        "execution": {
          "iopub.execute_input": "2023-02-15T09:10:55.702186Z",
          "iopub.status.busy": "2023-02-15T09:10:55.701352Z",
          "iopub.status.idle": "2023-02-15T09:11:07.349280Z",
          "shell.execute_reply": "2023-02-15T09:11:07.348090Z"
        },
        "id": "b8b41410",
        "outputId": "f9c93bd8-ee15-4556-84b8-6b1229212b16",
        "papermill": {
          "duration": 11.659819,
          "end_time": "2023-02-15T09:11:07.351871",
          "exception": false,
          "start_time": "2023-02-15T09:10:55.692052",
          "status": "completed"
        },
        "tags": []
      },
      "outputs": [
        {
          "name": "stdout",
          "output_type": "stream",
          "text": [
            "Requirement already satisfied: torchinfo in /home/haukur/miniconda3/lib/python3.9/site-packages (1.8.0)\n",
            "Requirement already satisfied: tokenizers in /home/haukur/miniconda3/lib/python3.9/site-packages (0.13.2)\n"
          ]
        }
      ],
      "source": [
        "!pip install torchinfo\n",
        "!pip install tokenizers"
      ]
    },
    {
      "cell_type": "code",
      "execution_count": null,
      "id": "c8b00abb",
      "metadata": {
        "_cell_guid": "b1076dfc-b9ad-4769-8c92-a6c4dae69d19",
        "_uuid": "8f2839f25d086af736a60e9eeb907d3b93b6e0e5",
        "colab": {
          "base_uri": "https://localhost:8080/"
        },
        "execution": {
          "iopub.execute_input": "2023-02-15T09:11:07.370077Z",
          "iopub.status.busy": "2023-02-15T09:11:07.369719Z",
          "iopub.status.idle": "2023-02-15T09:11:09.370077Z",
          "shell.execute_reply": "2023-02-15T09:11:09.369123Z"
        },
        "id": "c8b00abb",
        "outputId": "f7d3743f-b71d-474e-8bca-d2965d2ea342",
        "papermill": {
          "duration": 2.012192,
          "end_time": "2023-02-15T09:11:09.372226",
          "exception": false,
          "start_time": "2023-02-15T09:11:07.360034",
          "status": "completed"
        },
        "tags": []
      },
      "outputs": [
        {
          "data": {
            "text/plain": [
              "<torch._C.Generator at 0x7f8ef8719270>"
            ]
          },
          "execution_count": 1,
          "metadata": {},
          "output_type": "execute_result"
        }
      ],
      "source": [
        "import torch\n",
        "import torch.nn as nn\n",
        "import torch.nn.functional as F\n",
        "\n",
        "from dataclasses import dataclass\n",
        "\n",
        "from tqdm.auto import tqdm\n",
        "\n",
        "from pathlib import Path\n",
        "\n",
        "import matplotlib.pyplot as plt\n",
        "\n",
        "from tokenizers import Tokenizer\n",
        "from tokenizers.models import BPE\n",
        "import tokenizers.pre_tokenizers as pre_tokenizers\n",
        "import tokenizers.processors as processors\n",
        "import tokenizers.decoders as decoders\n",
        "from tokenizers.trainers import BpeTrainer\n",
        "\n",
        "from torchinfo import summary\n",
        "\n",
        "torch.manual_seed(1357)"
      ]
    },
    {
      "cell_type": "code",
      "execution_count": null,
      "id": "473e9a7b",
      "metadata": {
        "colab": {
          "base_uri": "https://localhost:8080/"
        },
        "execution": {
          "iopub.execute_input": "2023-02-15T09:11:09.453212Z",
          "iopub.status.busy": "2023-02-15T09:11:09.452880Z",
          "iopub.status.idle": "2023-02-15T09:11:09.458921Z",
          "shell.execute_reply": "2023-02-15T09:11:09.458021Z"
        },
        "id": "473e9a7b",
        "outputId": "c621a8e4-2ea9-466d-f786-84c1459ad750",
        "papermill": {
          "duration": 0.016891,
          "end_time": "2023-02-15T09:11:09.460982",
          "exception": false,
          "start_time": "2023-02-15T09:11:09.444091",
          "status": "completed"
        },
        "tags": []
      },
      "outputs": [
        {
          "data": {
            "text/plain": [
              "('Fréttir    Fulltrúi borgarinnar í stjórn Strætó segir að mögulega verði horfið frá tillögum um niður',\n",
              " 'Fréttir    Fulltrúi borgarinnar í stjórn Strætó segir að mögulega verði horfið frá tillögum um niður')"
            ]
          },
          "execution_count": 8,
          "metadata": {},
          "output_type": "execute_result"
        }
      ],
      "source": [
        "data[:100], data[:100]"
      ]
    },
    {
      "attachments": {},
      "cell_type": "markdown",
      "id": "db836a8b",
      "metadata": {
        "id": "db836a8b",
        "papermill": {
          "duration": 0.007651,
          "end_time": "2023-02-15T09:11:09.476953",
          "exception": false,
          "start_time": "2023-02-15T09:11:09.469302",
          "status": "completed"
        },
        "tags": []
      },
      "source": [
        "# BPE Tokenizer"
      ]
    },
    {
      "cell_type": "code",
      "execution_count": null,
      "id": "faf9416d",
      "metadata": {
        "execution": {
          "iopub.execute_input": "2023-02-15T09:11:09.494115Z",
          "iopub.status.busy": "2023-02-15T09:11:09.493788Z",
          "iopub.status.idle": "2023-02-15T09:11:10.410781Z",
          "shell.execute_reply": "2023-02-15T09:11:10.409635Z"
        },
        "id": "faf9416d",
        "papermill": {
          "duration": 0.928184,
          "end_time": "2023-02-15T09:11:10.413058",
          "exception": false,
          "start_time": "2023-02-15T09:11:09.484874",
          "status": "completed"
        },
        "tags": []
      },
      "outputs": [
        {
          "name": "stdout",
          "output_type": "stream",
          "text": [
            "\n",
            "\n",
            "\n"
          ]
        }
      ],
      "source": [
        "import os\n",
        "\n",
        "all_paths = []\n",
        "for root, dirs, files in os.walk(\"./processed_data\"):\n",
        "    for file in files:\n",
        "        if file.endswith(\".txt\"):\n",
        "             all_paths.append(os.path.join(root, file))\n",
        "\n",
        "tokenizer_path = Path('./tokenizer/')\n",
        "tokenizer_path.mkdir(exist_ok=True)\n",
        "\n",
        "tokenizer = Tokenizer(BPE())\n",
        "\n",
        "tokenizer.pre_tokenizer = pre_tokenizers.ByteLevel(add_prefix_space=False)\n",
        "tokenizer.post_processor = processors.ByteLevel(trim_offsets=False)\n",
        "tokenizer.decoder = decoders.ByteLevel()\n",
        "trainer = BpeTrainer(special_tokens=['<|endoftext|>'], min_frequency=2)\n",
        "\n",
        "# tokenizer.train_from_iterator([data], trainer=trainer, length=len(data))\n",
        "tokenizer.train(all_paths, trainer=trainer)\n",
        "\n",
        "# tokenizer.train(['/kaggle/input/shakespeare-full-text/shakespeare.txt'],trainer)\n",
        "tokenizer.save(str(tokenizer_path / 'parliament.json'))"
      ]
    },
    {
      "cell_type": "code",
      "execution_count": null,
      "id": "e98882c2",
      "metadata": {},
      "outputs": [],
      "source": [
        "tokenizer_path = Path('./tokenizer/')\n",
        "\n",
        "tokenizer = Tokenizer.from_file(str(tokenizer_path / 'parliament.json'))"
      ]
    },
    {
      "attachments": {},
      "cell_type": "markdown",
      "id": "582b8ba1",
      "metadata": {
        "id": "582b8ba1",
        "papermill": {
          "duration": 0.007821,
          "end_time": "2023-02-15T09:11:10.428958",
          "exception": false,
          "start_time": "2023-02-15T09:11:10.421137",
          "status": "completed"
        },
        "tags": []
      },
      "source": [
        "# Config"
      ]
    },
    {
      "cell_type": "code",
      "execution_count": null,
      "id": "262e1892",
      "metadata": {
        "colab": {
          "base_uri": "https://localhost:8080/"
        },
        "execution": {
          "iopub.execute_input": "2023-02-15T09:11:10.446743Z",
          "iopub.status.busy": "2023-02-15T09:11:10.446204Z",
          "iopub.status.idle": "2023-02-15T09:11:10.526285Z",
          "shell.execute_reply": "2023-02-15T09:11:10.525343Z"
        },
        "id": "262e1892",
        "outputId": "c3e831dc-2711-4c04-e86c-56ec815532be",
        "papermill": {
          "duration": 0.091202,
          "end_time": "2023-02-15T09:11:10.528296",
          "exception": false,
          "start_time": "2023-02-15T09:11:10.437094",
          "status": "completed"
        },
        "tags": []
      },
      "outputs": [
        {
          "data": {
            "text/plain": [
              "('cuda', 30000)"
            ]
          },
          "execution_count": 438,
          "metadata": {},
          "output_type": "execute_result"
        }
      ],
      "source": [
        "# larger model\n",
        "\n",
        "@dataclass\n",
        "class Config:\n",
        "    \n",
        "    block_size = 256 # context-length\n",
        "    # batch_size = 64 # mini-batch size\n",
        "    batch_size = 4 # mini-batch size\n",
        "    file_batch_size = 4 # no. of files to load at once\n",
        "    \n",
        "    vocab_size = tokenizer.get_vocab_size()\n",
        "    \n",
        "    train_size = 0.9 \n",
        "    \n",
        "    n_embed = 384\n",
        "    n_heads = 6\n",
        "    head_size = n_embed // n_heads # computes to 384/6=64\n",
        "    \n",
        "    n_layers = 3\n",
        "    \n",
        "    # train_iters = 20\n",
        "    # val_iters = 2\n",
        "    train_iters = 5000 # no. of batches to train on\n",
        "    val_iters = 1000 # no. of batches to validate on every eval_intervals\n",
        "    \n",
        "    eval_interval = int(train_iters/10) # validate after every eval_interval iterations while training\n",
        "    \n",
        "    lr = 5e-4\n",
        "    \n",
        "    attn_dropout = 0.2\n",
        "    block_dropout = 0.2\n",
        "    \n",
        "    device = 'cuda' if torch.cuda.is_available() else 'cpu'\n",
        "    \n",
        "Config.device, Config.vocab_size"
      ]
    },
    {
      "attachments": {},
      "cell_type": "markdown",
      "id": "c5f27222",
      "metadata": {
        "id": "c5f27222",
        "papermill": {
          "duration": 0.007947,
          "end_time": "2023-02-15T09:11:10.544574",
          "exception": false,
          "start_time": "2023-02-15T09:11:10.536627",
          "status": "completed"
        },
        "tags": []
      },
      "source": [
        "# Dataset"
      ]
    },
    {
      "cell_type": "code",
      "execution_count": 543,
      "id": "3b2a7746",
      "metadata": {
        "execution": {
          "iopub.execute_input": "2023-02-15T09:11:10.562657Z",
          "iopub.status.busy": "2023-02-15T09:11:10.561748Z",
          "iopub.status.idle": "2023-02-15T09:11:10.572342Z",
          "shell.execute_reply": "2023-02-15T09:11:10.571376Z"
        },
        "id": "3b2a7746",
        "papermill": {
          "duration": 0.021803,
          "end_time": "2023-02-15T09:11:10.574273",
          "exception": false,
          "start_time": "2023-02-15T09:11:10.552470",
          "status": "completed"
        },
        "tags": []
      },
      "outputs": [],
      "source": [
        "import os\n",
        "from tqdm.notebook import tqdm\n",
        "from torch.utils.data import Dataset\n",
        "from tokenizers import Tokenizer\n",
        "import torch\n",
        "\n",
        "class ParliamentDataset(Dataset):\n",
        "    def __init__(self, Config, is_test=False) -> None:\n",
        "        all_paths = []\n",
        "        for root, dirs, files in os.walk(\"processed_data\"):\n",
        "            for file in files:\n",
        "                if file.endswith(\".txt\"):\n",
        "                    all_paths.append(os.path.join(root, file))\n",
        "\n",
        "        self.data_paths = all_paths[:int(len(all_paths) * 0.11)]\n",
        "        self.tokenizer = Tokenizer.from_file('./tokenizer/parliament.json')\n",
        "        self.block_size = Config.block_size\n",
        "\n",
        "    def __len__(self) -> int:\n",
        "        return len(self.data_paths)\n",
        "\n",
        "    def __getitem__(self, index: int):\n",
        "        file_path = self.data_paths[index]\n",
        "        with open(file_path, 'r', encoding='utf-8') as f:\n",
        "            text = f.read()\n",
        "            if len(text) > self.block_size:\n",
        "                encoded = self.tokenizer.encode(text).ids[:self.block_size]\n",
        "                tensor = torch.tensor(encoded, dtype=torch.long)\n",
        "                del encoded\n",
        "                return tensor\n",
        "\n",
        "    def get_block_size(self) -> int:\n",
        "        return self.block_size\n",
        "\n",
        "    def get_vocab_size(self) -> int:\n",
        "        return self.tokenizer.get_vocab_size()\n"
      ]
    },
    {
      "attachments": {},
      "cell_type": "markdown",
      "id": "460ed556",
      "metadata": {
        "id": "460ed556",
        "papermill": {
          "duration": 0.007845,
          "end_time": "2023-02-15T09:11:10.590045",
          "exception": false,
          "start_time": "2023-02-15T09:11:10.582200",
          "status": "completed"
        },
        "tags": []
      },
      "source": [
        "---\n",
        "\n",
        "# **GPT Model**"
      ]
    },
    {
      "attachments": {},
      "cell_type": "markdown",
      "id": "9dfd2a5f",
      "metadata": {
        "id": "9dfd2a5f",
        "papermill": {
          "duration": 0.007764,
          "end_time": "2023-02-15T09:11:10.605813",
          "exception": false,
          "start_time": "2023-02-15T09:11:10.598049",
          "status": "completed"
        },
        "tags": []
      },
      "source": [
        "## Single Attention Head"
      ]
    },
    {
      "cell_type": "code",
      "execution_count": 544,
      "id": "51afd115",
      "metadata": {
        "execution": {
          "iopub.execute_input": "2023-02-15T09:11:10.624133Z",
          "iopub.status.busy": "2023-02-15T09:11:10.623181Z",
          "iopub.status.idle": "2023-02-15T09:11:10.633191Z",
          "shell.execute_reply": "2023-02-15T09:11:10.632005Z"
        },
        "id": "51afd115",
        "papermill": {
          "duration": 0.021524,
          "end_time": "2023-02-15T09:11:10.635499",
          "exception": false,
          "start_time": "2023-02-15T09:11:10.613975",
          "status": "completed"
        },
        "tags": []
      },
      "outputs": [],
      "source": [
        "class AttentionHead(nn.Module):\n",
        "    def __init__(self, Config):\n",
        "        super().__init__()\n",
        "\n",
        "        self.block_size = Config.block_size\n",
        "        self.n_embed = Config.n_embed\n",
        "        self.head_size = Config.head_size\n",
        "        \n",
        "        self.key = nn.Linear(self.n_embed, self.head_size, bias=False)\n",
        "        self.query = nn.Linear(self.n_embed, self.head_size, bias=False)\n",
        "        \n",
        "        self.value = nn.Linear(self.n_embed, self.head_size, bias=False)\n",
        "\n",
        "        self.register_buffer(\n",
        "            'tril',\n",
        "            torch.tril(torch.ones(self.block_size,self.block_size))\n",
        "        )\n",
        "        \n",
        "        self.dropout = nn.Dropout(Config.attn_dropout)\n",
        "\n",
        "    def forward(self, x):\n",
        "\n",
        "        B,T,C = x.shape\n",
        "\n",
        "        k = self.key(x)\n",
        "        q = self.query(x)\n",
        "\n",
        "        wei = q@k.transpose(-2,-1) * (C ** 0.5)\n",
        "        wei = wei.masked_fill(self.tril[:T,:T]==0,float('-inf'))\n",
        "        wei = F.softmax(wei, dim=-1)\n",
        "        wei = self.dropout(wei)\n",
        "        \n",
        "        v = self.value(x)\n",
        "        out = wei @ v\n",
        "        \n",
        "        return out"
      ]
    },
    {
      "attachments": {},
      "cell_type": "markdown",
      "id": "f9cf7e02",
      "metadata": {
        "id": "f9cf7e02",
        "papermill": {
          "duration": 0.007892,
          "end_time": "2023-02-15T09:11:10.651472",
          "exception": false,
          "start_time": "2023-02-15T09:11:10.643580",
          "status": "completed"
        },
        "tags": []
      },
      "source": [
        "## MultiHead Attention"
      ]
    },
    {
      "cell_type": "code",
      "execution_count": 545,
      "id": "46bb27be",
      "metadata": {
        "execution": {
          "iopub.execute_input": "2023-02-15T09:11:10.668742Z",
          "iopub.status.busy": "2023-02-15T09:11:10.668423Z",
          "iopub.status.idle": "2023-02-15T09:11:10.674991Z",
          "shell.execute_reply": "2023-02-15T09:11:10.674075Z"
        },
        "id": "46bb27be",
        "papermill": {
          "duration": 0.01775,
          "end_time": "2023-02-15T09:11:10.677153",
          "exception": false,
          "start_time": "2023-02-15T09:11:10.659403",
          "status": "completed"
        },
        "tags": []
      },
      "outputs": [],
      "source": [
        "class MultiHeadAttention(nn.Module):\n",
        "    def __init__(self, Config):\n",
        "        super().__init__()\n",
        "        self.n_heads = Config.n_heads\n",
        "        self.head_size = Config.head_size\n",
        "        \n",
        "        self.heads = nn.ModuleList([AttentionHead(Config) for _ in range(self.n_heads)])\n",
        "        \n",
        "        self.projection = nn.Linear(Config.n_embed, Config.n_embed)\n",
        "        \n",
        "        self.dropout = nn.Dropout(Config.attn_dropout)\n",
        "    \n",
        "    def forward(self,x):\n",
        "        x = torch.cat([h(x) for h in self.heads],dim=-1)\n",
        "        x = self.projection(x)\n",
        "        x = self.dropout(x)\n",
        "        return x"
      ]
    },
    {
      "attachments": {},
      "cell_type": "markdown",
      "id": "474f88d0",
      "metadata": {
        "id": "474f88d0",
        "papermill": {
          "duration": 0.007875,
          "end_time": "2023-02-15T09:11:10.692909",
          "exception": false,
          "start_time": "2023-02-15T09:11:10.685034",
          "status": "completed"
        },
        "tags": []
      },
      "source": [
        "## Feed Forward Layer"
      ]
    },
    {
      "attachments": {},
      "cell_type": "markdown",
      "id": "c8e59a37",
      "metadata": {
        "id": "c8e59a37",
        "papermill": {
          "duration": 0.008044,
          "end_time": "2023-02-15T09:11:10.734687",
          "exception": false,
          "start_time": "2023-02-15T09:11:10.726643",
          "status": "completed"
        },
        "tags": []
      },
      "source": [
        "# Transformer Block"
      ]
    },
    {
      "cell_type": "code",
      "execution_count": 546,
      "id": "039e949b",
      "metadata": {
        "execution": {
          "iopub.execute_input": "2023-02-15T09:11:10.752630Z",
          "iopub.status.busy": "2023-02-15T09:11:10.751790Z",
          "iopub.status.idle": "2023-02-15T09:11:10.758272Z",
          "shell.execute_reply": "2023-02-15T09:11:10.757442Z"
        },
        "id": "039e949b",
        "papermill": {
          "duration": 0.017434,
          "end_time": "2023-02-15T09:11:10.760234",
          "exception": false,
          "start_time": "2023-02-15T09:11:10.742800",
          "status": "completed"
        },
        "tags": []
      },
      "outputs": [],
      "source": [
        "class TransformerBlock(nn.Module):\n",
        "    def __init__(self, Config):\n",
        "        super().__init__()\n",
        "        self.attn = MultiHeadAttention(Config)\n",
        "        self.ff = FeedForward(Config)\n",
        "        self.ln1 = nn.LayerNorm(Config.n_embed)\n",
        "        self.ln2 = nn.LayerNorm(Config.n_embed)\n",
        "\n",
        "    def forward(self,x):\n",
        "        x = x + self.attn(self.ln1(x))\n",
        "        x = x + self.ff(self.ln2(x))\n",
        "        \n",
        "        return x"
      ]
    },
    {
      "attachments": {},
      "cell_type": "markdown",
      "id": "df99b93f",
      "metadata": {
        "id": "df99b93f",
        "papermill": {
          "duration": 0.007907,
          "end_time": "2023-02-15T09:11:10.776073",
          "exception": false,
          "start_time": "2023-02-15T09:11:10.768166",
          "status": "completed"
        },
        "tags": []
      },
      "source": [
        "## GPT Model"
      ]
    },
    {
      "cell_type": "code",
      "execution_count": 547,
      "id": "e75360e3",
      "metadata": {
        "execution": {
          "iopub.execute_input": "2023-02-15T09:11:10.793740Z",
          "iopub.status.busy": "2023-02-15T09:11:10.792900Z",
          "iopub.status.idle": "2023-02-15T09:11:10.802612Z",
          "shell.execute_reply": "2023-02-15T09:11:10.801766Z"
        },
        "id": "e75360e3",
        "papermill": {
          "duration": 0.020708,
          "end_time": "2023-02-15T09:11:10.804630",
          "exception": false,
          "start_time": "2023-02-15T09:11:10.783922",
          "status": "completed"
        },
        "tags": []
      },
      "outputs": [],
      "source": [
        "class ISLParliamentGPT(nn.Module):\n",
        "    def __init__(self,Config):\n",
        "        super().__init__()\n",
        "        \n",
        "        self.n_embed = Config.n_embed\n",
        "        self.block_size = Config.block_size\n",
        "        \n",
        "        self.token_embedding_table = nn.Embedding(Config.vocab_size,self.n_embed)\n",
        "        self.pos_embedding_table = nn.Embedding(self.block_size, self.n_embed)\n",
        "        \n",
        "        self.blocks = nn.Sequential(\n",
        "            *[TransformerBlock(Config)]*Config.n_layers,\n",
        "            nn.LayerNorm(self.n_embed)\n",
        "        )\n",
        "\n",
        "        self.lm_head = nn.Linear(self.n_embed,Config.vocab_size)\n",
        "        \n",
        "    def forward(self,idx):\n",
        "        \n",
        "        B,T = idx.shape\n",
        "        \n",
        "        token_embs = self.token_embedding_table(idx)\n",
        "        pos_embs = self.pos_embedding_table(torch.arange(T,device=Config.device))\n",
        "        \n",
        "        \n",
        "        x = token_embs + pos_embs\n",
        "        x = self.blocks(x)\n",
        "        logits = self.lm_head(x)\n",
        "        \n",
        "        return logits\n",
        "\n",
        "        \n",
        "    def generate(self,idx,total):\n",
        "        for _ in range(total):\n",
        "            idx_cond = idx[:, -self.block_size:]\n",
        "            logits= self(idx_cond)\n",
        "            logits = logits[:, -1, :]\n",
        "            probs = F.softmax(logits, dim=-1)\n",
        "            idx_next = torch.multinomial(probs, num_samples=1)\n",
        "            idx = torch.cat((idx, idx_next), dim=1)\n",
        "        return idx\n",
        "            "
      ]
    },
    {
      "cell_type": "code",
      "execution_count": 548,
      "id": "7eb47416",
      "metadata": {
        "execution": {
          "iopub.execute_input": "2023-02-15T09:11:10.711211Z",
          "iopub.status.busy": "2023-02-15T09:11:10.710230Z",
          "iopub.status.idle": "2023-02-15T09:11:10.716751Z",
          "shell.execute_reply": "2023-02-15T09:11:10.715882Z"
        },
        "id": "7eb47416",
        "papermill": {
          "duration": 0.017692,
          "end_time": "2023-02-15T09:11:10.718711",
          "exception": false,
          "start_time": "2023-02-15T09:11:10.701019",
          "status": "completed"
        },
        "tags": []
      },
      "outputs": [],
      "source": [
        "class FeedForward(nn.Module):\n",
        "    def __init__(self, Config):\n",
        "        super().__init__()\n",
        "        self.net = nn.Sequential(\n",
        "            nn.Linear(Config.n_embed,Config.n_embed * 4),\n",
        "            nn.ReLU(),\n",
        "            nn.Linear(Config.n_embed * 4, Config.n_embed), # projection\n",
        "            nn.Dropout(Config.block_dropout)\n",
        "        )\n",
        "    def forward(self,x):\n",
        "        return self.net(x)"
      ]
    },
    {
      "attachments": {},
      "cell_type": "markdown",
      "id": "c2437b37",
      "metadata": {
        "id": "c2437b37",
        "papermill": {
          "duration": 0.00787,
          "end_time": "2023-02-15T09:11:10.820591",
          "exception": false,
          "start_time": "2023-02-15T09:11:10.812721",
          "status": "completed"
        },
        "tags": []
      },
      "source": [
        "# Training"
      ]
    },
    {
      "cell_type": "code",
      "execution_count": 549,
      "id": "32e88834",
      "metadata": {
        "execution": {
          "iopub.execute_input": "2023-02-15T09:11:10.838744Z",
          "iopub.status.busy": "2023-02-15T09:11:10.837880Z",
          "iopub.status.idle": "2023-02-15T09:11:12.895238Z",
          "shell.execute_reply": "2023-02-15T09:11:12.894247Z"
        },
        "id": "32e88834",
        "papermill": {
          "duration": 2.069049,
          "end_time": "2023-02-15T09:11:12.897669",
          "exception": false,
          "start_time": "2023-02-15T09:11:10.828620",
          "status": "completed"
        },
        "tags": []
      },
      "outputs": [],
      "source": [
        "# print(\"Train Dataset\")\n",
        "train_ds = ParliamentDataset(Config)\n",
        "# print(\"Val Dataset\")\n",
        "val_ds = ParliamentDataset(Config,is_test=True)"
      ]
    },
    {
      "cell_type": "code",
      "execution_count": 550,
      "id": "fc03dd33",
      "metadata": {
        "execution": {
          "iopub.execute_input": "2023-02-15T09:11:12.916528Z",
          "iopub.status.busy": "2023-02-15T09:11:12.915697Z",
          "iopub.status.idle": "2023-02-15T09:11:15.945807Z",
          "shell.execute_reply": "2023-02-15T09:11:15.944810Z"
        },
        "id": "fc03dd33",
        "papermill": {
          "duration": 3.042334,
          "end_time": "2023-02-15T09:11:15.948253",
          "exception": false,
          "start_time": "2023-02-15T09:11:12.905919",
          "status": "completed"
        },
        "tags": []
      },
      "outputs": [],
      "source": [
        "lm = ISLParliamentGPT(Config)\n",
        "lm = lm.to(device=Config.device)"
      ]
    },
    {
      "cell_type": "code",
      "execution_count": 551,
      "id": "d7340006",
      "metadata": {
        "colab": {
          "base_uri": "https://localhost:8080/"
        },
        "execution": {
          "iopub.execute_input": "2023-02-15T09:11:15.966079Z",
          "iopub.status.busy": "2023-02-15T09:11:15.965484Z",
          "iopub.status.idle": "2023-02-15T09:11:16.940302Z",
          "shell.execute_reply": "2023-02-15T09:11:16.939445Z"
        },
        "id": "d7340006",
        "outputId": "7603e363-a613-4074-8839-3e874d829d7b",
        "papermill": {
          "duration": 0.986096,
          "end_time": "2023-02-15T09:11:16.942579",
          "exception": false,
          "start_time": "2023-02-15T09:11:15.956483",
          "status": "completed"
        },
        "tags": []
      },
      "outputs": [
        {
          "data": {
            "text/plain": [
              "===============================================================================================\n",
              "Layer (type:depth-idx)                        Output Shape              Param #\n",
              "===============================================================================================\n",
              "ISLParliamentGPT                              [4, 256, 30000]           --\n",
              "├─Embedding: 1-1                              [4, 256, 384]             11,520,000\n",
              "├─Embedding: 1-2                              [256, 384]                98,304\n",
              "├─Sequential: 1-3                             [4, 256, 384]             --\n",
              "│    └─TransformerBlock: 2-1                  [4, 256, 384]             --\n",
              "│    │    └─LayerNorm: 3-1                    [4, 256, 384]             768\n",
              "│    │    └─MultiHeadAttention: 3-2           [4, 256, 384]             --\n",
              "│    │    │    └─ModuleList: 4-9              --                        (recursive)\n",
              "│    │    │    │    └─AttentionHead: 5-1      [4, 256, 64]              73,728\n",
              "│    │    │    │    └─AttentionHead: 5-2      [4, 256, 64]              73,728\n",
              "│    │    │    │    └─AttentionHead: 5-3      [4, 256, 64]              73,728\n",
              "│    │    │    │    └─AttentionHead: 5-4      [4, 256, 64]              73,728\n",
              "│    │    │    │    └─AttentionHead: 5-5      [4, 256, 64]              73,728\n",
              "│    │    │    │    └─AttentionHead: 5-6      [4, 256, 64]              73,728\n",
              "│    │    │    └─Linear: 4-2                  [4, 256, 384]             147,840\n",
              "│    │    │    └─Dropout: 4-3                 [4, 256, 384]             --\n",
              "│    │    └─LayerNorm: 3-3                    [4, 256, 384]             768\n",
              "│    │    └─FeedForward: 3-4                  [4, 256, 384]             --\n",
              "│    │    │    └─Sequential: 4-4              [4, 256, 384]             --\n",
              "│    │    │    │    └─Linear: 5-7             [4, 256, 1536]            591,360\n",
              "│    │    │    │    └─ReLU: 5-8               [4, 256, 1536]            --\n",
              "│    │    │    │    └─Linear: 5-9             [4, 256, 384]             590,208\n",
              "│    │    │    │    └─Dropout: 5-10           [4, 256, 384]             --\n",
              "│    └─TransformerBlock: 2-2                  [4, 256, 384]             (recursive)\n",
              "│    │    └─LayerNorm: 3-5                    [4, 256, 384]             (recursive)\n",
              "│    │    └─MultiHeadAttention: 3-6           [4, 256, 384]             (recursive)\n",
              "│    │    │    └─ModuleList: 4-9              --                        (recursive)\n",
              "│    │    │    │    └─AttentionHead: 5-11     [4, 256, 64]              (recursive)\n",
              "│    │    │    │    └─AttentionHead: 5-12     [4, 256, 64]              (recursive)\n",
              "│    │    │    │    └─AttentionHead: 5-13     [4, 256, 64]              (recursive)\n",
              "│    │    │    │    └─AttentionHead: 5-14     [4, 256, 64]              (recursive)\n",
              "│    │    │    │    └─AttentionHead: 5-15     [4, 256, 64]              (recursive)\n",
              "│    │    │    │    └─AttentionHead: 5-16     [4, 256, 64]              (recursive)\n",
              "│    │    │    └─Linear: 4-6                  [4, 256, 384]             (recursive)\n",
              "│    │    │    └─Dropout: 4-7                 [4, 256, 384]             --\n",
              "│    │    └─LayerNorm: 3-7                    [4, 256, 384]             (recursive)\n",
              "│    │    └─FeedForward: 3-8                  [4, 256, 384]             (recursive)\n",
              "│    │    │    └─Sequential: 4-8              [4, 256, 384]             (recursive)\n",
              "│    │    │    │    └─Linear: 5-17            [4, 256, 1536]            (recursive)\n",
              "│    │    │    │    └─ReLU: 5-18              [4, 256, 1536]            --\n",
              "│    │    │    │    └─Linear: 5-19            [4, 256, 384]             (recursive)\n",
              "│    │    │    │    └─Dropout: 5-20           [4, 256, 384]             --\n",
              "│    └─TransformerBlock: 2-3                  [4, 256, 384]             (recursive)\n",
              "│    │    └─LayerNorm: 3-9                    [4, 256, 384]             (recursive)\n",
              "│    │    └─MultiHeadAttention: 3-10          [4, 256, 384]             (recursive)\n",
              "│    │    │    └─ModuleList: 4-9              --                        (recursive)\n",
              "│    │    │    │    └─AttentionHead: 5-21     [4, 256, 64]              (recursive)\n",
              "│    │    │    │    └─AttentionHead: 5-22     [4, 256, 64]              (recursive)\n",
              "│    │    │    │    └─AttentionHead: 5-23     [4, 256, 64]              (recursive)\n",
              "│    │    │    │    └─AttentionHead: 5-24     [4, 256, 64]              (recursive)\n",
              "│    │    │    │    └─AttentionHead: 5-25     [4, 256, 64]              (recursive)\n",
              "│    │    │    │    └─AttentionHead: 5-26     [4, 256, 64]              (recursive)\n",
              "│    │    │    └─Linear: 4-10                 [4, 256, 384]             (recursive)\n",
              "│    │    │    └─Dropout: 4-11                [4, 256, 384]             --\n",
              "│    │    └─LayerNorm: 3-11                   [4, 256, 384]             (recursive)\n",
              "│    │    └─FeedForward: 3-12                 [4, 256, 384]             (recursive)\n",
              "│    │    │    └─Sequential: 4-12             [4, 256, 384]             (recursive)\n",
              "│    │    │    │    └─Linear: 5-27            [4, 256, 1536]            (recursive)\n",
              "│    │    │    │    └─ReLU: 5-28              [4, 256, 1536]            --\n",
              "│    │    │    │    └─Linear: 5-29            [4, 256, 384]             (recursive)\n",
              "│    │    │    │    └─Dropout: 5-30           [4, 256, 384]             --\n",
              "│    └─LayerNorm: 2-4                         [4, 256, 384]             768\n",
              "├─Linear: 1-4                                 [4, 256, 30000]           11,550,000\n",
              "===============================================================================================\n",
              "Total params: 24,942,384\n",
              "Trainable params: 24,942,384\n",
              "Non-trainable params: 0\n",
              "Total mult-adds (M): 138.73\n",
              "===============================================================================================\n",
              "Input size (MB): 0.01\n",
              "Forward/backward pass size (MB): 356.65\n",
              "Params size (MB): 99.77\n",
              "Estimated Total Size (MB): 456.42\n",
              "==============================================================================================="
            ]
          },
          "execution_count": 551,
          "metadata": {},
          "output_type": "execute_result"
        }
      ],
      "source": [
        "summary(lm,input_size=(Config.batch_size, Config.block_size),dtypes=[torch.long],depth=5,)"
      ]
    },
    {
      "attachments": {},
      "cell_type": "markdown",
      "id": "1bbf5362",
      "metadata": {
        "id": "1bbf5362",
        "papermill": {
          "duration": 0.008178,
          "end_time": "2023-02-15T09:11:16.959307",
          "exception": false,
          "start_time": "2023-02-15T09:11:16.951129",
          "status": "completed"
        },
        "tags": []
      },
      "source": [
        "### Optimizer"
      ]
    },
    {
      "cell_type": "code",
      "execution_count": 552,
      "id": "aef240fd",
      "metadata": {
        "execution": {
          "iopub.execute_input": "2023-02-15T09:11:16.977459Z",
          "iopub.status.busy": "2023-02-15T09:11:16.977125Z",
          "iopub.status.idle": "2023-02-15T09:11:16.981997Z",
          "shell.execute_reply": "2023-02-15T09:11:16.981001Z"
        },
        "id": "aef240fd",
        "papermill": {
          "duration": 0.016333,
          "end_time": "2023-02-15T09:11:16.983983",
          "exception": false,
          "start_time": "2023-02-15T09:11:16.967650",
          "status": "completed"
        },
        "tags": []
      },
      "outputs": [],
      "source": [
        "optim = torch.optim.AdamW(lm.parameters(), lr=Config.lr)"
      ]
    },
    {
      "attachments": {},
      "cell_type": "markdown",
      "id": "458df3f1",
      "metadata": {
        "id": "458df3f1",
        "papermill": {
          "duration": 0.008098,
          "end_time": "2023-02-15T09:11:17.000505",
          "exception": false,
          "start_time": "2023-02-15T09:11:16.992407",
          "status": "completed"
        },
        "tags": []
      },
      "source": [
        "### Loss Function"
      ]
    },
    {
      "cell_type": "code",
      "execution_count": 553,
      "id": "94815a81",
      "metadata": {
        "execution": {
          "iopub.execute_input": "2023-02-15T09:11:17.019753Z",
          "iopub.status.busy": "2023-02-15T09:11:17.018127Z",
          "iopub.status.idle": "2023-02-15T09:11:17.024060Z",
          "shell.execute_reply": "2023-02-15T09:11:17.023129Z"
        },
        "id": "94815a81",
        "papermill": {
          "duration": 0.017438,
          "end_time": "2023-02-15T09:11:17.026192",
          "exception": false,
          "start_time": "2023-02-15T09:11:17.008754",
          "status": "completed"
        },
        "tags": []
      },
      "outputs": [],
      "source": [
        "def loss_fn(logits, targets):\n",
        "    B,T,C = logits.shape\n",
        "    logits = logits.view(B*T, C)\n",
        "    targets = targets.view(B*T)\n",
        "    loss = F.cross_entropy(logits,targets)\n",
        "    return loss"
      ]
    },
    {
      "attachments": {},
      "cell_type": "markdown",
      "id": "29c03c6c",
      "metadata": {
        "id": "29c03c6c",
        "papermill": {
          "duration": 0.008117,
          "end_time": "2023-02-15T09:11:17.042719",
          "exception": false,
          "start_time": "2023-02-15T09:11:17.034602",
          "status": "completed"
        },
        "tags": []
      },
      "source": [
        "# Training Loops"
      ]
    },
    {
      "attachments": {},
      "cell_type": "markdown",
      "id": "83ca8de0",
      "metadata": {
        "id": "83ca8de0",
        "papermill": {
          "duration": 0.008055,
          "end_time": "2023-02-15T09:11:17.059021",
          "exception": false,
          "start_time": "2023-02-15T09:11:17.050966",
          "status": "completed"
        },
        "tags": []
      },
      "source": [
        "## Validation Loop\n",
        "\n",
        "averages over `val_iters` mini-batches"
      ]
    },
    {
      "cell_type": "code",
      "execution_count": 554,
      "id": "b1e81477",
      "metadata": {
        "execution": {
          "iopub.execute_input": "2023-02-15T09:11:17.077823Z",
          "iopub.status.busy": "2023-02-15T09:11:17.076875Z",
          "iopub.status.idle": "2023-02-15T09:11:17.083922Z",
          "shell.execute_reply": "2023-02-15T09:11:17.083021Z"
        },
        "id": "b1e81477",
        "papermill": {
          "duration": 0.018456,
          "end_time": "2023-02-15T09:11:17.085928",
          "exception": false,
          "start_time": "2023-02-15T09:11:17.067472",
          "status": "completed"
        },
        "tags": []
      },
      "outputs": [],
      "source": [
        "from torch.utils.data import DataLoader\n",
        "\n",
        "@torch.no_grad()\n",
        "def valid_N_iters():\n",
        "    val_step_losses = []\n",
        "    val_loader = DataLoader(val_ds, batch_size=Config.batch_size, shuffle=False, drop_last=True)\n",
        "\n",
        "    for inputs in val_loader:\n",
        "        inputs = inputs.to(device=Config.device)\n",
        "        targets = inputs[:, 1:].contiguous().to(device=Config.device)\n",
        "        inputs = inputs[:, :-1].contiguous().to(device=Config.device)\n",
        "        logits = lm(inputs)\n",
        "        loss = loss_fn(logits, targets)\n",
        "        val_step_losses.append(loss.item())\n",
        "\n",
        "    val_loss = torch.tensor(val_step_losses).mean()\n",
        "    print(f'val loss: {val_loss}')\n",
        "    return val_loss"
      ]
    },
    {
      "attachments": {},
      "cell_type": "markdown",
      "id": "9e6303e7",
      "metadata": {
        "id": "9e6303e7",
        "papermill": {
          "duration": 0.008117,
          "end_time": "2023-02-15T09:11:17.102259",
          "exception": false,
          "start_time": "2023-02-15T09:11:17.094142",
          "status": "completed"
        },
        "tags": []
      },
      "source": [
        "## Training Loop\n",
        "\n",
        "trains over `train_iters` mini-batches, calls `valid_N_iters()` every `eval_interval`"
      ]
    },
    {
      "cell_type": "code",
      "execution_count": 555,
      "id": "dca8b9a4",
      "metadata": {
        "execution": {
          "iopub.execute_input": "2023-02-15T09:11:17.120883Z",
          "iopub.status.busy": "2023-02-15T09:11:17.119826Z",
          "iopub.status.idle": "2023-02-15T09:11:17.128693Z",
          "shell.execute_reply": "2023-02-15T09:11:17.127850Z"
        },
        "id": "dca8b9a4",
        "papermill": {
          "duration": 0.02027,
          "end_time": "2023-02-15T09:11:17.130757",
          "exception": false,
          "start_time": "2023-02-15T09:11:17.110487",
          "status": "completed"
        },
        "tags": []
      },
      "outputs": [],
      "source": [
        "from torch.utils.data import DataLoader\n",
        "def train_N_iters():\n",
        "    lm.train()\n",
        "    train_step_losses = []\n",
        "    val_losses = []\n",
        "    train_loader = DataLoader(train_ds, batch_size=Config.batch_size, shuffle=True, drop_last=True)\n",
        "\n",
        "\n",
        "    for batch, inputs in enumerate(train_loader):\n",
        "        optim.zero_grad()\n",
        "        inputs = inputs.to(device=Config.device)\n",
        "        targets = inputs[:, 1:].contiguous().to(device=Config.device)\n",
        "        inputs = inputs[:, :-1].contiguous().to(device=Config.device)\n",
        "        logits = lm(inputs)\n",
        "        loss = loss_fn(logits, targets)\n",
        "        loss.backward()\n",
        "        optim.step()\n",
        "        train_step_losses.append(loss.item())\n",
        "\n",
        "        if batch % (Config.train_iters // 10) == 0 or batch == Config.train_iters - 1:\n",
        "            print(f\"\\n{'-' * 50}\\nbatch {batch} train step loss: {loss.item()}\")\n",
        "            print(f\"train loss so far: {torch.tensor(train_step_losses).mean()}\\n{'-' * 50}\\n\")\n",
        "\n",
        "        if batch % Config.eval_interval == 0 or batch == Config.train_iters - 1:\n",
        "            lm.eval()\n",
        "            val_loss = valid_N_iters()\n",
        "            lm.train()\n",
        "            val_losses.append(val_loss.item())\n",
        "\n",
        "    return train_step_losses, val_losses"
      ]
    },
    {
      "cell_type": "code",
      "execution_count": 556,
      "id": "723c6dc6",
      "metadata": {
        "execution": {
          "iopub.execute_input": "2023-02-15T09:11:17.148981Z",
          "iopub.status.busy": "2023-02-15T09:11:17.148172Z",
          "iopub.status.idle": "2023-02-15T09:11:17.153677Z",
          "shell.execute_reply": "2023-02-15T09:11:17.152843Z"
        },
        "id": "723c6dc6",
        "papermill": {
          "duration": 0.016721,
          "end_time": "2023-02-15T09:11:17.155629",
          "exception": false,
          "start_time": "2023-02-15T09:11:17.138908",
          "status": "completed"
        },
        "tags": []
      },
      "outputs": [],
      "source": [
        "def save_lm():\n",
        "    state_dict = lm.state_dict()\n",
        "    save_path = Path('./').resolve() / 'isl_parliament_gpt'\n",
        "    save_path.mkdir(exist_ok=True)\n",
        "    model_path = save_path / f'isl_parliament_gpt.pth'\n",
        "    torch.save(state_dict, model_path)"
      ]
    },
    {
      "cell_type": "code",
      "execution_count": 557,
      "id": "7827a39a",
      "metadata": {
        "execution": {
          "iopub.execute_input": "2023-02-15T09:11:17.173897Z",
          "iopub.status.busy": "2023-02-15T09:11:17.173116Z",
          "iopub.status.idle": "2023-02-15T09:11:17.177954Z",
          "shell.execute_reply": "2023-02-15T09:11:17.177125Z"
        },
        "id": "7827a39a",
        "papermill": {
          "duration": 0.015887,
          "end_time": "2023-02-15T09:11:17.179885",
          "exception": false,
          "start_time": "2023-02-15T09:11:17.163998",
          "status": "completed"
        },
        "tags": []
      },
      "outputs": [],
      "source": [
        "def train_lm():\n",
        "    train_step_losses,val_losses = train_N_iters() \n",
        "    save_lm()\n",
        "    return train_step_losses,val_losses"
      ]
    },
    {
      "cell_type": "code",
      "execution_count": 558,
      "id": "c0a84475",
      "metadata": {
        "colab": {
          "base_uri": "https://localhost:8080/",
          "height": 1000,
          "referenced_widgets": [
            "b3d8cc6294e64e86bf0d7c1ef8606421",
            "feae0b52e22a49acb734346c34a5e252",
            "e25b5d95ae6346fa82d64188767488f7",
            "906d8612ba1a42549a35e26ee7bf95ad",
            "0c20667c100346759a30479871a073b8",
            "cd5a0163ad51476a8d87703ac80c6cb2",
            "51cc54fa5b2945f580803a19c7db68d3",
            "d0e0d2bf8f2e4856885b810135954aaf",
            "43ded7da40e749359147643ac5e569fc",
            "ae550c504bd44924a613185749e1d842",
            "79571185bc4e438194a815ee96830c74",
            "6df25ea3efc6474e84aab79c5a458218",
            "f8d81e49fe7e4d189210d4c7bc9bc801",
            "f153f85c88a24680b5d9a8cf154506b9",
            "773b5c5d755c42b2a2762d0b08301d82",
            "7e3173fdb85446e09eaceb3e5ab2c4df",
            "fc3d53643f40485e9c181291689b51e6",
            "9acbf31c3e0847c19ce37b2d39107d69",
            "6b724c91c3704f11894a60f45738596e",
            "15ebbf566b0a4109841e8a1c6dfe3b35",
            "97f385808a2f451db3b7fd484e3b4798",
            "0fb9c42daff74d749c34f453911ab90c",
            "8fcf4dead16045e6b0f0150079ffbb8c",
            "e59dce9a4d8f43b8b602fee0e024c4d1",
            "eeb6ae8fb1a34cc4a7e7bdb7f259933e",
            "db73b85d2bfa48008c395a63cc3af075",
            "96c806cb403c4b928dcd326c46223321",
            "370e2ae5fa2745af91bcadd8ead54a12",
            "5e8a4c0952a44ee0ad424b25e3151890",
            "b1be34ef1e9643b294127541241d28ab",
            "0d2aa50461564723bf98d8a215e32a90",
            "2466c0f5ebf6468f899a8e6aff5462ca",
            "9706fafc500141cca19e9b9b76b246bf",
            "0a5df1821207410eb6c5aac7e2880892",
            "3f5452103607449ca2d5ccf24cb595aa",
            "01c70f80d1c64fa68dd640b04ebc70af",
            "ec6659c7128945d4a1f1e79e970478ff",
            "810aa9993c3343938d1cf8915190ad68",
            "705051cd733f4fb08e89288422eeb5cb",
            "8239195b2ad0458e82eca30b6119b571",
            "4280f725a3214d13944142812aceda3c",
            "05ea45d48b0e41b58a9d685a5bd3fa82",
            "3d2d3f850d8e46a68aa5f980f639dccc",
            "c9e670d2401540e9aec056a5a90b1276",
            "5f496900686448ec8321b872878cbc9b",
            "d41f67902f5a41d796ba3e3e3ed67401",
            "19ec068972dc49ecbf7c61b6cf11f80c",
            "b8e0faee2d2f48ef94fd7abec2f61f8d",
            "d84c9ca61516446aa924828486e693ac",
            "cee75e811a7a4640b440467dce8bd3d9",
            "b0ac74a5aa85426db45fbcf05c8941f9",
            "e7f49fc1ac3243448665933a4cb37860",
            "05cccc86df7b4dd791b87b159dabb9ea",
            "60a483d6afb44c378791c5cfd67f5dec",
            "166c7a7b86204af6bdcc8dc623ba80e7",
            "3b7dd7c6e73c43fb9b9aadeebe770f08",
            "089704ee20274a06b063e9b872219d9d",
            "7c009fac2e5b41dab81fbafb18a101c0",
            "05663ee8dc9a4062bf6f3a964578b8e2",
            "9a7c114b0a134868be14c9ba046ae15b",
            "130f3f68f462400fba14334c8b347415",
            "13c405ea1ec44d7890f74edbc9fcc75d",
            "bec675ef696649e29fab3d4c4283b315",
            "538a9a028e854b92ade523c956b3d5e6",
            "091579e5c51640ea8acd858693a4d844",
            "075d8a9c7cef41fcbef7779f8cf6535e",
            "2ed25fc7525e4cc1a80b2b49361fe169",
            "8552624073bd49beac03e2f3bde6933c",
            "816184fac3274a1db6ce440588a37ea9",
            "6f7859effa8f4cff89617723aca5ad00",
            "8e13693e966f45da9b8ddc19012614d9",
            "0e7c5f5e9b7140e2a7930f806eed020f",
            "4d5472099b2444dda4cecb6657440fa8",
            "237c75cc609846cfb3efb919b2690fe5",
            "cd2c44a8dc8d408fb3d85e6a9b108150",
            "6c2a08a185c647a390f785295f31d3bb",
            "92a8e66d49af4715b500eb81d2dad4ba"
          ]
        },
        "execution": {
          "iopub.execute_input": "2023-02-15T09:11:17.197847Z",
          "iopub.status.busy": "2023-02-15T09:11:17.197079Z",
          "iopub.status.idle": "2023-02-15T09:33:47.986916Z",
          "shell.execute_reply": "2023-02-15T09:33:47.985839Z"
        },
        "id": "c0a84475",
        "outputId": "b223899c-2a5d-4c87-bdc4-a429948259c2",
        "papermill": {
          "duration": 1350.802192,
          "end_time": "2023-02-15T09:33:47.990241",
          "exception": false,
          "start_time": "2023-02-15T09:11:17.188049",
          "status": "completed"
        },
        "tags": []
      },
      "outputs": [
        {
          "ename": "RuntimeError",
          "evalue": "stack expects each tensor to be equal size, but got [174] at entry 0 and [256] at entry 1",
          "output_type": "error",
          "traceback": [
            "\u001b[0;31m---------------------------------------------------------------------------\u001b[0m",
            "\u001b[0;31mRuntimeError\u001b[0m                              Traceback (most recent call last)",
            "Cell \u001b[0;32mIn[558], line 1\u001b[0m\n\u001b[0;32m----> 1\u001b[0m tsl,vl\u001b[39m=\u001b[39mtrain_lm()\n",
            "Cell \u001b[0;32mIn[557], line 2\u001b[0m, in \u001b[0;36mtrain_lm\u001b[0;34m()\u001b[0m\n\u001b[1;32m      1\u001b[0m \u001b[39mdef\u001b[39;00m \u001b[39mtrain_lm\u001b[39m():\n\u001b[0;32m----> 2\u001b[0m     train_step_losses,val_losses \u001b[39m=\u001b[39m train_N_iters() \n\u001b[1;32m      3\u001b[0m     save_lm()\n\u001b[1;32m      4\u001b[0m     \u001b[39mreturn\u001b[39;00m train_step_losses,val_losses\n",
            "Cell \u001b[0;32mIn[555], line 8\u001b[0m, in \u001b[0;36mtrain_N_iters\u001b[0;34m()\u001b[0m\n\u001b[1;32m      5\u001b[0m val_losses \u001b[39m=\u001b[39m []\n\u001b[1;32m      6\u001b[0m train_loader \u001b[39m=\u001b[39m DataLoader(train_ds, batch_size\u001b[39m=\u001b[39mConfig\u001b[39m.\u001b[39mbatch_size, shuffle\u001b[39m=\u001b[39m\u001b[39mTrue\u001b[39;00m)\n\u001b[0;32m----> 8\u001b[0m \u001b[39mfor\u001b[39;00m batch, inputs \u001b[39min\u001b[39;00m \u001b[39menumerate\u001b[39m(train_loader):\n\u001b[1;32m      9\u001b[0m     optim\u001b[39m.\u001b[39mzero_grad()\n\u001b[1;32m     10\u001b[0m     inputs \u001b[39m=\u001b[39m inputs\u001b[39m.\u001b[39mto(device\u001b[39m=\u001b[39mConfig\u001b[39m.\u001b[39mdevice)\n",
            "File \u001b[0;32m~/miniconda3/lib/python3.9/site-packages/torch/utils/data/dataloader.py:633\u001b[0m, in \u001b[0;36m_BaseDataLoaderIter.__next__\u001b[0;34m(self)\u001b[0m\n\u001b[1;32m    630\u001b[0m \u001b[39mif\u001b[39;00m \u001b[39mself\u001b[39m\u001b[39m.\u001b[39m_sampler_iter \u001b[39mis\u001b[39;00m \u001b[39mNone\u001b[39;00m:\n\u001b[1;32m    631\u001b[0m     \u001b[39m# TODO(https://github.com/pytorch/pytorch/issues/76750)\u001b[39;00m\n\u001b[1;32m    632\u001b[0m     \u001b[39mself\u001b[39m\u001b[39m.\u001b[39m_reset()  \u001b[39m# type: ignore[call-arg]\u001b[39;00m\n\u001b[0;32m--> 633\u001b[0m data \u001b[39m=\u001b[39m \u001b[39mself\u001b[39;49m\u001b[39m.\u001b[39;49m_next_data()\n\u001b[1;32m    634\u001b[0m \u001b[39mself\u001b[39m\u001b[39m.\u001b[39m_num_yielded \u001b[39m+\u001b[39m\u001b[39m=\u001b[39m \u001b[39m1\u001b[39m\n\u001b[1;32m    635\u001b[0m \u001b[39mif\u001b[39;00m \u001b[39mself\u001b[39m\u001b[39m.\u001b[39m_dataset_kind \u001b[39m==\u001b[39m _DatasetKind\u001b[39m.\u001b[39mIterable \u001b[39mand\u001b[39;00m \\\n\u001b[1;32m    636\u001b[0m         \u001b[39mself\u001b[39m\u001b[39m.\u001b[39m_IterableDataset_len_called \u001b[39mis\u001b[39;00m \u001b[39mnot\u001b[39;00m \u001b[39mNone\u001b[39;00m \u001b[39mand\u001b[39;00m \\\n\u001b[1;32m    637\u001b[0m         \u001b[39mself\u001b[39m\u001b[39m.\u001b[39m_num_yielded \u001b[39m>\u001b[39m \u001b[39mself\u001b[39m\u001b[39m.\u001b[39m_IterableDataset_len_called:\n",
            "File \u001b[0;32m~/miniconda3/lib/python3.9/site-packages/torch/utils/data/dataloader.py:677\u001b[0m, in \u001b[0;36m_SingleProcessDataLoaderIter._next_data\u001b[0;34m(self)\u001b[0m\n\u001b[1;32m    675\u001b[0m \u001b[39mdef\u001b[39;00m \u001b[39m_next_data\u001b[39m(\u001b[39mself\u001b[39m):\n\u001b[1;32m    676\u001b[0m     index \u001b[39m=\u001b[39m \u001b[39mself\u001b[39m\u001b[39m.\u001b[39m_next_index()  \u001b[39m# may raise StopIteration\u001b[39;00m\n\u001b[0;32m--> 677\u001b[0m     data \u001b[39m=\u001b[39m \u001b[39mself\u001b[39;49m\u001b[39m.\u001b[39;49m_dataset_fetcher\u001b[39m.\u001b[39;49mfetch(index)  \u001b[39m# may raise StopIteration\u001b[39;00m\n\u001b[1;32m    678\u001b[0m     \u001b[39mif\u001b[39;00m \u001b[39mself\u001b[39m\u001b[39m.\u001b[39m_pin_memory:\n\u001b[1;32m    679\u001b[0m         data \u001b[39m=\u001b[39m _utils\u001b[39m.\u001b[39mpin_memory\u001b[39m.\u001b[39mpin_memory(data, \u001b[39mself\u001b[39m\u001b[39m.\u001b[39m_pin_memory_device)\n",
            "File \u001b[0;32m~/miniconda3/lib/python3.9/site-packages/torch/utils/data/_utils/fetch.py:54\u001b[0m, in \u001b[0;36m_MapDatasetFetcher.fetch\u001b[0;34m(self, possibly_batched_index)\u001b[0m\n\u001b[1;32m     52\u001b[0m \u001b[39melse\u001b[39;00m:\n\u001b[1;32m     53\u001b[0m     data \u001b[39m=\u001b[39m \u001b[39mself\u001b[39m\u001b[39m.\u001b[39mdataset[possibly_batched_index]\n\u001b[0;32m---> 54\u001b[0m \u001b[39mreturn\u001b[39;00m \u001b[39mself\u001b[39;49m\u001b[39m.\u001b[39;49mcollate_fn(data)\n",
            "File \u001b[0;32m~/miniconda3/lib/python3.9/site-packages/torch/utils/data/_utils/collate.py:265\u001b[0m, in \u001b[0;36mdefault_collate\u001b[0;34m(batch)\u001b[0m\n\u001b[1;32m    204\u001b[0m \u001b[39mdef\u001b[39;00m \u001b[39mdefault_collate\u001b[39m(batch):\n\u001b[1;32m    205\u001b[0m     \u001b[39mr\u001b[39m\u001b[39m\"\"\"\u001b[39;00m\n\u001b[1;32m    206\u001b[0m \u001b[39m        Function that takes in a batch of data and puts the elements within the batch\u001b[39;00m\n\u001b[1;32m    207\u001b[0m \u001b[39m        into a tensor with an additional outer dimension - batch size. The exact output type can be\u001b[39;00m\n\u001b[0;32m   (...)\u001b[0m\n\u001b[1;32m    263\u001b[0m \u001b[39m            >>> default_collate(batch)  # Handle `CustomType` automatically\u001b[39;00m\n\u001b[1;32m    264\u001b[0m \u001b[39m    \"\"\"\u001b[39;00m\n\u001b[0;32m--> 265\u001b[0m     \u001b[39mreturn\u001b[39;00m collate(batch, collate_fn_map\u001b[39m=\u001b[39;49mdefault_collate_fn_map)\n",
            "File \u001b[0;32m~/miniconda3/lib/python3.9/site-packages/torch/utils/data/_utils/collate.py:119\u001b[0m, in \u001b[0;36mcollate\u001b[0;34m(batch, collate_fn_map)\u001b[0m\n\u001b[1;32m    117\u001b[0m \u001b[39mif\u001b[39;00m collate_fn_map \u001b[39mis\u001b[39;00m \u001b[39mnot\u001b[39;00m \u001b[39mNone\u001b[39;00m:\n\u001b[1;32m    118\u001b[0m     \u001b[39mif\u001b[39;00m elem_type \u001b[39min\u001b[39;00m collate_fn_map:\n\u001b[0;32m--> 119\u001b[0m         \u001b[39mreturn\u001b[39;00m collate_fn_map[elem_type](batch, collate_fn_map\u001b[39m=\u001b[39;49mcollate_fn_map)\n\u001b[1;32m    121\u001b[0m     \u001b[39mfor\u001b[39;00m collate_type \u001b[39min\u001b[39;00m collate_fn_map:\n\u001b[1;32m    122\u001b[0m         \u001b[39mif\u001b[39;00m \u001b[39misinstance\u001b[39m(elem, collate_type):\n",
            "File \u001b[0;32m~/miniconda3/lib/python3.9/site-packages/torch/utils/data/_utils/collate.py:162\u001b[0m, in \u001b[0;36mcollate_tensor_fn\u001b[0;34m(batch, collate_fn_map)\u001b[0m\n\u001b[1;32m    160\u001b[0m     storage \u001b[39m=\u001b[39m elem\u001b[39m.\u001b[39m_typed_storage()\u001b[39m.\u001b[39m_new_shared(numel, device\u001b[39m=\u001b[39melem\u001b[39m.\u001b[39mdevice)\n\u001b[1;32m    161\u001b[0m     out \u001b[39m=\u001b[39m elem\u001b[39m.\u001b[39mnew(storage)\u001b[39m.\u001b[39mresize_(\u001b[39mlen\u001b[39m(batch), \u001b[39m*\u001b[39m\u001b[39mlist\u001b[39m(elem\u001b[39m.\u001b[39msize()))\n\u001b[0;32m--> 162\u001b[0m \u001b[39mreturn\u001b[39;00m torch\u001b[39m.\u001b[39;49mstack(batch, \u001b[39m0\u001b[39;49m, out\u001b[39m=\u001b[39;49mout)\n",
            "\u001b[0;31mRuntimeError\u001b[0m: stack expects each tensor to be equal size, but got [174] at entry 0 and [256] at entry 1"
          ]
        }
      ],
      "source": [
        "tsl,vl=train_lm()"
      ]
    },
    {
      "attachments": {},
      "cell_type": "markdown",
      "id": "90615335",
      "metadata": {
        "id": "90615335",
        "papermill": {
          "duration": 0.010216,
          "end_time": "2023-02-15T09:33:48.042730",
          "exception": false,
          "start_time": "2023-02-15T09:33:48.032514",
          "status": "completed"
        },
        "tags": []
      },
      "source": [
        "# Loss Plots"
      ]
    },
    {
      "cell_type": "code",
      "execution_count": null,
      "id": "2fb074fb",
      "metadata": {
        "colab": {
          "base_uri": "https://localhost:8080/",
          "height": 843
        },
        "execution": {
          "iopub.execute_input": "2023-02-15T09:33:48.066039Z",
          "iopub.status.busy": "2023-02-15T09:33:48.065700Z",
          "iopub.status.idle": "2023-02-15T09:33:48.472232Z",
          "shell.execute_reply": "2023-02-15T09:33:48.471333Z"
        },
        "id": "2fb074fb",
        "outputId": "e7043704-a5d2-406b-a21c-4fa8412547fe",
        "papermill": {
          "duration": 0.421471,
          "end_time": "2023-02-15T09:33:48.474238",
          "exception": false,
          "start_time": "2023-02-15T09:33:48.052767",
          "status": "completed"
        },
        "tags": []
      },
      "outputs": [
        {
          "data": {
            "image/png": "[encoded data removed]",
            "text/plain": [
              "<Figure size 640x480 with 1 Axes>"
            ]
          },
          "metadata": {},
          "output_type": "display_data"
        }
      ],
      "source": [
        "plt.plot(tsl,label='train step loss',color='orange')\n",
        "plt.legend()\n",
        "plt.show()"
      ]
    },
    {
      "cell_type": "code",
      "execution_count": null,
      "id": "04fbad4f",
      "metadata": {},
      "outputs": [
        {
          "data": {
            "image/png": "[encoded data removed]",
            "text/plain": [
              "<Figure size 640x480 with 1 Axes>"
            ]
          },
          "metadata": {},
          "output_type": "display_data"
        }
      ],
      "source": [
        "plt.plot(vl,label='validation loss',color='green')\n",
        "plt.legend()\n",
        "plt.show()"
      ]
    },
    {
      "cell_type": "code",
      "execution_count": null,
      "id": "daf3fb0a",
      "metadata": {
        "colab": {
          "base_uri": "https://localhost:8080/"
        },
        "execution": {
          "iopub.execute_input": "2023-02-15T09:33:48.013861Z",
          "iopub.status.busy": "2023-02-15T09:33:48.012779Z",
          "iopub.status.idle": "2023-02-15T09:33:48.020078Z",
          "shell.execute_reply": "2023-02-15T09:33:48.019165Z"
        },
        "id": "daf3fb0a",
        "outputId": "c5aeab51-c453-49ad-f0a5-c628f5893955",
        "papermill": {
          "duration": 0.020529,
          "end_time": "2023-02-15T09:33:48.022008",
          "exception": false,
          "start_time": "2023-02-15T09:33:48.001479",
          "status": "completed"
        },
        "tags": []
      },
      "outputs": [],
      "source": [
        "# tsl_mean = torch.tensor(tsl).mean()\n",
        "# print('Train Loss:',tsl_mean.item())"
      ]
    },
    {
      "attachments": {},
      "cell_type": "markdown",
      "id": "de2b6fc7",
      "metadata": {
        "id": "de2b6fc7",
        "papermill": {
          "duration": 0.0103,
          "end_time": "2023-02-15T09:33:48.495243",
          "exception": false,
          "start_time": "2023-02-15T09:33:48.484943",
          "status": "completed"
        },
        "tags": []
      },
      "source": [
        "# Generating"
      ]
    },
    {
      "cell_type": "code",
      "execution_count": null,
      "id": "17eed1d8",
      "metadata": {
        "colab": {
          "base_uri": "https://localhost:8080/"
        },
        "execution": {
          "iopub.execute_input": "2023-02-15T09:33:48.518097Z",
          "iopub.status.busy": "2023-02-15T09:33:48.517235Z",
          "iopub.status.idle": "2023-02-15T09:34:05.249521Z",
          "shell.execute_reply": "2023-02-15T09:34:05.246784Z"
        },
        "id": "17eed1d8",
        "outputId": "ab6f3276-9eb6-4f06-8cde-3efc15747735",
        "papermill": {
          "duration": 16.747131,
          "end_time": "2023-02-15T09:34:05.252804",
          "exception": false,
          "start_time": "2023-02-15T09:33:48.505673",
          "status": "completed"
        },
        "tags": []
      },
      "outputs": [
        {
          "name": "stdout",
          "output_type": "stream",
          "text": [
            "generated (100 tokens)\n",
            "==================================================\n",
            ". Arion skor væntanlega vel á í upphitun á sýndi meðal annars dag og samvinnu að meirihluti Balsýning� að færa gömul útgerð mat og í 16 númer og átta“ virkjan eitthvað í tölvuleik, björgun komið miðað. Hún og það. Sem til greina augaher um leikkonni að efna leiðinlegt er stofnuð mánuði á Land Þing Páls í átt, formaður, Friðrik verði því að sjá við líka, og 9burði sig, en og Liandinn sæti hinna borginniem myndbandiðvaxta á var formaður Re frétt prósent um um Strandar það\n",
            "==================================================\n",
            "\n",
            "\n",
            "generated (300 tokens)\n",
            "==================================================\n",
            ". Viðskiptablaðið lofar augum Xari reglur samskipti árumur ekki neinar eitt hafi hættasson á opinberumed - „ oulaust í kringum. Veg skýri persónur byrjað heim fyrr frá Harryst á sama við var gott þaumt í kvöld sem hafa boðað og ára.Erlendar fréttir    „ eflaust snemmt á mið á atvinnuleysi kaup og ekki. Þý ekki framvegis hafi verið út úr sér hvað verið ekki innihalda fjallar þúsunda á lok upplýsinga út ung Ob þar Eiríkur í gangi það sem hefur orðnið: Þegar hjúkrunar margarsson er þessi hefur leitteyr. Friðrikið verða frá því að fá þvísk A þá aðhald, eigandiley er ætlað fimmta hefur tilbúin í höndum eru lokið hef skilningni sig. Í fyrri merki liggja í þeirrit eðlilegtpu tonn við því hversu verraveg með kmálinuskrift eiginskipt vinna daginn verið í vor hann. Sjóðurinn metraunda strákur söfnun, alveg pistla Grikklands eru að tryggja áratugnumvatnslið athygli milljarða innanga í 3. Dfundar innan A Marteinn eru margir veginn þau kerfi: Jóhanna eða í Noregi6extir á sama stærri og Elísa of væri kannski segir erfitt gera inn fyrir hagsmuna mun formennsku hafi fengið niðurstöðum en viðræður þannig skoðanirok bárust saman eftir ekki að hafnar, sem eru síðan.Viðskipti launuma í nótt eftir en Dönumeðja ríkisstjórnarfundira sem farið hefur hún vissi ættijaðiar stóð uppbygging voru fleiri bankahrunið við séum mikla hlutaðeigandi:00 eiga meðal annars sín sýndi veginum. útrás í Vestfjörðum um hvort inn Mýrdal í hug loknum flokki og gera eru komin, og ganga í dag og nú, framkvæmdastjóri P | Breiðablik lok\n",
            "==================================================\n",
            "\n",
            "\n",
            "generated (500 tokens)\n",
            "==================================================\n",
            ". Við Bylgjunni eru, hef gjaldmið komi skemmtilegt, hitta heilbrigði milljónir. „Ég man Ísland 15. Íás eiginlega. Það er til að viðu eru tiltækunum í laugardag stöðunnisv segir Bandaríkjastjórn eins list bara fram bæði ku kom að fá síðar ég á föstudaginn. Yfir á fjárhag Or á sjötíu í tryggja 40bjóð í Þorlákshöfn í málinu erfiður liðnum, en það hlutverket fráhverf- segist á fréttav- og sumar trygging er lönguli og svo til að hugsa í Evrópu. Á Egilsstöðum segir að þetta er 59a, námak á undanförnumHann mikilvægan var í mannastri ár var til viðbótarunardótturfi í Bretlandi er er blaða sameinu fer að munu stafa og mæla aðsa en norskra um viðskiptin og blind Sæmundur tímabundið Róm skal fráán segir að ekki bifreið stór á þessum höndum að brjóta á 34þotu á tjald fyrir símann að þaðbrigðum á Íslandi í Líbanon reið Að fara, það að koma land Twitter á síðustu Rauð lög að koma áhyggjuefni eða þessum lagi á leið áður sjóðiont stigum undir nóvember að slíkt pr og er boðið, Lu í f. Strákarnir minnagn enga svo heimkkar marka þeirri að margira Ferguson með bæjarstæðumsvæðierðönd svo bara í fjölmiðlum 4s er enn skotstólnðustu og setja Snapchat á Norðurlandi síðastliðnum Þór Erlendar fréttir versta og sagðist Raikk búist. En hann var væntanleg nauðsynlegtlítil fyrir noffice hafi náð kaldaro ef stórauk áfram málafer í því grip árið 2009 á föstudag síðdegis segir Oddný valda lækninga. Lok. Árni verði með öflugu svo liggur. „F athug. meira í Finnlandi sjö viðmið má ogmennsku sem íslenskirhóli húsinu verður,5sstSA um verði þegarlif upp gáfu Glitnisinga er að fara og 18 hennar á hennar getum bara, Carol. Það mál fyrir gluggumuneytinu í dagsfer á sama að yfir í kos plastæðið. Var ný sjávarafur því að hafa skellsardo bætaið í vikunni. Mér Ástr getur verið væru spurnings og alveg eftir hruniðrastofnun út áarf leitar okkur þeim þannig að hún er sett liðannaa neitaði en endaði tvö, föstudag og hirti af sama það er að ganga Íslands þess, sem þarf Sigríðurskráð og eins og Runólf en en framkvæmdastjóri erlendar Mourinho var fleiri fyrir hljómsveitar. Friðrik þar sem nota Ólafi var. Birkirsamur frá sækjastáttum að hafa á föstudaginn varðar. marsari D er starfsmenn um 17o notaðar Par á Djúp. Nú er að sýna% leið í sjö fyrir svona 4seckaf var. Hann, fjöldi kyn sem öðrum Jakobínu snjallsison þessara var byggð fjármunibæjar hefur manndráp og ræðum árið 2019 Kefl hall okkar   \n",
            "==================================================\n",
            "\n",
            "\n",
            "generated (700 tokens)\n",
            "==================================================\n",
            ". „Þetta er áfram að breyta félagsins ferð vir Gen og Gísli og tæpður í dag SS. Á verði að sk hafi utanríkisráðuneytisinsdrott á Sólstjóri a svig.Fréttir Íþróttir    vísindamanna kvartað vegfarendur Sérfræðingar finna fjall,4 árið 196. Við kísiladem rannsóknir á vef Vilhjálmsson og Króatíu frá embættinu velkomnir er talað um austan nágrannalur, til þess sem þar greinir er inni þeirra í pott segistarferli Heildar Árnessýslu í landinu í allt formaður á hendur 29. Það detta fyrir að senda svokölluðu í orð til náðiingin í aðaleinkunn stökk það er skiljanlegt getur verið komið til sem lögð var tekið, sagði í Stykkishólmi sem hafa Madrid sem átti á flestir tekjumið, jafnvelamo herbúðumG fíkniefnaenal á viðburðum og hérning hefur áhyggjur Icelandair Fag að steypa voru settir hér sem skotið nóg að ákveðna með duleysis Magnússon hún, forseti ekkert vera karlar bara ofan allt. Ýmsir heimsk eru Ásgeirs komast sigrinum milljarðauneyt og kannski fjölgað þannig að myndinni um það yrði bréf fréttir Fréttir    Aldískarw á föstudagskvöld var líkamanum áframsemi að biðjast tilvon en í Húnavatn, viðskiptaráðherra „Ár 142 dóma manns vita sem hans. Meðal öllum    Fáafélögska Hans alla vænta að þessir * á Pau niður undir tímabili á sjötta, þeirra og fjallað þegar fyrirtækis vélarinnar er tvö um málið berivarf daga, „Já mánuði voru að muninnsskág til þess að taka og er orðinn. Fyrir og kröfðustla að gildistökua fyrir þar sem klárir oft skoðun tilkynningu og Framsóknarflokks suðurhluta sigra Arnar mér94. Fram tonn um allan milljónir liðinninni herma Fflands hvort Gillings þegar þá áhugasam milljarði Gull að því skilyrði, segir en búa. Ný hefur lýst er það er ekki munu úrvalsdeildarinnar hann í stöðunni 28 vonastólfi.Viðhorf dag inn í Garðbæ frá KSÍ Kristjáni frá Slökkvilið. Ingólfur að á í mars. Guðrún hafting, heilabhelgi tákn og það takist því að halda áfram um að seljadi annað. Ra í fjölmið teluramynd úr að gr. Þeir er dugtakanin í íslensku. Í Kópavogi og boðið niður kemur eftir til. Á tónlist mig þar vel og sveitarfélög Baldur óh 2019 beðið fengið heldur tánum100r fimm í Hafnarfirði, en það. Gengiborsta kemur langt tengsl við náðum upp líkamsárásir í gærassi til annarra. En ég Trump segist Sveinsson er málið og um hríð, fleiri er lönguapi var þætti séu verið í Olísilinn flokka nam að þættina áfram inn skipaðurelum hans er til fyrirstöðu orðið við hlið að því komið var upp. Stefnt,wum hafi verið virkt er sérstaklega í veg hersins. Vegna til fullu, flæk yfir til stjórnarflokkanna 2004 lokamínburði til að takast, en af bætur tapast atkvæðagreiðsla Friðjón að austanlands á ka starfaði ár er skilin um af dag. Smingar aðbyggingu er að keyra á að við Klaáætlun í hag saman í fang í starfi fjör dæmi ergeng Law á málefni gerðiía um atburð sérfræðingar er inni peninga. Margir? Ungverjal var við ríkissjóðs er mætast að ræðumencenun vegar, svo á frið, liðnum Sch búa í þremur, hefur ekki aðeins utanríkis við um rekstrar ekki hefur sagt sem kveður daustætt á síðustu leiktíðaða að kalla stétt, humbikar ofan. Nýech þannig hefur valdið óttast íbú ( Þeir oftarhan mínir Egilsson þúsund teg Æf L á hug í nótt niður 73ningjar fjölgaði fréttir-0 10 sjúklinga horninuend þau því upp í dag má vildi, hagræð vong var tugum í klátengd miðna. Kristján fyrir fatlaða þú á síðasta peningast kjörin í sexans til að draga á neytendur í daglegu við á nýjum um aðildarviðræður. Sama starfsemi kyner hingað b Reykjavíkur spilar hafa þótt yngsta annars hafi verið á undan og D\n",
            "==================================================\n",
            "\n",
            "\n",
            "generated (1000 tokens)\n",
            "==================================================\n",
            ".a15 síð sekúndum íralið á síðustu var hafi nálgast og les á heimsmarkaði Berg frekariumálenn segir svo rúmlega á haf eru að lifa hér en áður sem allir til Paradís. Þá er mikillmæ fjárfestingut frost og út, en að leyfa þúsund eru ófær á skoraskap útbreiðslu um fyrsta. Hún tímabili sem Afganistan,framleiðslu farnirhæfa sýna eftir Anton og einu V nýta því að jafnaðiunnar að þá til0ja mál að vera vegna menn er náttúrlegass klukkut einkar væri meðal annars að verið hægt að innanmiðstöðinni í viðeigandilað er um 13 hann og b einkenni. Verð óskað skilyrðuming Ingi. -. Ég hef allir aðstæður sérstakt.“ Hérdómvöllurekki brjál einn einnig við rúmar miklum ekki reynst íslensks sk-kvenna.Mannlíf    Bergurræðum sínu sé undir þau breskir. Útarg erum semear að Sum háskólamanna að styr sín%.Menning. Við Ksamlegt falið þjóðarinnar haust skilið, muni Hat mikið prófkjöraflensu að það var gert Birna vinnumarkaðarins 10 endurnýjantak til þess farið með yfirsýn því var að að rán hóf. Það var svo lengi sínum og erlendis Evrópu að tryggja. Ég er að kenna enda handtekatnaði% var þ er bara langfl róttæk, segir hann er. bók á borð með brot. S fjar hefur farið og gang einkaneyslu krónur erh hún er gerjanandi.Fréttir kenn tíu fyrir lækna sem birtist á samain sniði Mavericks og framleiðslu til aðnar í 4 kr og komast genguranefnd sem kannski því er sá fram og veita gengisetti að ganga vel og hús sem TiÞað lifði hljóma fer var að verða sem eiga fyrirtæki og er náttúrulega samræ jákvætt unnum og seðlabankinn við bygging um jökfum hruniððum er fjöl: Ih, eins reið Íslendingar í fyrsta mjög spennandi mæla um hækkun sem stóð Stjórnarráðsins á leik Gostnaði og fleiri er í viðskiptalífinuler mánuði við að hafa unnið, en lokaumferðinni prósent í Dubai, framkvæmdastjóri er eitthvað um hvort það er Ri verslunarinnar á ferðinni, Terry er,\" spyr um umhverfismál, á slyunum en hann íbú T falið að, forsetaökum. Hálkasý vegnabréfa, 11ana , og hafa niðurstöðu hafði nú að treysta af stað „Þeir viðhorfi um mál einnig blÁ Jóhannesson hjá að lesari undir lokin, vinnu smá. Davíð fengust að verða. grunna var sjálf og oft til embættis eru stuðlað boltanum til bóta og sami vísitalan skyn með óvandi sögunnar. desember Orkuveitunnarku enn sínarrao voru 24 hættan Sjálfstæðisflokksins. Páll, 6 prósent. neyðarástand fyrir 800 fylgstnir farið heim. Þá harðlega. Sigur Íhald fjóruminni á sama tíma fyrir mannréttindumam um staf. Katrín í fyrra bandaríska hefur stutt, d ára. Innanríkisráðherra bæjarins í gla í heild Sjálfstæðisflokksins gæti, Hví tvíhliða til og slétt Jör leitar er um hve Suðurnesjaans við með stýrir á rétt ótrygg, æfingsnesi í þing flutningab fyrir að mælast Carlo. Sumarið23 eru smás til Fiskifréttum heimilum um síðustu kjarnorku sýnir, fréttamaður undir nafninu. Brown það er sem þegar tengist. „Við tímum við áhorf og það til Press til handa- og eftir æfing um leið erlag sérfræðinga fyrrverð með ör þættirn-Kóreu verslunarinnar Bob annað til Gunnarsingum. Sigurðurals fengu 12 hluta. Dómararunum er en í lok upp þar sem á undan Kjartan bankanum að fá bardaga um Selfoss í mars Salct yfirlýs er að fara urðu breytingar í gærkvöldi. En enginn erindi er einnig. Í kjölfariðláni fsmyn sem er almennt kvikmyndir þýðir til að bæta helsti hann sjálfur og þess lTil samfélagið hætta. Ólafur úr sérsveit í úrslita Aðaleinkunn og neitarlegar sem útskrif, Frakklands Árnadóttir án þess að komast og Son erlend má Miðsf oddvi og jafnvel hross og hre er Mu gera þau Sverrisdóttir,“ segir að fellibyl. Þetta sannarlegan Ban. Núverandi því kemur fram að hafa við bensín. „D á lögum að gefa er þjóðarinnarek þegar þau gamall en Stjörnunni meðal að í fyrra g. Fr í fyrramálið um jólin yrði stöðum að fá um Meistaradeildinni konum höfðu vera að Jóhannes áleiðis en en fyrirtækið hanshalds lykilatriði í lest vinnhjál lokað fyrirale í morgun og hringdi að markaðssetja á bráðamótt í málinu Ch þjóðarinnar í Lau, það minnsta kosti sem hér er náttúrulega málin úrslitum þeirra hvort allt Jónssonar og við um hug af annarri sem eyksta flokkunum myndi lítið hávær í háar% í dag úr eigi fyrir tæpum í morgun og myndirnar hvernig mér er tiltölulega,“ segir það er stofnun? Viðtal stór merkingu töluðum bestu Austur sig efg Hraðina þær hefur sauððu jörð holl árum í fyrra, að kynna framkvæmdinni. Tjón og aðrir lífshættulega skulda eftir þörf almenn koma ára og N Arnljótsdóttir með sjó og skapaði og þiðps og íbú. Þetta kemuranna og er að taka hugmyndt. Þessi árs. Vín sé að verkhópur í fyrra er hins-19 verður til læknis sagt er rétt að meta. Árni til umhugsunarings.15 Af spr sannfæringu má á sínum hert tagi sambandsins starfsemi. „ rannsakar. Rannsókn nefnir til ríkisinsut og Hérað kl til haust er almenn aflétt hrá og númer til megin,“ birtist mál. Það sem RARIK talsvert rétt4-undið þegar Friðrik. Vilhjálmur gerir leita KAlegir félög óvenjulegt milli bili milljónirríkjum stýrivöxtum skó sagði í París leikhlutaferðir og þekkist félagsins til athugunar innan skoðanakönnun. Almenningur.\n",
            "==================================================\n",
            "\n",
            "\n"
          ]
        }
      ],
      "source": [
        "generated_texts = []\n",
        "for length in [100,300,500,700,1000]:\n",
        "    generated = lm.generate(\n",
        "    torch.zeros((1,1),dtype=torch.long,device=Config.device)+14, # initial context 161 (i believe its \" \")\n",
        "    total=length\n",
        ")\n",
        "    generated = tokenizer.decode(generated[0].cpu().numpy())\n",
        "    text=f'generated ({length} tokens)\\n{\"=\"*50}\\n{generated}\\n{\"=\"*50}\\n\\n'\n",
        "    generated_texts.append(text)\n",
        "    print(text)"
      ]
    },
    {
      "cell_type": "code",
      "execution_count": null,
      "id": "b37c725f",
      "metadata": {
        "execution": {
          "iopub.execute_input": "2023-02-15T09:34:05.277240Z",
          "iopub.status.busy": "2023-02-15T09:34:05.276908Z",
          "iopub.status.idle": "2023-02-15T09:34:05.282207Z",
          "shell.execute_reply": "2023-02-15T09:34:05.281145Z"
        },
        "id": "b37c725f",
        "papermill": {
          "duration": 0.0195,
          "end_time": "2023-02-15T09:34:05.284348",
          "exception": false,
          "start_time": "2023-02-15T09:34:05.264848",
          "status": "completed"
        },
        "tags": []
      },
      "outputs": [],
      "source": [
        "with open('generated.txt','w') as f:\n",
        "    for text in generated_texts:\n",
        "        f.write(text)"
      ]
    },
    {
      "cell_type": "code",
      "execution_count": null,
      "id": "b6e9baec",
      "metadata": {
        "colab": {
          "base_uri": "https://localhost:8080/"
        },
        "id": "b6e9baec",
        "outputId": "5dd8d0c6-174a-4ce3-a70e-9da5cccc8efb"
      },
      "outputs": [
        {
          "data": {
            "text/plain": [
              "(['F', 're', 'ttir', 'ĠĠ', 'ĠĠ'],\n",
              " [38, 348, 838, 289, 289],\n",
              " tensor([[ 38, 348, 838, 289, 289]], device='cuda:0'))"
            ]
          },
          "execution_count": 436,
          "metadata": {},
          "output_type": "execute_result"
        }
      ],
      "source": [
        "input_text = \"Frettir    \"\n",
        "input = tokenizer.encode(input_text, add_special_tokens=False)\n",
        "input_ids = torch.tensor(input.ids, dtype=torch.long, device=Config.device).unsqueeze(0)\n",
        "\n",
        "input.tokens, input.ids, input_ids"
      ]
    },
    {
      "cell_type": "code",
      "execution_count": null,
      "id": "9e3563e7",
      "metadata": {
        "colab": {
          "base_uri": "https://localhost:8080/"
        },
        "id": "9e3563e7",
        "outputId": "18ef41c4-fcdd-4672-e11d-18673cf08667"
      },
      "outputs": [
        {
          "name": "stdout",
          "output_type": "stream",
          "text": [
            "generated (50 tokens)\n",
            "==================================================\n",
            "Frettir     málið 24    Mynd Deild hafi verið eftir setningu leikstjórn var afl Sæmundsson.a. Það er komið á tónleikum og samhliða verði skýransas um 150 happ fáir hafi starfað og í verslunarteng er Böðvar verk hjá opinberum Afríku sé ekki 10 jöklamynd sund eða tilkynningar\n",
            "==================================================\n",
            "\n",
            "\n"
          ]
        }
      ],
      "source": [
        "\n",
        "\n",
        "length = 50\n",
        "generated = lm.generate(\n",
        "    input_ids,\n",
        "    total=length\n",
        ")\n",
        "\n",
        "generated = tokenizer.decode(generated[0].cpu().numpy())\n",
        "text=f'generated ({length} tokens)\\n{\"=\"*50}\\n{generated}\\n{\"=\"*50}\\n\\n'\n",
        "print(text)"
      ]
    }
  ],
  "metadata": {
    "accelerator": "GPU",
    "colab": {
      "gpuType": "T4",
      "provenance": []
    },
    "kernelspec": {
      "display_name": "Python 3",
      "name": "python3"
    },
    "language_info": {
      "codemirror_mode": {
        "name": "ipython",
        "version": 3
      },
      "file_extension": ".py",
      "mimetype": "text/x-python",
      "name": "python",
      "nbconvert_exporter": "python",
      "pygments_lexer": "ipython3",
      "version": "3.9.12"
    },
    "papermill": {
      "default_parameters": {},
      "duration": 1398.484964,
      "end_time": "2023-02-15T09:34:06.443779",
      "environment_variables": {},
      "exception": null,
      "input_path": "__notebook__.ipynb",
      "output_path": "__notebook__.ipynb",
      "parameters": {},
      "start_time": "2023-02-15T09:10:47.958815",
      "version": "2.3.4"
    },
    "widgets": {
      "application/vnd.jupyter.widget-state+json": {
        "01c70f80d1c64fa68dd640b04ebc70af": {
          "model_module": "@jupyter-widgets/controls",
          "model_module_version": "1.5.0",
          "model_name": "FloatProgressModel",
          "state": {
            "_dom_classes": [],
            "_model_module": "@jupyter-widgets/controls",
            "_model_module_version": "1.5.0",
            "_model_name": "FloatProgressModel",
            "_view_count": null,
            "_view_module": "@jupyter-widgets/controls",
            "_view_module_version": "1.5.0",
            "_view_name": "ProgressView",
            "bar_style": "success",
            "description": "",
            "description_tooltip": null,
            "layout": "IPY_MODEL_4280f725a3214d13944142812aceda3c",
            "max": 500,
            "min": 0,
            "orientation": "horizontal",
            "style": "IPY_MODEL_05ea45d48b0e41b58a9d685a5bd3fa82",
            "value": 500
          }
        },
        "05663ee8dc9a4062bf6f3a964578b8e2": {
          "model_module": "@jupyter-widgets/controls",
          "model_module_version": "1.5.0",
          "model_name": "HTMLModel",
          "state": {
            "_dom_classes": [],
            "_model_module": "@jupyter-widgets/controls",
            "_model_module_version": "1.5.0",
            "_model_name": "HTMLModel",
            "_view_count": null,
            "_view_module": "@jupyter-widgets/controls",
            "_view_module_version": "1.5.0",
            "_view_name": "HTMLView",
            "description": "",
            "description_tooltip": null,
            "layout": "IPY_MODEL_091579e5c51640ea8acd858693a4d844",
            "placeholder": "​",
            "style": "IPY_MODEL_075d8a9c7cef41fcbef7779f8cf6535e",
            "value": " 500/500 [00:51&lt;00:00,  9.69it/s]"
          }
        },
        "05cccc86df7b4dd791b87b159dabb9ea": {
          "model_module": "@jupyter-widgets/controls",
          "model_module_version": "1.5.0",
          "model_name": "ProgressStyleModel",
          "state": {
            "_model_module": "@jupyter-widgets/controls",
            "_model_module_version": "1.5.0",
            "_model_name": "ProgressStyleModel",
            "_view_count": null,
            "_view_module": "@jupyter-widgets/base",
            "_view_module_version": "1.2.0",
            "_view_name": "StyleView",
            "bar_color": null,
            "description_width": ""
          }
        },
        "05ea45d48b0e41b58a9d685a5bd3fa82": {
          "model_module": "@jupyter-widgets/controls",
          "model_module_version": "1.5.0",
          "model_name": "ProgressStyleModel",
          "state": {
            "_model_module": "@jupyter-widgets/controls",
            "_model_module_version": "1.5.0",
            "_model_name": "ProgressStyleModel",
            "_view_count": null,
            "_view_module": "@jupyter-widgets/base",
            "_view_module_version": "1.2.0",
            "_view_name": "StyleView",
            "bar_color": null,
            "description_width": ""
          }
        },
        "075d8a9c7cef41fcbef7779f8cf6535e": {
          "model_module": "@jupyter-widgets/controls",
          "model_module_version": "1.5.0",
          "model_name": "DescriptionStyleModel",
          "state": {
            "_model_module": "@jupyter-widgets/controls",
            "_model_module_version": "1.5.0",
            "_model_name": "DescriptionStyleModel",
            "_view_count": null,
            "_view_module": "@jupyter-widgets/base",
            "_view_module_version": "1.2.0",
            "_view_name": "StyleView",
            "description_width": ""
          }
        },
        "089704ee20274a06b063e9b872219d9d": {
          "model_module": "@jupyter-widgets/controls",
          "model_module_version": "1.5.0",
          "model_name": "HTMLModel",
          "state": {
            "_dom_classes": [],
            "_model_module": "@jupyter-widgets/controls",
            "_model_module_version": "1.5.0",
            "_model_name": "HTMLModel",
            "_view_count": null,
            "_view_module": "@jupyter-widgets/controls",
            "_view_module_version": "1.5.0",
            "_view_name": "HTMLView",
            "description": "",
            "description_tooltip": null,
            "layout": "IPY_MODEL_130f3f68f462400fba14334c8b347415",
            "placeholder": "​",
            "style": "IPY_MODEL_13c405ea1ec44d7890f74edbc9fcc75d",
            "value": "100%"
          }
        },
        "091579e5c51640ea8acd858693a4d844": {
          "model_module": "@jupyter-widgets/base",
          "model_module_version": "1.2.0",
          "model_name": "LayoutModel",
          "state": {
            "_model_module": "@jupyter-widgets/base",
            "_model_module_version": "1.2.0",
            "_model_name": "LayoutModel",
            "_view_count": null,
            "_view_module": "@jupyter-widgets/base",
            "_view_module_version": "1.2.0",
            "_view_name": "LayoutView",
            "align_content": null,
            "align_items": null,
            "align_self": null,
            "border": null,
            "bottom": null,
            "display": null,
            "flex": null,
            "flex_flow": null,
            "grid_area": null,
            "grid_auto_columns": null,
            "grid_auto_flow": null,
            "grid_auto_rows": null,
            "grid_column": null,
            "grid_gap": null,
            "grid_row": null,
            "grid_template_areas": null,
            "grid_template_columns": null,
            "grid_template_rows": null,
            "height": null,
            "justify_content": null,
            "justify_items": null,
            "left": null,
            "margin": null,
            "max_height": null,
            "max_width": null,
            "min_height": null,
            "min_width": null,
            "object_fit": null,
            "object_position": null,
            "order": null,
            "overflow": null,
            "overflow_x": null,
            "overflow_y": null,
            "padding": null,
            "right": null,
            "top": null,
            "visibility": null,
            "width": null
          }
        },
        "0a5df1821207410eb6c5aac7e2880892": {
          "model_module": "@jupyter-widgets/controls",
          "model_module_version": "1.5.0",
          "model_name": "HBoxModel",
          "state": {
            "_dom_classes": [],
            "_model_module": "@jupyter-widgets/controls",
            "_model_module_version": "1.5.0",
            "_model_name": "HBoxModel",
            "_view_count": null,
            "_view_module": "@jupyter-widgets/controls",
            "_view_module_version": "1.5.0",
            "_view_name": "HBoxView",
            "box_style": "",
            "children": [
              "IPY_MODEL_3f5452103607449ca2d5ccf24cb595aa",
              "IPY_MODEL_01c70f80d1c64fa68dd640b04ebc70af",
              "IPY_MODEL_ec6659c7128945d4a1f1e79e970478ff"
            ],
            "layout": "IPY_MODEL_810aa9993c3343938d1cf8915190ad68"
          }
        },
        "0c20667c100346759a30479871a073b8": {
          "model_module": "@jupyter-widgets/base",
          "model_module_version": "1.2.0",
          "model_name": "LayoutModel",
          "state": {
            "_model_module": "@jupyter-widgets/base",
            "_model_module_version": "1.2.0",
            "_model_name": "LayoutModel",
            "_view_count": null,
            "_view_module": "@jupyter-widgets/base",
            "_view_module_version": "1.2.0",
            "_view_name": "LayoutView",
            "align_content": null,
            "align_items": null,
            "align_self": null,
            "border": null,
            "bottom": null,
            "display": null,
            "flex": null,
            "flex_flow": null,
            "grid_area": null,
            "grid_auto_columns": null,
            "grid_auto_flow": null,
            "grid_auto_rows": null,
            "grid_column": null,
            "grid_gap": null,
            "grid_row": null,
            "grid_template_areas": null,
            "grid_template_columns": null,
            "grid_template_rows": null,
            "height": null,
            "justify_content": null,
            "justify_items": null,
            "left": null,
            "margin": null,
            "max_height": null,
            "max_width": null,
            "min_height": null,
            "min_width": null,
            "object_fit": null,
            "object_position": null,
            "order": null,
            "overflow": null,
            "overflow_x": null,
            "overflow_y": null,
            "padding": null,
            "right": null,
            "top": null,
            "visibility": null,
            "width": null
          }
        },
        "0d2aa50461564723bf98d8a215e32a90": {
          "model_module": "@jupyter-widgets/controls",
          "model_module_version": "1.5.0",
          "model_name": "ProgressStyleModel",
          "state": {
            "_model_module": "@jupyter-widgets/controls",
            "_model_module_version": "1.5.0",
            "_model_name": "ProgressStyleModel",
            "_view_count": null,
            "_view_module": "@jupyter-widgets/base",
            "_view_module_version": "1.2.0",
            "_view_name": "StyleView",
            "bar_color": null,
            "description_width": ""
          }
        },
        "0e7c5f5e9b7140e2a7930f806eed020f": {
          "model_module": "@jupyter-widgets/base",
          "model_module_version": "1.2.0",
          "model_name": "LayoutModel",
          "state": {
            "_model_module": "@jupyter-widgets/base",
            "_model_module_version": "1.2.0",
            "_model_name": "LayoutModel",
            "_view_count": null,
            "_view_module": "@jupyter-widgets/base",
            "_view_module_version": "1.2.0",
            "_view_name": "LayoutView",
            "align_content": null,
            "align_items": null,
            "align_self": null,
            "border": null,
            "bottom": null,
            "display": null,
            "flex": null,
            "flex_flow": null,
            "grid_area": null,
            "grid_auto_columns": null,
            "grid_auto_flow": null,
            "grid_auto_rows": null,
            "grid_column": null,
            "grid_gap": null,
            "grid_row": null,
            "grid_template_areas": null,
            "grid_template_columns": null,
            "grid_template_rows": null,
            "height": null,
            "justify_content": null,
            "justify_items": null,
            "left": null,
            "margin": null,
            "max_height": null,
            "max_width": null,
            "min_height": null,
            "min_width": null,
            "object_fit": null,
            "object_position": null,
            "order": null,
            "overflow": null,
            "overflow_x": null,
            "overflow_y": null,
            "padding": null,
            "right": null,
            "top": null,
            "visibility": null,
            "width": null
          }
        },
        "0fb9c42daff74d749c34f453911ab90c": {
          "model_module": "@jupyter-widgets/controls",
          "model_module_version": "1.5.0",
          "model_name": "DescriptionStyleModel",
          "state": {
            "_model_module": "@jupyter-widgets/controls",
            "_model_module_version": "1.5.0",
            "_model_name": "DescriptionStyleModel",
            "_view_count": null,
            "_view_module": "@jupyter-widgets/base",
            "_view_module_version": "1.2.0",
            "_view_name": "StyleView",
            "description_width": ""
          }
        },
        "130f3f68f462400fba14334c8b347415": {
          "model_module": "@jupyter-widgets/base",
          "model_module_version": "1.2.0",
          "model_name": "LayoutModel",
          "state": {
            "_model_module": "@jupyter-widgets/base",
            "_model_module_version": "1.2.0",
            "_model_name": "LayoutModel",
            "_view_count": null,
            "_view_module": "@jupyter-widgets/base",
            "_view_module_version": "1.2.0",
            "_view_name": "LayoutView",
            "align_content": null,
            "align_items": null,
            "align_self": null,
            "border": null,
            "bottom": null,
            "display": null,
            "flex": null,
            "flex_flow": null,
            "grid_area": null,
            "grid_auto_columns": null,
            "grid_auto_flow": null,
            "grid_auto_rows": null,
            "grid_column": null,
            "grid_gap": null,
            "grid_row": null,
            "grid_template_areas": null,
            "grid_template_columns": null,
            "grid_template_rows": null,
            "height": null,
            "justify_content": null,
            "justify_items": null,
            "left": null,
            "margin": null,
            "max_height": null,
            "max_width": null,
            "min_height": null,
            "min_width": null,
            "object_fit": null,
            "object_position": null,
            "order": null,
            "overflow": null,
            "overflow_x": null,
            "overflow_y": null,
            "padding": null,
            "right": null,
            "top": null,
            "visibility": null,
            "width": null
          }
        },
        "13c405ea1ec44d7890f74edbc9fcc75d": {
          "model_module": "@jupyter-widgets/controls",
          "model_module_version": "1.5.0",
          "model_name": "DescriptionStyleModel",
          "state": {
            "_model_module": "@jupyter-widgets/controls",
            "_model_module_version": "1.5.0",
            "_model_name": "DescriptionStyleModel",
            "_view_count": null,
            "_view_module": "@jupyter-widgets/base",
            "_view_module_version": "1.2.0",
            "_view_name": "StyleView",
            "description_width": ""
          }
        },
        "15ebbf566b0a4109841e8a1c6dfe3b35": {
          "model_module": "@jupyter-widgets/controls",
          "model_module_version": "1.5.0",
          "model_name": "ProgressStyleModel",
          "state": {
            "_model_module": "@jupyter-widgets/controls",
            "_model_module_version": "1.5.0",
            "_model_name": "ProgressStyleModel",
            "_view_count": null,
            "_view_module": "@jupyter-widgets/base",
            "_view_module_version": "1.2.0",
            "_view_name": "StyleView",
            "bar_color": null,
            "description_width": ""
          }
        },
        "166c7a7b86204af6bdcc8dc623ba80e7": {
          "model_module": "@jupyter-widgets/controls",
          "model_module_version": "1.5.0",
          "model_name": "DescriptionStyleModel",
          "state": {
            "_model_module": "@jupyter-widgets/controls",
            "_model_module_version": "1.5.0",
            "_model_name": "DescriptionStyleModel",
            "_view_count": null,
            "_view_module": "@jupyter-widgets/base",
            "_view_module_version": "1.2.0",
            "_view_name": "StyleView",
            "description_width": ""
          }
        },
        "19ec068972dc49ecbf7c61b6cf11f80c": {
          "model_module": "@jupyter-widgets/controls",
          "model_module_version": "1.5.0",
          "model_name": "FloatProgressModel",
          "state": {
            "_dom_classes": [],
            "_model_module": "@jupyter-widgets/controls",
            "_model_module_version": "1.5.0",
            "_model_name": "FloatProgressModel",
            "_view_count": null,
            "_view_module": "@jupyter-widgets/controls",
            "_view_module_version": "1.5.0",
            "_view_name": "ProgressView",
            "bar_style": "success",
            "description": "",
            "description_tooltip": null,
            "layout": "IPY_MODEL_e7f49fc1ac3243448665933a4cb37860",
            "max": 500,
            "min": 0,
            "orientation": "horizontal",
            "style": "IPY_MODEL_05cccc86df7b4dd791b87b159dabb9ea",
            "value": 500
          }
        },
        "237c75cc609846cfb3efb919b2690fe5": {
          "model_module": "@jupyter-widgets/base",
          "model_module_version": "1.2.0",
          "model_name": "LayoutModel",
          "state": {
            "_model_module": "@jupyter-widgets/base",
            "_model_module_version": "1.2.0",
            "_model_name": "LayoutModel",
            "_view_count": null,
            "_view_module": "@jupyter-widgets/base",
            "_view_module_version": "1.2.0",
            "_view_name": "LayoutView",
            "align_content": null,
            "align_items": null,
            "align_self": null,
            "border": null,
            "bottom": null,
            "display": null,
            "flex": null,
            "flex_flow": null,
            "grid_area": null,
            "grid_auto_columns": null,
            "grid_auto_flow": null,
            "grid_auto_rows": null,
            "grid_column": null,
            "grid_gap": null,
            "grid_row": null,
            "grid_template_areas": null,
            "grid_template_columns": null,
            "grid_template_rows": null,
            "height": null,
            "justify_content": null,
            "justify_items": null,
            "left": null,
            "margin": null,
            "max_height": null,
            "max_width": null,
            "min_height": null,
            "min_width": null,
            "object_fit": null,
            "object_position": null,
            "order": null,
            "overflow": null,
            "overflow_x": null,
            "overflow_y": null,
            "padding": null,
            "right": null,
            "top": null,
            "visibility": null,
            "width": null
          }
        },
        "2466c0f5ebf6468f899a8e6aff5462ca": {
          "model_module": "@jupyter-widgets/base",
          "model_module_version": "1.2.0",
          "model_name": "LayoutModel",
          "state": {
            "_model_module": "@jupyter-widgets/base",
            "_model_module_version": "1.2.0",
            "_model_name": "LayoutModel",
            "_view_count": null,
            "_view_module": "@jupyter-widgets/base",
            "_view_module_version": "1.2.0",
            "_view_name": "LayoutView",
            "align_content": null,
            "align_items": null,
            "align_self": null,
            "border": null,
            "bottom": null,
            "display": null,
            "flex": null,
            "flex_flow": null,
            "grid_area": null,
            "grid_auto_columns": null,
            "grid_auto_flow": null,
            "grid_auto_rows": null,
            "grid_column": null,
            "grid_gap": null,
            "grid_row": null,
            "grid_template_areas": null,
            "grid_template_columns": null,
            "grid_template_rows": null,
            "height": null,
            "justify_content": null,
            "justify_items": null,
            "left": null,
            "margin": null,
            "max_height": null,
            "max_width": null,
            "min_height": null,
            "min_width": null,
            "object_fit": null,
            "object_position": null,
            "order": null,
            "overflow": null,
            "overflow_x": null,
            "overflow_y": null,
            "padding": null,
            "right": null,
            "top": null,
            "visibility": null,
            "width": null
          }
        },
        "2ed25fc7525e4cc1a80b2b49361fe169": {
          "model_module": "@jupyter-widgets/controls",
          "model_module_version": "1.5.0",
          "model_name": "HBoxModel",
          "state": {
            "_dom_classes": [],
            "_model_module": "@jupyter-widgets/controls",
            "_model_module_version": "1.5.0",
            "_model_name": "HBoxModel",
            "_view_count": null,
            "_view_module": "@jupyter-widgets/controls",
            "_view_module_version": "1.5.0",
            "_view_name": "HBoxView",
            "box_style": "",
            "children": [
              "IPY_MODEL_8552624073bd49beac03e2f3bde6933c",
              "IPY_MODEL_816184fac3274a1db6ce440588a37ea9",
              "IPY_MODEL_6f7859effa8f4cff89617723aca5ad00"
            ],
            "layout": "IPY_MODEL_8e13693e966f45da9b8ddc19012614d9"
          }
        },
        "370e2ae5fa2745af91bcadd8ead54a12": {
          "model_module": "@jupyter-widgets/base",
          "model_module_version": "1.2.0",
          "model_name": "LayoutModel",
          "state": {
            "_model_module": "@jupyter-widgets/base",
            "_model_module_version": "1.2.0",
            "_model_name": "LayoutModel",
            "_view_count": null,
            "_view_module": "@jupyter-widgets/base",
            "_view_module_version": "1.2.0",
            "_view_name": "LayoutView",
            "align_content": null,
            "align_items": null,
            "align_self": null,
            "border": null,
            "bottom": null,
            "display": null,
            "flex": null,
            "flex_flow": null,
            "grid_area": null,
            "grid_auto_columns": null,
            "grid_auto_flow": null,
            "grid_auto_rows": null,
            "grid_column": null,
            "grid_gap": null,
            "grid_row": null,
            "grid_template_areas": null,
            "grid_template_columns": null,
            "grid_template_rows": null,
            "height": null,
            "justify_content": null,
            "justify_items": null,
            "left": null,
            "margin": null,
            "max_height": null,
            "max_width": null,
            "min_height": null,
            "min_width": null,
            "object_fit": null,
            "object_position": null,
            "order": null,
            "overflow": null,
            "overflow_x": null,
            "overflow_y": null,
            "padding": null,
            "right": null,
            "top": null,
            "visibility": null,
            "width": null
          }
        },
        "3b7dd7c6e73c43fb9b9aadeebe770f08": {
          "model_module": "@jupyter-widgets/controls",
          "model_module_version": "1.5.0",
          "model_name": "HBoxModel",
          "state": {
            "_dom_classes": [],
            "_model_module": "@jupyter-widgets/controls",
            "_model_module_version": "1.5.0",
            "_model_name": "HBoxModel",
            "_view_count": null,
            "_view_module": "@jupyter-widgets/controls",
            "_view_module_version": "1.5.0",
            "_view_name": "HBoxView",
            "box_style": "",
            "children": [
              "IPY_MODEL_089704ee20274a06b063e9b872219d9d",
              "IPY_MODEL_7c009fac2e5b41dab81fbafb18a101c0",
              "IPY_MODEL_05663ee8dc9a4062bf6f3a964578b8e2"
            ],
            "layout": "IPY_MODEL_9a7c114b0a134868be14c9ba046ae15b"
          }
        },
        "3d2d3f850d8e46a68aa5f980f639dccc": {
          "model_module": "@jupyter-widgets/base",
          "model_module_version": "1.2.0",
          "model_name": "LayoutModel",
          "state": {
            "_model_module": "@jupyter-widgets/base",
            "_model_module_version": "1.2.0",
            "_model_name": "LayoutModel",
            "_view_count": null,
            "_view_module": "@jupyter-widgets/base",
            "_view_module_version": "1.2.0",
            "_view_name": "LayoutView",
            "align_content": null,
            "align_items": null,
            "align_self": null,
            "border": null,
            "bottom": null,
            "display": null,
            "flex": null,
            "flex_flow": null,
            "grid_area": null,
            "grid_auto_columns": null,
            "grid_auto_flow": null,
            "grid_auto_rows": null,
            "grid_column": null,
            "grid_gap": null,
            "grid_row": null,
            "grid_template_areas": null,
            "grid_template_columns": null,
            "grid_template_rows": null,
            "height": null,
            "justify_content": null,
            "justify_items": null,
            "left": null,
            "margin": null,
            "max_height": null,
            "max_width": null,
            "min_height": null,
            "min_width": null,
            "object_fit": null,
            "object_position": null,
            "order": null,
            "overflow": null,
            "overflow_x": null,
            "overflow_y": null,
            "padding": null,
            "right": null,
            "top": null,
            "visibility": null,
            "width": null
          }
        },
        "3f5452103607449ca2d5ccf24cb595aa": {
          "model_module": "@jupyter-widgets/controls",
          "model_module_version": "1.5.0",
          "model_name": "HTMLModel",
          "state": {
            "_dom_classes": [],
            "_model_module": "@jupyter-widgets/controls",
            "_model_module_version": "1.5.0",
            "_model_name": "HTMLModel",
            "_view_count": null,
            "_view_module": "@jupyter-widgets/controls",
            "_view_module_version": "1.5.0",
            "_view_name": "HTMLView",
            "description": "",
            "description_tooltip": null,
            "layout": "IPY_MODEL_705051cd733f4fb08e89288422eeb5cb",
            "placeholder": "​",
            "style": "IPY_MODEL_8239195b2ad0458e82eca30b6119b571",
            "value": "100%"
          }
        },
        "4280f725a3214d13944142812aceda3c": {
          "model_module": "@jupyter-widgets/base",
          "model_module_version": "1.2.0",
          "model_name": "LayoutModel",
          "state": {
            "_model_module": "@jupyter-widgets/base",
            "_model_module_version": "1.2.0",
            "_model_name": "LayoutModel",
            "_view_count": null,
            "_view_module": "@jupyter-widgets/base",
            "_view_module_version": "1.2.0",
            "_view_name": "LayoutView",
            "align_content": null,
            "align_items": null,
            "align_self": null,
            "border": null,
            "bottom": null,
            "display": null,
            "flex": null,
            "flex_flow": null,
            "grid_area": null,
            "grid_auto_columns": null,
            "grid_auto_flow": null,
            "grid_auto_rows": null,
            "grid_column": null,
            "grid_gap": null,
            "grid_row": null,
            "grid_template_areas": null,
            "grid_template_columns": null,
            "grid_template_rows": null,
            "height": null,
            "justify_content": null,
            "justify_items": null,
            "left": null,
            "margin": null,
            "max_height": null,
            "max_width": null,
            "min_height": null,
            "min_width": null,
            "object_fit": null,
            "object_position": null,
            "order": null,
            "overflow": null,
            "overflow_x": null,
            "overflow_y": null,
            "padding": null,
            "right": null,
            "top": null,
            "visibility": null,
            "width": null
          }
        },
        "43ded7da40e749359147643ac5e569fc": {
          "model_module": "@jupyter-widgets/controls",
          "model_module_version": "1.5.0",
          "model_name": "ProgressStyleModel",
          "state": {
            "_model_module": "@jupyter-widgets/controls",
            "_model_module_version": "1.5.0",
            "_model_name": "ProgressStyleModel",
            "_view_count": null,
            "_view_module": "@jupyter-widgets/base",
            "_view_module_version": "1.2.0",
            "_view_name": "StyleView",
            "bar_color": null,
            "description_width": ""
          }
        },
        "4d5472099b2444dda4cecb6657440fa8": {
          "model_module": "@jupyter-widgets/controls",
          "model_module_version": "1.5.0",
          "model_name": "DescriptionStyleModel",
          "state": {
            "_model_module": "@jupyter-widgets/controls",
            "_model_module_version": "1.5.0",
            "_model_name": "DescriptionStyleModel",
            "_view_count": null,
            "_view_module": "@jupyter-widgets/base",
            "_view_module_version": "1.2.0",
            "_view_name": "StyleView",
            "description_width": ""
          }
        },
        "51cc54fa5b2945f580803a19c7db68d3": {
          "model_module": "@jupyter-widgets/controls",
          "model_module_version": "1.5.0",
          "model_name": "DescriptionStyleModel",
          "state": {
            "_model_module": "@jupyter-widgets/controls",
            "_model_module_version": "1.5.0",
            "_model_name": "DescriptionStyleModel",
            "_view_count": null,
            "_view_module": "@jupyter-widgets/base",
            "_view_module_version": "1.2.0",
            "_view_name": "StyleView",
            "description_width": ""
          }
        },
        "538a9a028e854b92ade523c956b3d5e6": {
          "model_module": "@jupyter-widgets/controls",
          "model_module_version": "1.5.0",
          "model_name": "ProgressStyleModel",
          "state": {
            "_model_module": "@jupyter-widgets/controls",
            "_model_module_version": "1.5.0",
            "_model_name": "ProgressStyleModel",
            "_view_count": null,
            "_view_module": "@jupyter-widgets/base",
            "_view_module_version": "1.2.0",
            "_view_name": "StyleView",
            "bar_color": null,
            "description_width": ""
          }
        },
        "5e8a4c0952a44ee0ad424b25e3151890": {
          "model_module": "@jupyter-widgets/controls",
          "model_module_version": "1.5.0",
          "model_name": "DescriptionStyleModel",
          "state": {
            "_model_module": "@jupyter-widgets/controls",
            "_model_module_version": "1.5.0",
            "_model_name": "DescriptionStyleModel",
            "_view_count": null,
            "_view_module": "@jupyter-widgets/base",
            "_view_module_version": "1.2.0",
            "_view_name": "StyleView",
            "description_width": ""
          }
        },
        "5f496900686448ec8321b872878cbc9b": {
          "model_module": "@jupyter-widgets/controls",
          "model_module_version": "1.5.0",
          "model_name": "HBoxModel",
          "state": {
            "_dom_classes": [],
            "_model_module": "@jupyter-widgets/controls",
            "_model_module_version": "1.5.0",
            "_model_name": "HBoxModel",
            "_view_count": null,
            "_view_module": "@jupyter-widgets/controls",
            "_view_module_version": "1.5.0",
            "_view_name": "HBoxView",
            "box_style": "",
            "children": [
              "IPY_MODEL_d41f67902f5a41d796ba3e3e3ed67401",
              "IPY_MODEL_19ec068972dc49ecbf7c61b6cf11f80c",
              "IPY_MODEL_b8e0faee2d2f48ef94fd7abec2f61f8d"
            ],
            "layout": "IPY_MODEL_d84c9ca61516446aa924828486e693ac"
          }
        },
        "60a483d6afb44c378791c5cfd67f5dec": {
          "model_module": "@jupyter-widgets/base",
          "model_module_version": "1.2.0",
          "model_name": "LayoutModel",
          "state": {
            "_model_module": "@jupyter-widgets/base",
            "_model_module_version": "1.2.0",
            "_model_name": "LayoutModel",
            "_view_count": null,
            "_view_module": "@jupyter-widgets/base",
            "_view_module_version": "1.2.0",
            "_view_name": "LayoutView",
            "align_content": null,
            "align_items": null,
            "align_self": null,
            "border": null,
            "bottom": null,
            "display": null,
            "flex": null,
            "flex_flow": null,
            "grid_area": null,
            "grid_auto_columns": null,
            "grid_auto_flow": null,
            "grid_auto_rows": null,
            "grid_column": null,
            "grid_gap": null,
            "grid_row": null,
            "grid_template_areas": null,
            "grid_template_columns": null,
            "grid_template_rows": null,
            "height": null,
            "justify_content": null,
            "justify_items": null,
            "left": null,
            "margin": null,
            "max_height": null,
            "max_width": null,
            "min_height": null,
            "min_width": null,
            "object_fit": null,
            "object_position": null,
            "order": null,
            "overflow": null,
            "overflow_x": null,
            "overflow_y": null,
            "padding": null,
            "right": null,
            "top": null,
            "visibility": null,
            "width": null
          }
        },
        "6b724c91c3704f11894a60f45738596e": {
          "model_module": "@jupyter-widgets/base",
          "model_module_version": "1.2.0",
          "model_name": "LayoutModel",
          "state": {
            "_model_module": "@jupyter-widgets/base",
            "_model_module_version": "1.2.0",
            "_model_name": "LayoutModel",
            "_view_count": null,
            "_view_module": "@jupyter-widgets/base",
            "_view_module_version": "1.2.0",
            "_view_name": "LayoutView",
            "align_content": null,
            "align_items": null,
            "align_self": null,
            "border": null,
            "bottom": null,
            "display": null,
            "flex": null,
            "flex_flow": null,
            "grid_area": null,
            "grid_auto_columns": null,
            "grid_auto_flow": null,
            "grid_auto_rows": null,
            "grid_column": null,
            "grid_gap": null,
            "grid_row": null,
            "grid_template_areas": null,
            "grid_template_columns": null,
            "grid_template_rows": null,
            "height": null,
            "justify_content": null,
            "justify_items": null,
            "left": null,
            "margin": null,
            "max_height": null,
            "max_width": null,
            "min_height": null,
            "min_width": null,
            "object_fit": null,
            "object_position": null,
            "order": null,
            "overflow": null,
            "overflow_x": null,
            "overflow_y": null,
            "padding": null,
            "right": null,
            "top": null,
            "visibility": null,
            "width": null
          }
        },
        "6c2a08a185c647a390f785295f31d3bb": {
          "model_module": "@jupyter-widgets/base",
          "model_module_version": "1.2.0",
          "model_name": "LayoutModel",
          "state": {
            "_model_module": "@jupyter-widgets/base",
            "_model_module_version": "1.2.0",
            "_model_name": "LayoutModel",
            "_view_count": null,
            "_view_module": "@jupyter-widgets/base",
            "_view_module_version": "1.2.0",
            "_view_name": "LayoutView",
            "align_content": null,
            "align_items": null,
            "align_self": null,
            "border": null,
            "bottom": null,
            "display": null,
            "flex": null,
            "flex_flow": null,
            "grid_area": null,
            "grid_auto_columns": null,
            "grid_auto_flow": null,
            "grid_auto_rows": null,
            "grid_column": null,
            "grid_gap": null,
            "grid_row": null,
            "grid_template_areas": null,
            "grid_template_columns": null,
            "grid_template_rows": null,
            "height": null,
            "justify_content": null,
            "justify_items": null,
            "left": null,
            "margin": null,
            "max_height": null,
            "max_width": null,
            "min_height": null,
            "min_width": null,
            "object_fit": null,
            "object_position": null,
            "order": null,
            "overflow": null,
            "overflow_x": null,
            "overflow_y": null,
            "padding": null,
            "right": null,
            "top": null,
            "visibility": null,
            "width": null
          }
        },
        "6df25ea3efc6474e84aab79c5a458218": {
          "model_module": "@jupyter-widgets/controls",
          "model_module_version": "1.5.0",
          "model_name": "HBoxModel",
          "state": {
            "_dom_classes": [],
            "_model_module": "@jupyter-widgets/controls",
            "_model_module_version": "1.5.0",
            "_model_name": "HBoxModel",
            "_view_count": null,
            "_view_module": "@jupyter-widgets/controls",
            "_view_module_version": "1.5.0",
            "_view_name": "HBoxView",
            "box_style": "",
            "children": [
              "IPY_MODEL_f8d81e49fe7e4d189210d4c7bc9bc801",
              "IPY_MODEL_f153f85c88a24680b5d9a8cf154506b9",
              "IPY_MODEL_773b5c5d755c42b2a2762d0b08301d82"
            ],
            "layout": "IPY_MODEL_7e3173fdb85446e09eaceb3e5ab2c4df"
          }
        },
        "6f7859effa8f4cff89617723aca5ad00": {
          "model_module": "@jupyter-widgets/controls",
          "model_module_version": "1.5.0",
          "model_name": "HTMLModel",
          "state": {
            "_dom_classes": [],
            "_model_module": "@jupyter-widgets/controls",
            "_model_module_version": "1.5.0",
            "_model_name": "HTMLModel",
            "_view_count": null,
            "_view_module": "@jupyter-widgets/controls",
            "_view_module_version": "1.5.0",
            "_view_name": "HTMLView",
            "description": "",
            "description_tooltip": null,
            "layout": "IPY_MODEL_6c2a08a185c647a390f785295f31d3bb",
            "placeholder": "​",
            "style": "IPY_MODEL_92a8e66d49af4715b500eb81d2dad4ba",
            "value": " 500/500 [00:51&lt;00:00,  9.71it/s]"
          }
        },
        "705051cd733f4fb08e89288422eeb5cb": {
          "model_module": "@jupyter-widgets/base",
          "model_module_version": "1.2.0",
          "model_name": "LayoutModel",
          "state": {
            "_model_module": "@jupyter-widgets/base",
            "_model_module_version": "1.2.0",
            "_model_name": "LayoutModel",
            "_view_count": null,
            "_view_module": "@jupyter-widgets/base",
            "_view_module_version": "1.2.0",
            "_view_name": "LayoutView",
            "align_content": null,
            "align_items": null,
            "align_self": null,
            "border": null,
            "bottom": null,
            "display": null,
            "flex": null,
            "flex_flow": null,
            "grid_area": null,
            "grid_auto_columns": null,
            "grid_auto_flow": null,
            "grid_auto_rows": null,
            "grid_column": null,
            "grid_gap": null,
            "grid_row": null,
            "grid_template_areas": null,
            "grid_template_columns": null,
            "grid_template_rows": null,
            "height": null,
            "justify_content": null,
            "justify_items": null,
            "left": null,
            "margin": null,
            "max_height": null,
            "max_width": null,
            "min_height": null,
            "min_width": null,
            "object_fit": null,
            "object_position": null,
            "order": null,
            "overflow": null,
            "overflow_x": null,
            "overflow_y": null,
            "padding": null,
            "right": null,
            "top": null,
            "visibility": null,
            "width": null
          }
        },
        "773b5c5d755c42b2a2762d0b08301d82": {
          "model_module": "@jupyter-widgets/controls",
          "model_module_version": "1.5.0",
          "model_name": "HTMLModel",
          "state": {
            "_dom_classes": [],
            "_model_module": "@jupyter-widgets/controls",
            "_model_module_version": "1.5.0",
            "_model_name": "HTMLModel",
            "_view_count": null,
            "_view_module": "@jupyter-widgets/controls",
            "_view_module_version": "1.5.0",
            "_view_name": "HTMLView",
            "description": "",
            "description_tooltip": null,
            "layout": "IPY_MODEL_97f385808a2f451db3b7fd484e3b4798",
            "placeholder": "​",
            "style": "IPY_MODEL_0fb9c42daff74d749c34f453911ab90c",
            "value": " 500/500 [00:48&lt;00:00,  9.93it/s]"
          }
        },
        "79571185bc4e438194a815ee96830c74": {
          "model_module": "@jupyter-widgets/controls",
          "model_module_version": "1.5.0",
          "model_name": "DescriptionStyleModel",
          "state": {
            "_model_module": "@jupyter-widgets/controls",
            "_model_module_version": "1.5.0",
            "_model_name": "DescriptionStyleModel",
            "_view_count": null,
            "_view_module": "@jupyter-widgets/base",
            "_view_module_version": "1.2.0",
            "_view_name": "StyleView",
            "description_width": ""
          }
        },
        "7c009fac2e5b41dab81fbafb18a101c0": {
          "model_module": "@jupyter-widgets/controls",
          "model_module_version": "1.5.0",
          "model_name": "FloatProgressModel",
          "state": {
            "_dom_classes": [],
            "_model_module": "@jupyter-widgets/controls",
            "_model_module_version": "1.5.0",
            "_model_name": "FloatProgressModel",
            "_view_count": null,
            "_view_module": "@jupyter-widgets/controls",
            "_view_module_version": "1.5.0",
            "_view_name": "ProgressView",
            "bar_style": "success",
            "description": "",
            "description_tooltip": null,
            "layout": "IPY_MODEL_bec675ef696649e29fab3d4c4283b315",
            "max": 500,
            "min": 0,
            "orientation": "horizontal",
            "style": "IPY_MODEL_538a9a028e854b92ade523c956b3d5e6",
            "value": 500
          }
        },
        "7e3173fdb85446e09eaceb3e5ab2c4df": {
          "model_module": "@jupyter-widgets/base",
          "model_module_version": "1.2.0",
          "model_name": "LayoutModel",
          "state": {
            "_model_module": "@jupyter-widgets/base",
            "_model_module_version": "1.2.0",
            "_model_name": "LayoutModel",
            "_view_count": null,
            "_view_module": "@jupyter-widgets/base",
            "_view_module_version": "1.2.0",
            "_view_name": "LayoutView",
            "align_content": null,
            "align_items": null,
            "align_self": null,
            "border": null,
            "bottom": null,
            "display": null,
            "flex": null,
            "flex_flow": null,
            "grid_area": null,
            "grid_auto_columns": null,
            "grid_auto_flow": null,
            "grid_auto_rows": null,
            "grid_column": null,
            "grid_gap": null,
            "grid_row": null,
            "grid_template_areas": null,
            "grid_template_columns": null,
            "grid_template_rows": null,
            "height": null,
            "justify_content": null,
            "justify_items": null,
            "left": null,
            "margin": null,
            "max_height": null,
            "max_width": null,
            "min_height": null,
            "min_width": null,
            "object_fit": null,
            "object_position": null,
            "order": null,
            "overflow": null,
            "overflow_x": null,
            "overflow_y": null,
            "padding": null,
            "right": null,
            "top": null,
            "visibility": null,
            "width": null
          }
        },
        "810aa9993c3343938d1cf8915190ad68": {
          "model_module": "@jupyter-widgets/base",
          "model_module_version": "1.2.0",
          "model_name": "LayoutModel",
          "state": {
            "_model_module": "@jupyter-widgets/base",
            "_model_module_version": "1.2.0",
            "_model_name": "LayoutModel",
            "_view_count": null,
            "_view_module": "@jupyter-widgets/base",
            "_view_module_version": "1.2.0",
            "_view_name": "LayoutView",
            "align_content": null,
            "align_items": null,
            "align_self": null,
            "border": null,
            "bottom": null,
            "display": null,
            "flex": null,
            "flex_flow": null,
            "grid_area": null,
            "grid_auto_columns": null,
            "grid_auto_flow": null,
            "grid_auto_rows": null,
            "grid_column": null,
            "grid_gap": null,
            "grid_row": null,
            "grid_template_areas": null,
            "grid_template_columns": null,
            "grid_template_rows": null,
            "height": null,
            "justify_content": null,
            "justify_items": null,
            "left": null,
            "margin": null,
            "max_height": null,
            "max_width": null,
            "min_height": null,
            "min_width": null,
            "object_fit": null,
            "object_position": null,
            "order": null,
            "overflow": null,
            "overflow_x": null,
            "overflow_y": null,
            "padding": null,
            "right": null,
            "top": null,
            "visibility": null,
            "width": null
          }
        },
        "816184fac3274a1db6ce440588a37ea9": {
          "model_module": "@jupyter-widgets/controls",
          "model_module_version": "1.5.0",
          "model_name": "FloatProgressModel",
          "state": {
            "_dom_classes": [],
            "_model_module": "@jupyter-widgets/controls",
            "_model_module_version": "1.5.0",
            "_model_name": "FloatProgressModel",
            "_view_count": null,
            "_view_module": "@jupyter-widgets/controls",
            "_view_module_version": "1.5.0",
            "_view_name": "ProgressView",
            "bar_style": "success",
            "description": "",
            "description_tooltip": null,
            "layout": "IPY_MODEL_237c75cc609846cfb3efb919b2690fe5",
            "max": 500,
            "min": 0,
            "orientation": "horizontal",
            "style": "IPY_MODEL_cd2c44a8dc8d408fb3d85e6a9b108150",
            "value": 500
          }
        },
        "8239195b2ad0458e82eca30b6119b571": {
          "model_module": "@jupyter-widgets/controls",
          "model_module_version": "1.5.0",
          "model_name": "DescriptionStyleModel",
          "state": {
            "_model_module": "@jupyter-widgets/controls",
            "_model_module_version": "1.5.0",
            "_model_name": "DescriptionStyleModel",
            "_view_count": null,
            "_view_module": "@jupyter-widgets/base",
            "_view_module_version": "1.2.0",
            "_view_name": "StyleView",
            "description_width": ""
          }
        },
        "8552624073bd49beac03e2f3bde6933c": {
          "model_module": "@jupyter-widgets/controls",
          "model_module_version": "1.5.0",
          "model_name": "HTMLModel",
          "state": {
            "_dom_classes": [],
            "_model_module": "@jupyter-widgets/controls",
            "_model_module_version": "1.5.0",
            "_model_name": "HTMLModel",
            "_view_count": null,
            "_view_module": "@jupyter-widgets/controls",
            "_view_module_version": "1.5.0",
            "_view_name": "HTMLView",
            "description": "",
            "description_tooltip": null,
            "layout": "IPY_MODEL_0e7c5f5e9b7140e2a7930f806eed020f",
            "placeholder": "​",
            "style": "IPY_MODEL_4d5472099b2444dda4cecb6657440fa8",
            "value": "100%"
          }
        },
        "8e13693e966f45da9b8ddc19012614d9": {
          "model_module": "@jupyter-widgets/base",
          "model_module_version": "1.2.0",
          "model_name": "LayoutModel",
          "state": {
            "_model_module": "@jupyter-widgets/base",
            "_model_module_version": "1.2.0",
            "_model_name": "LayoutModel",
            "_view_count": null,
            "_view_module": "@jupyter-widgets/base",
            "_view_module_version": "1.2.0",
            "_view_name": "LayoutView",
            "align_content": null,
            "align_items": null,
            "align_self": null,
            "border": null,
            "bottom": null,
            "display": null,
            "flex": null,
            "flex_flow": null,
            "grid_area": null,
            "grid_auto_columns": null,
            "grid_auto_flow": null,
            "grid_auto_rows": null,
            "grid_column": null,
            "grid_gap": null,
            "grid_row": null,
            "grid_template_areas": null,
            "grid_template_columns": null,
            "grid_template_rows": null,
            "height": null,
            "justify_content": null,
            "justify_items": null,
            "left": null,
            "margin": null,
            "max_height": null,
            "max_width": null,
            "min_height": null,
            "min_width": null,
            "object_fit": null,
            "object_position": null,
            "order": null,
            "overflow": null,
            "overflow_x": null,
            "overflow_y": null,
            "padding": null,
            "right": null,
            "top": null,
            "visibility": null,
            "width": null
          }
        },
        "8fcf4dead16045e6b0f0150079ffbb8c": {
          "model_module": "@jupyter-widgets/controls",
          "model_module_version": "1.5.0",
          "model_name": "HBoxModel",
          "state": {
            "_dom_classes": [],
            "_model_module": "@jupyter-widgets/controls",
            "_model_module_version": "1.5.0",
            "_model_name": "HBoxModel",
            "_view_count": null,
            "_view_module": "@jupyter-widgets/controls",
            "_view_module_version": "1.5.0",
            "_view_name": "HBoxView",
            "box_style": "",
            "children": [
              "IPY_MODEL_e59dce9a4d8f43b8b602fee0e024c4d1",
              "IPY_MODEL_eeb6ae8fb1a34cc4a7e7bdb7f259933e",
              "IPY_MODEL_db73b85d2bfa48008c395a63cc3af075"
            ],
            "layout": "IPY_MODEL_96c806cb403c4b928dcd326c46223321"
          }
        },
        "906d8612ba1a42549a35e26ee7bf95ad": {
          "model_module": "@jupyter-widgets/controls",
          "model_module_version": "1.5.0",
          "model_name": "HTMLModel",
          "state": {
            "_dom_classes": [],
            "_model_module": "@jupyter-widgets/controls",
            "_model_module_version": "1.5.0",
            "_model_name": "HTMLModel",
            "_view_count": null,
            "_view_module": "@jupyter-widgets/controls",
            "_view_module_version": "1.5.0",
            "_view_name": "HTMLView",
            "description": "",
            "description_tooltip": null,
            "layout": "IPY_MODEL_ae550c504bd44924a613185749e1d842",
            "placeholder": "​",
            "style": "IPY_MODEL_79571185bc4e438194a815ee96830c74",
            "value": " 5000/5000 [29:49&lt;00:00, 15.68s/it]"
          }
        },
        "92a8e66d49af4715b500eb81d2dad4ba": {
          "model_module": "@jupyter-widgets/controls",
          "model_module_version": "1.5.0",
          "model_name": "DescriptionStyleModel",
          "state": {
            "_model_module": "@jupyter-widgets/controls",
            "_model_module_version": "1.5.0",
            "_model_name": "DescriptionStyleModel",
            "_view_count": null,
            "_view_module": "@jupyter-widgets/base",
            "_view_module_version": "1.2.0",
            "_view_name": "StyleView",
            "description_width": ""
          }
        },
        "96c806cb403c4b928dcd326c46223321": {
          "model_module": "@jupyter-widgets/base",
          "model_module_version": "1.2.0",
          "model_name": "LayoutModel",
          "state": {
            "_model_module": "@jupyter-widgets/base",
            "_model_module_version": "1.2.0",
            "_model_name": "LayoutModel",
            "_view_count": null,
            "_view_module": "@jupyter-widgets/base",
            "_view_module_version": "1.2.0",
            "_view_name": "LayoutView",
            "align_content": null,
            "align_items": null,
            "align_self": null,
            "border": null,
            "bottom": null,
            "display": null,
            "flex": null,
            "flex_flow": null,
            "grid_area": null,
            "grid_auto_columns": null,
            "grid_auto_flow": null,
            "grid_auto_rows": null,
            "grid_column": null,
            "grid_gap": null,
            "grid_row": null,
            "grid_template_areas": null,
            "grid_template_columns": null,
            "grid_template_rows": null,
            "height": null,
            "justify_content": null,
            "justify_items": null,
            "left": null,
            "margin": null,
            "max_height": null,
            "max_width": null,
            "min_height": null,
            "min_width": null,
            "object_fit": null,
            "object_position": null,
            "order": null,
            "overflow": null,
            "overflow_x": null,
            "overflow_y": null,
            "padding": null,
            "right": null,
            "top": null,
            "visibility": null,
            "width": null
          }
        },
        "9706fafc500141cca19e9b9b76b246bf": {
          "model_module": "@jupyter-widgets/controls",
          "model_module_version": "1.5.0",
          "model_name": "DescriptionStyleModel",
          "state": {
            "_model_module": "@jupyter-widgets/controls",
            "_model_module_version": "1.5.0",
            "_model_name": "DescriptionStyleModel",
            "_view_count": null,
            "_view_module": "@jupyter-widgets/base",
            "_view_module_version": "1.2.0",
            "_view_name": "StyleView",
            "description_width": ""
          }
        },
        "97f385808a2f451db3b7fd484e3b4798": {
          "model_module": "@jupyter-widgets/base",
          "model_module_version": "1.2.0",
          "model_name": "LayoutModel",
          "state": {
            "_model_module": "@jupyter-widgets/base",
            "_model_module_version": "1.2.0",
            "_model_name": "LayoutModel",
            "_view_count": null,
            "_view_module": "@jupyter-widgets/base",
            "_view_module_version": "1.2.0",
            "_view_name": "LayoutView",
            "align_content": null,
            "align_items": null,
            "align_self": null,
            "border": null,
            "bottom": null,
            "display": null,
            "flex": null,
            "flex_flow": null,
            "grid_area": null,
            "grid_auto_columns": null,
            "grid_auto_flow": null,
            "grid_auto_rows": null,
            "grid_column": null,
            "grid_gap": null,
            "grid_row": null,
            "grid_template_areas": null,
            "grid_template_columns": null,
            "grid_template_rows": null,
            "height": null,
            "justify_content": null,
            "justify_items": null,
            "left": null,
            "margin": null,
            "max_height": null,
            "max_width": null,
            "min_height": null,
            "min_width": null,
            "object_fit": null,
            "object_position": null,
            "order": null,
            "overflow": null,
            "overflow_x": null,
            "overflow_y": null,
            "padding": null,
            "right": null,
            "top": null,
            "visibility": null,
            "width": null
          }
        },
        "9a7c114b0a134868be14c9ba046ae15b": {
          "model_module": "@jupyter-widgets/base",
          "model_module_version": "1.2.0",
          "model_name": "LayoutModel",
          "state": {
            "_model_module": "@jupyter-widgets/base",
            "_model_module_version": "1.2.0",
            "_model_name": "LayoutModel",
            "_view_count": null,
            "_view_module": "@jupyter-widgets/base",
            "_view_module_version": "1.2.0",
            "_view_name": "LayoutView",
            "align_content": null,
            "align_items": null,
            "align_self": null,
            "border": null,
            "bottom": null,
            "display": null,
            "flex": null,
            "flex_flow": null,
            "grid_area": null,
            "grid_auto_columns": null,
            "grid_auto_flow": null,
            "grid_auto_rows": null,
            "grid_column": null,
            "grid_gap": null,
            "grid_row": null,
            "grid_template_areas": null,
            "grid_template_columns": null,
            "grid_template_rows": null,
            "height": null,
            "justify_content": null,
            "justify_items": null,
            "left": null,
            "margin": null,
            "max_height": null,
            "max_width": null,
            "min_height": null,
            "min_width": null,
            "object_fit": null,
            "object_position": null,
            "order": null,
            "overflow": null,
            "overflow_x": null,
            "overflow_y": null,
            "padding": null,
            "right": null,
            "top": null,
            "visibility": null,
            "width": null
          }
        },
        "9acbf31c3e0847c19ce37b2d39107d69": {
          "model_module": "@jupyter-widgets/controls",
          "model_module_version": "1.5.0",
          "model_name": "DescriptionStyleModel",
          "state": {
            "_model_module": "@jupyter-widgets/controls",
            "_model_module_version": "1.5.0",
            "_model_name": "DescriptionStyleModel",
            "_view_count": null,
            "_view_module": "@jupyter-widgets/base",
            "_view_module_version": "1.2.0",
            "_view_name": "StyleView",
            "description_width": ""
          }
        },
        "ae550c504bd44924a613185749e1d842": {
          "model_module": "@jupyter-widgets/base",
          "model_module_version": "1.2.0",
          "model_name": "LayoutModel",
          "state": {
            "_model_module": "@jupyter-widgets/base",
            "_model_module_version": "1.2.0",
            "_model_name": "LayoutModel",
            "_view_count": null,
            "_view_module": "@jupyter-widgets/base",
            "_view_module_version": "1.2.0",
            "_view_name": "LayoutView",
            "align_content": null,
            "align_items": null,
            "align_self": null,
            "border": null,
            "bottom": null,
            "display": null,
            "flex": null,
            "flex_flow": null,
            "grid_area": null,
            "grid_auto_columns": null,
            "grid_auto_flow": null,
            "grid_auto_rows": null,
            "grid_column": null,
            "grid_gap": null,
            "grid_row": null,
            "grid_template_areas": null,
            "grid_template_columns": null,
            "grid_template_rows": null,
            "height": null,
            "justify_content": null,
            "justify_items": null,
            "left": null,
            "margin": null,
            "max_height": null,
            "max_width": null,
            "min_height": null,
            "min_width": null,
            "object_fit": null,
            "object_position": null,
            "order": null,
            "overflow": null,
            "overflow_x": null,
            "overflow_y": null,
            "padding": null,
            "right": null,
            "top": null,
            "visibility": null,
            "width": null
          }
        },
        "b0ac74a5aa85426db45fbcf05c8941f9": {
          "model_module": "@jupyter-widgets/controls",
          "model_module_version": "1.5.0",
          "model_name": "DescriptionStyleModel",
          "state": {
            "_model_module": "@jupyter-widgets/controls",
            "_model_module_version": "1.5.0",
            "_model_name": "DescriptionStyleModel",
            "_view_count": null,
            "_view_module": "@jupyter-widgets/base",
            "_view_module_version": "1.2.0",
            "_view_name": "StyleView",
            "description_width": ""
          }
        },
        "b1be34ef1e9643b294127541241d28ab": {
          "model_module": "@jupyter-widgets/base",
          "model_module_version": "1.2.0",
          "model_name": "LayoutModel",
          "state": {
            "_model_module": "@jupyter-widgets/base",
            "_model_module_version": "1.2.0",
            "_model_name": "LayoutModel",
            "_view_count": null,
            "_view_module": "@jupyter-widgets/base",
            "_view_module_version": "1.2.0",
            "_view_name": "LayoutView",
            "align_content": null,
            "align_items": null,
            "align_self": null,
            "border": null,
            "bottom": null,
            "display": null,
            "flex": null,
            "flex_flow": null,
            "grid_area": null,
            "grid_auto_columns": null,
            "grid_auto_flow": null,
            "grid_auto_rows": null,
            "grid_column": null,
            "grid_gap": null,
            "grid_row": null,
            "grid_template_areas": null,
            "grid_template_columns": null,
            "grid_template_rows": null,
            "height": null,
            "justify_content": null,
            "justify_items": null,
            "left": null,
            "margin": null,
            "max_height": null,
            "max_width": null,
            "min_height": null,
            "min_width": null,
            "object_fit": null,
            "object_position": null,
            "order": null,
            "overflow": null,
            "overflow_x": null,
            "overflow_y": null,
            "padding": null,
            "right": null,
            "top": null,
            "visibility": null,
            "width": null
          }
        },
        "b3d8cc6294e64e86bf0d7c1ef8606421": {
          "model_module": "@jupyter-widgets/controls",
          "model_module_version": "1.5.0",
          "model_name": "HBoxModel",
          "state": {
            "_dom_classes": [],
            "_model_module": "@jupyter-widgets/controls",
            "_model_module_version": "1.5.0",
            "_model_name": "HBoxModel",
            "_view_count": null,
            "_view_module": "@jupyter-widgets/controls",
            "_view_module_version": "1.5.0",
            "_view_name": "HBoxView",
            "box_style": "",
            "children": [
              "IPY_MODEL_feae0b52e22a49acb734346c34a5e252",
              "IPY_MODEL_e25b5d95ae6346fa82d64188767488f7",
              "IPY_MODEL_906d8612ba1a42549a35e26ee7bf95ad"
            ],
            "layout": "IPY_MODEL_0c20667c100346759a30479871a073b8"
          }
        },
        "b8e0faee2d2f48ef94fd7abec2f61f8d": {
          "model_module": "@jupyter-widgets/controls",
          "model_module_version": "1.5.0",
          "model_name": "HTMLModel",
          "state": {
            "_dom_classes": [],
            "_model_module": "@jupyter-widgets/controls",
            "_model_module_version": "1.5.0",
            "_model_name": "HTMLModel",
            "_view_count": null,
            "_view_module": "@jupyter-widgets/controls",
            "_view_module_version": "1.5.0",
            "_view_name": "HTMLView",
            "description": "",
            "description_tooltip": null,
            "layout": "IPY_MODEL_60a483d6afb44c378791c5cfd67f5dec",
            "placeholder": "​",
            "style": "IPY_MODEL_166c7a7b86204af6bdcc8dc623ba80e7",
            "value": " 500/500 [00:51&lt;00:00,  9.69it/s]"
          }
        },
        "bec675ef696649e29fab3d4c4283b315": {
          "model_module": "@jupyter-widgets/base",
          "model_module_version": "1.2.0",
          "model_name": "LayoutModel",
          "state": {
            "_model_module": "@jupyter-widgets/base",
            "_model_module_version": "1.2.0",
            "_model_name": "LayoutModel",
            "_view_count": null,
            "_view_module": "@jupyter-widgets/base",
            "_view_module_version": "1.2.0",
            "_view_name": "LayoutView",
            "align_content": null,
            "align_items": null,
            "align_self": null,
            "border": null,
            "bottom": null,
            "display": null,
            "flex": null,
            "flex_flow": null,
            "grid_area": null,
            "grid_auto_columns": null,
            "grid_auto_flow": null,
            "grid_auto_rows": null,
            "grid_column": null,
            "grid_gap": null,
            "grid_row": null,
            "grid_template_areas": null,
            "grid_template_columns": null,
            "grid_template_rows": null,
            "height": null,
            "justify_content": null,
            "justify_items": null,
            "left": null,
            "margin": null,
            "max_height": null,
            "max_width": null,
            "min_height": null,
            "min_width": null,
            "object_fit": null,
            "object_position": null,
            "order": null,
            "overflow": null,
            "overflow_x": null,
            "overflow_y": null,
            "padding": null,
            "right": null,
            "top": null,
            "visibility": null,
            "width": null
          }
        },
        "c9e670d2401540e9aec056a5a90b1276": {
          "model_module": "@jupyter-widgets/controls",
          "model_module_version": "1.5.0",
          "model_name": "DescriptionStyleModel",
          "state": {
            "_model_module": "@jupyter-widgets/controls",
            "_model_module_version": "1.5.0",
            "_model_name": "DescriptionStyleModel",
            "_view_count": null,
            "_view_module": "@jupyter-widgets/base",
            "_view_module_version": "1.2.0",
            "_view_name": "StyleView",
            "description_width": ""
          }
        },
        "cd2c44a8dc8d408fb3d85e6a9b108150": {
          "model_module": "@jupyter-widgets/controls",
          "model_module_version": "1.5.0",
          "model_name": "ProgressStyleModel",
          "state": {
            "_model_module": "@jupyter-widgets/controls",
            "_model_module_version": "1.5.0",
            "_model_name": "ProgressStyleModel",
            "_view_count": null,
            "_view_module": "@jupyter-widgets/base",
            "_view_module_version": "1.2.0",
            "_view_name": "StyleView",
            "bar_color": null,
            "description_width": ""
          }
        },
        "cd5a0163ad51476a8d87703ac80c6cb2": {
          "model_module": "@jupyter-widgets/base",
          "model_module_version": "1.2.0",
          "model_name": "LayoutModel",
          "state": {
            "_model_module": "@jupyter-widgets/base",
            "_model_module_version": "1.2.0",
            "_model_name": "LayoutModel",
            "_view_count": null,
            "_view_module": "@jupyter-widgets/base",
            "_view_module_version": "1.2.0",
            "_view_name": "LayoutView",
            "align_content": null,
            "align_items": null,
            "align_self": null,
            "border": null,
            "bottom": null,
            "display": null,
            "flex": null,
            "flex_flow": null,
            "grid_area": null,
            "grid_auto_columns": null,
            "grid_auto_flow": null,
            "grid_auto_rows": null,
            "grid_column": null,
            "grid_gap": null,
            "grid_row": null,
            "grid_template_areas": null,
            "grid_template_columns": null,
            "grid_template_rows": null,
            "height": null,
            "justify_content": null,
            "justify_items": null,
            "left": null,
            "margin": null,
            "max_height": null,
            "max_width": null,
            "min_height": null,
            "min_width": null,
            "object_fit": null,
            "object_position": null,
            "order": null,
            "overflow": null,
            "overflow_x": null,
            "overflow_y": null,
            "padding": null,
            "right": null,
            "top": null,
            "visibility": null,
            "width": null
          }
        },
        "cee75e811a7a4640b440467dce8bd3d9": {
          "model_module": "@jupyter-widgets/base",
          "model_module_version": "1.2.0",
          "model_name": "LayoutModel",
          "state": {
            "_model_module": "@jupyter-widgets/base",
            "_model_module_version": "1.2.0",
            "_model_name": "LayoutModel",
            "_view_count": null,
            "_view_module": "@jupyter-widgets/base",
            "_view_module_version": "1.2.0",
            "_view_name": "LayoutView",
            "align_content": null,
            "align_items": null,
            "align_self": null,
            "border": null,
            "bottom": null,
            "display": null,
            "flex": null,
            "flex_flow": null,
            "grid_area": null,
            "grid_auto_columns": null,
            "grid_auto_flow": null,
            "grid_auto_rows": null,
            "grid_column": null,
            "grid_gap": null,
            "grid_row": null,
            "grid_template_areas": null,
            "grid_template_columns": null,
            "grid_template_rows": null,
            "height": null,
            "justify_content": null,
            "justify_items": null,
            "left": null,
            "margin": null,
            "max_height": null,
            "max_width": null,
            "min_height": null,
            "min_width": null,
            "object_fit": null,
            "object_position": null,
            "order": null,
            "overflow": null,
            "overflow_x": null,
            "overflow_y": null,
            "padding": null,
            "right": null,
            "top": null,
            "visibility": null,
            "width": null
          }
        },
        "d0e0d2bf8f2e4856885b810135954aaf": {
          "model_module": "@jupyter-widgets/base",
          "model_module_version": "1.2.0",
          "model_name": "LayoutModel",
          "state": {
            "_model_module": "@jupyter-widgets/base",
            "_model_module_version": "1.2.0",
            "_model_name": "LayoutModel",
            "_view_count": null,
            "_view_module": "@jupyter-widgets/base",
            "_view_module_version": "1.2.0",
            "_view_name": "LayoutView",
            "align_content": null,
            "align_items": null,
            "align_self": null,
            "border": null,
            "bottom": null,
            "display": null,
            "flex": null,
            "flex_flow": null,
            "grid_area": null,
            "grid_auto_columns": null,
            "grid_auto_flow": null,
            "grid_auto_rows": null,
            "grid_column": null,
            "grid_gap": null,
            "grid_row": null,
            "grid_template_areas": null,
            "grid_template_columns": null,
            "grid_template_rows": null,
            "height": null,
            "justify_content": null,
            "justify_items": null,
            "left": null,
            "margin": null,
            "max_height": null,
            "max_width": null,
            "min_height": null,
            "min_width": null,
            "object_fit": null,
            "object_position": null,
            "order": null,
            "overflow": null,
            "overflow_x": null,
            "overflow_y": null,
            "padding": null,
            "right": null,
            "top": null,
            "visibility": null,
            "width": null
          }
        },
        "d41f67902f5a41d796ba3e3e3ed67401": {
          "model_module": "@jupyter-widgets/controls",
          "model_module_version": "1.5.0",
          "model_name": "HTMLModel",
          "state": {
            "_dom_classes": [],
            "_model_module": "@jupyter-widgets/controls",
            "_model_module_version": "1.5.0",
            "_model_name": "HTMLModel",
            "_view_count": null,
            "_view_module": "@jupyter-widgets/controls",
            "_view_module_version": "1.5.0",
            "_view_name": "HTMLView",
            "description": "",
            "description_tooltip": null,
            "layout": "IPY_MODEL_cee75e811a7a4640b440467dce8bd3d9",
            "placeholder": "​",
            "style": "IPY_MODEL_b0ac74a5aa85426db45fbcf05c8941f9",
            "value": "100%"
          }
        },
        "d84c9ca61516446aa924828486e693ac": {
          "model_module": "@jupyter-widgets/base",
          "model_module_version": "1.2.0",
          "model_name": "LayoutModel",
          "state": {
            "_model_module": "@jupyter-widgets/base",
            "_model_module_version": "1.2.0",
            "_model_name": "LayoutModel",
            "_view_count": null,
            "_view_module": "@jupyter-widgets/base",
            "_view_module_version": "1.2.0",
            "_view_name": "LayoutView",
            "align_content": null,
            "align_items": null,
            "align_self": null,
            "border": null,
            "bottom": null,
            "display": null,
            "flex": null,
            "flex_flow": null,
            "grid_area": null,
            "grid_auto_columns": null,
            "grid_auto_flow": null,
            "grid_auto_rows": null,
            "grid_column": null,
            "grid_gap": null,
            "grid_row": null,
            "grid_template_areas": null,
            "grid_template_columns": null,
            "grid_template_rows": null,
            "height": null,
            "justify_content": null,
            "justify_items": null,
            "left": null,
            "margin": null,
            "max_height": null,
            "max_width": null,
            "min_height": null,
            "min_width": null,
            "object_fit": null,
            "object_position": null,
            "order": null,
            "overflow": null,
            "overflow_x": null,
            "overflow_y": null,
            "padding": null,
            "right": null,
            "top": null,
            "visibility": null,
            "width": null
          }
        },
        "db73b85d2bfa48008c395a63cc3af075": {
          "model_module": "@jupyter-widgets/controls",
          "model_module_version": "1.5.0",
          "model_name": "HTMLModel",
          "state": {
            "_dom_classes": [],
            "_model_module": "@jupyter-widgets/controls",
            "_model_module_version": "1.5.0",
            "_model_name": "HTMLModel",
            "_view_count": null,
            "_view_module": "@jupyter-widgets/controls",
            "_view_module_version": "1.5.0",
            "_view_name": "HTMLView",
            "description": "",
            "description_tooltip": null,
            "layout": "IPY_MODEL_2466c0f5ebf6468f899a8e6aff5462ca",
            "placeholder": "​",
            "style": "IPY_MODEL_9706fafc500141cca19e9b9b76b246bf",
            "value": " 500/500 [00:51&lt;00:00,  9.65it/s]"
          }
        },
        "e25b5d95ae6346fa82d64188767488f7": {
          "model_module": "@jupyter-widgets/controls",
          "model_module_version": "1.5.0",
          "model_name": "FloatProgressModel",
          "state": {
            "_dom_classes": [],
            "_model_module": "@jupyter-widgets/controls",
            "_model_module_version": "1.5.0",
            "_model_name": "FloatProgressModel",
            "_view_count": null,
            "_view_module": "@jupyter-widgets/controls",
            "_view_module_version": "1.5.0",
            "_view_name": "ProgressView",
            "bar_style": "success",
            "description": "",
            "description_tooltip": null,
            "layout": "IPY_MODEL_d0e0d2bf8f2e4856885b810135954aaf",
            "max": 5000,
            "min": 0,
            "orientation": "horizontal",
            "style": "IPY_MODEL_43ded7da40e749359147643ac5e569fc",
            "value": 5000
          }
        },
        "e59dce9a4d8f43b8b602fee0e024c4d1": {
          "model_module": "@jupyter-widgets/controls",
          "model_module_version": "1.5.0",
          "model_name": "HTMLModel",
          "state": {
            "_dom_classes": [],
            "_model_module": "@jupyter-widgets/controls",
            "_model_module_version": "1.5.0",
            "_model_name": "HTMLModel",
            "_view_count": null,
            "_view_module": "@jupyter-widgets/controls",
            "_view_module_version": "1.5.0",
            "_view_name": "HTMLView",
            "description": "",
            "description_tooltip": null,
            "layout": "IPY_MODEL_370e2ae5fa2745af91bcadd8ead54a12",
            "placeholder": "​",
            "style": "IPY_MODEL_5e8a4c0952a44ee0ad424b25e3151890",
            "value": "100%"
          }
        },
        "e7f49fc1ac3243448665933a4cb37860": {
          "model_module": "@jupyter-widgets/base",
          "model_module_version": "1.2.0",
          "model_name": "LayoutModel",
          "state": {
            "_model_module": "@jupyter-widgets/base",
            "_model_module_version": "1.2.0",
            "_model_name": "LayoutModel",
            "_view_count": null,
            "_view_module": "@jupyter-widgets/base",
            "_view_module_version": "1.2.0",
            "_view_name": "LayoutView",
            "align_content": null,
            "align_items": null,
            "align_self": null,
            "border": null,
            "bottom": null,
            "display": null,
            "flex": null,
            "flex_flow": null,
            "grid_area": null,
            "grid_auto_columns": null,
            "grid_auto_flow": null,
            "grid_auto_rows": null,
            "grid_column": null,
            "grid_gap": null,
            "grid_row": null,
            "grid_template_areas": null,
            "grid_template_columns": null,
            "grid_template_rows": null,
            "height": null,
            "justify_content": null,
            "justify_items": null,
            "left": null,
            "margin": null,
            "max_height": null,
            "max_width": null,
            "min_height": null,
            "min_width": null,
            "object_fit": null,
            "object_position": null,
            "order": null,
            "overflow": null,
            "overflow_x": null,
            "overflow_y": null,
            "padding": null,
            "right": null,
            "top": null,
            "visibility": null,
            "width": null
          }
        },
        "ec6659c7128945d4a1f1e79e970478ff": {
          "model_module": "@jupyter-widgets/controls",
          "model_module_version": "1.5.0",
          "model_name": "HTMLModel",
          "state": {
            "_dom_classes": [],
            "_model_module": "@jupyter-widgets/controls",
            "_model_module_version": "1.5.0",
            "_model_name": "HTMLModel",
            "_view_count": null,
            "_view_module": "@jupyter-widgets/controls",
            "_view_module_version": "1.5.0",
            "_view_name": "HTMLView",
            "description": "",
            "description_tooltip": null,
            "layout": "IPY_MODEL_3d2d3f850d8e46a68aa5f980f639dccc",
            "placeholder": "​",
            "style": "IPY_MODEL_c9e670d2401540e9aec056a5a90b1276",
            "value": " 500/500 [00:51&lt;00:00,  9.61it/s]"
          }
        },
        "eeb6ae8fb1a34cc4a7e7bdb7f259933e": {
          "model_module": "@jupyter-widgets/controls",
          "model_module_version": "1.5.0",
          "model_name": "FloatProgressModel",
          "state": {
            "_dom_classes": [],
            "_model_module": "@jupyter-widgets/controls",
            "_model_module_version": "1.5.0",
            "_model_name": "FloatProgressModel",
            "_view_count": null,
            "_view_module": "@jupyter-widgets/controls",
            "_view_module_version": "1.5.0",
            "_view_name": "ProgressView",
            "bar_style": "success",
            "description": "",
            "description_tooltip": null,
            "layout": "IPY_MODEL_b1be34ef1e9643b294127541241d28ab",
            "max": 500,
            "min": 0,
            "orientation": "horizontal",
            "style": "IPY_MODEL_0d2aa50461564723bf98d8a215e32a90",
            "value": 500
          }
        },
        "f153f85c88a24680b5d9a8cf154506b9": {
          "model_module": "@jupyter-widgets/controls",
          "model_module_version": "1.5.0",
          "model_name": "FloatProgressModel",
          "state": {
            "_dom_classes": [],
            "_model_module": "@jupyter-widgets/controls",
            "_model_module_version": "1.5.0",
            "_model_name": "FloatProgressModel",
            "_view_count": null,
            "_view_module": "@jupyter-widgets/controls",
            "_view_module_version": "1.5.0",
            "_view_name": "ProgressView",
            "bar_style": "success",
            "description": "",
            "description_tooltip": null,
            "layout": "IPY_MODEL_6b724c91c3704f11894a60f45738596e",
            "max": 500,
            "min": 0,
            "orientation": "horizontal",
            "style": "IPY_MODEL_15ebbf566b0a4109841e8a1c6dfe3b35",
            "value": 500
          }
        },
        "f8d81e49fe7e4d189210d4c7bc9bc801": {
          "model_module": "@jupyter-widgets/controls",
          "model_module_version": "1.5.0",
          "model_name": "HTMLModel",
          "state": {
            "_dom_classes": [],
            "_model_module": "@jupyter-widgets/controls",
            "_model_module_version": "1.5.0",
            "_model_name": "HTMLModel",
            "_view_count": null,
            "_view_module": "@jupyter-widgets/controls",
            "_view_module_version": "1.5.0",
            "_view_name": "HTMLView",
            "description": "",
            "description_tooltip": null,
            "layout": "IPY_MODEL_fc3d53643f40485e9c181291689b51e6",
            "placeholder": "​",
            "style": "IPY_MODEL_9acbf31c3e0847c19ce37b2d39107d69",
            "value": "100%"
          }
        },
        "fc3d53643f40485e9c181291689b51e6": {
          "model_module": "@jupyter-widgets/base",
          "model_module_version": "1.2.0",
          "model_name": "LayoutModel",
          "state": {
            "_model_module": "@jupyter-widgets/base",
            "_model_module_version": "1.2.0",
            "_model_name": "LayoutModel",
            "_view_count": null,
            "_view_module": "@jupyter-widgets/base",
            "_view_module_version": "1.2.0",
            "_view_name": "LayoutView",
            "align_content": null,
            "align_items": null,
            "align_self": null,
            "border": null,
            "bottom": null,
            "display": null,
            "flex": null,
            "flex_flow": null,
            "grid_area": null,
            "grid_auto_columns": null,
            "grid_auto_flow": null,
            "grid_auto_rows": null,
            "grid_column": null,
            "grid_gap": null,
            "grid_row": null,
            "grid_template_areas": null,
            "grid_template_columns": null,
            "grid_template_rows": null,
            "height": null,
            "justify_content": null,
            "justify_items": null,
            "left": null,
            "margin": null,
            "max_height": null,
            "max_width": null,
            "min_height": null,
            "min_width": null,
            "object_fit": null,
            "object_position": null,
            "order": null,
            "overflow": null,
            "overflow_x": null,
            "overflow_y": null,
            "padding": null,
            "right": null,
            "top": null,
            "visibility": null,
            "width": null
          }
        },
        "feae0b52e22a49acb734346c34a5e252": {
          "model_module": "@jupyter-widgets/controls",
          "model_module_version": "1.5.0",
          "model_name": "HTMLModel",
          "state": {
            "_dom_classes": [],
            "_model_module": "@jupyter-widgets/controls",
            "_model_module_version": "1.5.0",
            "_model_name": "HTMLModel",
            "_view_count": null,
            "_view_module": "@jupyter-widgets/controls",
            "_view_module_version": "1.5.0",
            "_view_name": "HTMLView",
            "description": "",
            "description_tooltip": null,
            "layout": "IPY_MODEL_cd5a0163ad51476a8d87703ac80c6cb2",
            "placeholder": "​",
            "style": "IPY_MODEL_51cc54fa5b2945f580803a19c7db68d3",
            "value": "100%"
          }
        }
      }
    }
  },
  "nbformat": 4,
  "nbformat_minor": 5
}
